{
 "cells": [
  {
   "cell_type": "markdown",
   "metadata": {},
   "source": [
    "# Coursera Capstone Project\n",
    "This notebook is going to be mainly used for the capstone project."
   ]
  },
  {
   "cell_type": "code",
   "execution_count": null,
   "metadata": {},
   "outputs": [],
   "source": [
    "import pandas as pd\n",
    "import numpy as np\n",
    "import requests\n",
    "from bs4 import BeautifulSoup"
   ]
  },
  {
   "cell_type": "markdown",
   "metadata": {},
   "source": [
    "#### The first step is to scrape a wikipedia page to get the name of all neighboorhoods in Toronto."
   ]
  },
  {
   "cell_type": "code",
   "execution_count": null,
   "metadata": {},
   "outputs": [],
   "source": [
    "url = \"https://en.wikipedia.org/wiki/List_of_postal_codes_of_Canada:_M\"\n",
    "r = requests.get(url)\n",
    "html = r.text"
   ]
  },
  {
   "cell_type": "markdown",
   "metadata": {},
   "source": [
    "#### We are going to use the Beautifulsoup library to pull the data out of thw Html file that we got from wikipedia"
   ]
  },
  {
   "cell_type": "code",
   "execution_count": null,
   "metadata": {},
   "outputs": [],
   "source": [
    "soup = BeautifulSoup(html,'lxml')\n",
    "table = soup.find_all('tr')##get all the items that are in the table\n",
    "table = table[0:289] ##get only the relevant lines\n",
    "##Separate the items in the table\n",
    "postcode = []\n",
    "borough = []\n",
    "neigh = []\n",
    "for i in table:\n",
    "    words = i.text.split('\\n')\n",
    "    postcode.append(words[1])\n",
    "    borough.append(words[2])\n",
    "    neigh.append(words[3])"
   ]
  },
  {
   "cell_type": "markdown",
   "metadata": {},
   "source": [
    "#### Let's create a dataframe with the items that we got"
   ]
  },
  {
   "cell_type": "code",
   "execution_count": null,
   "metadata": {},
   "outputs": [],
   "source": [
    "df_toronto = pd.DataFrame({'PostalCode':postcode,'Borough':borough,'Neighboorhood':neigh})\n",
    "df_toronto = df_toronto.drop(0)\n",
    "df_toronto.head()"
   ]
  },
  {
   "cell_type": "markdown",
   "metadata": {},
   "source": [
    "#### Next, we wil remove all lines that has Borough = Not assigned"
   ]
  },
  {
   "cell_type": "code",
   "execution_count": null,
   "metadata": {},
   "outputs": [],
   "source": [
    "df_toronto = df_toronto[df_toronto['Borough'] != 'Not assigned']\n",
    "df_toronto.head()"
   ]
  },
  {
   "cell_type": "markdown",
   "metadata": {},
   "source": [
    "#### If a cell has a borough but a Not assigned neighborhood, then the neighborhood will be the same as the borough."
   ]
  },
  {
   "cell_type": "code",
   "execution_count": null,
   "metadata": {},
   "outputs": [],
   "source": [
    "for index,row in df_toronto.iterrows():\n",
    "    if(row['Neighboorhood']=='Not assigned'):\n",
    "        df_toronto.loc[index,'Neighboorhood'] = df_toronto.loc[index,'Borough']\n",
    "df_toronto = df_toronto.reset_index().drop(columns=\"index\") ##reset index\n",
    "df_toronto.head()"
   ]
  },
  {
   "cell_type": "markdown",
   "metadata": {},
   "source": [
    "#### Note that more than one Neighboorhood can exist in one postal code area. In this cases, we will combine these rows. "
   ]
  },
  {
   "cell_type": "code",
   "execution_count": null,
   "metadata": {},
   "outputs": [],
   "source": [
    "def merge_rows(data,postal):\n",
    "    df = data[data[\"PostalCode\"] == postal]\n",
    "    neigh = ''\n",
    "    for i , row in df.iterrows():\n",
    "        borough = row['Borough']\n",
    "        neigh += row['Neighboorhood'] + ', '\n",
    "    return postal,borough,neigh[:-2]"
   ]
  },
  {
   "cell_type": "code",
   "execution_count": 97,
   "metadata": {},
   "outputs": [
    {
     "data": {
      "text/html": [
       "<div>\n",
       "<style scoped>\n",
       "    .dataframe tbody tr th:only-of-type {\n",
       "        vertical-align: middle;\n",
       "    }\n",
       "\n",
       "    .dataframe tbody tr th {\n",
       "        vertical-align: top;\n",
       "    }\n",
       "\n",
       "    .dataframe thead th {\n",
       "        text-align: right;\n",
       "    }\n",
       "</style>\n",
       "<table border=\"1\" class=\"dataframe\">\n",
       "  <thead>\n",
       "    <tr style=\"text-align: right;\">\n",
       "      <th></th>\n",
       "      <th>PostalCode</th>\n",
       "      <th>Borough</th>\n",
       "      <th>Neighboorhood</th>\n",
       "    </tr>\n",
       "  </thead>\n",
       "  <tbody>\n",
       "    <tr>\n",
       "      <th>M3A</th>\n",
       "      <td>M3A</td>\n",
       "      <td>North York</td>\n",
       "      <td>Parkwoods</td>\n",
       "    </tr>\n",
       "    <tr>\n",
       "      <th>M4A</th>\n",
       "      <td>M4A</td>\n",
       "      <td>North York</td>\n",
       "      <td>Victoria Village</td>\n",
       "    </tr>\n",
       "    <tr>\n",
       "      <th>M5A</th>\n",
       "      <td>M5A</td>\n",
       "      <td>Downtown Toronto</td>\n",
       "      <td>Harbourfront, Regent Park</td>\n",
       "    </tr>\n",
       "    <tr>\n",
       "      <th>M6A</th>\n",
       "      <td>M6A</td>\n",
       "      <td>North York</td>\n",
       "      <td>Lawrence Heights, Lawrence Manor</td>\n",
       "    </tr>\n",
       "    <tr>\n",
       "      <th>M7A</th>\n",
       "      <td>M7A</td>\n",
       "      <td>Queen's Park</td>\n",
       "      <td>Queen's Park</td>\n",
       "    </tr>\n",
       "  </tbody>\n",
       "</table>\n",
       "</div>"
      ],
      "text/plain": [
       "    PostalCode           Borough                     Neighboorhood\n",
       "M3A        M3A        North York                         Parkwoods\n",
       "M4A        M4A        North York                  Victoria Village\n",
       "M5A        M5A  Downtown Toronto         Harbourfront, Regent Park\n",
       "M6A        M6A        North York  Lawrence Heights, Lawrence Manor\n",
       "M7A        M7A      Queen's Park                      Queen's Park"
      ]
     },
     "execution_count": 97,
     "metadata": {},
     "output_type": "execute_result"
    }
   ],
   "source": [
    "postalcodes = df_toronto['PostalCode'].unique()\n",
    "data_toronto = pd.DataFrame(columns=['PostalCode','Borough','Neighboorhood'])\n",
    "for p in postalcodes:\n",
    "    postal,borough,neigh = merge_rows(df_toronto,p)\n",
    "    data_toronto.loc[postal] = [postal,borough,neigh]\n",
    "data_toronto = data_toronto.reset_index().drop(columns='index')\n",
    "data_toronto"
   ]
  }
 ],
 "metadata": {
  "kernelspec": {
   "display_name": "Python 3",
   "language": "python",
   "name": "python3"
  },
  "language_info": {
   "codemirror_mode": {
    "name": "ipython",
    "version": 3
   },
   "file_extension": ".py",
   "mimetype": "text/x-python",
   "name": "python",
   "nbconvert_exporter": "python",
   "pygments_lexer": "ipython3",
   "version": "3.7.1"
  }
 },
 "nbformat": 4,
 "nbformat_minor": 2
}
