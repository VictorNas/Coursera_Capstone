{
 "cells": [
  {
   "cell_type": "markdown",
   "metadata": {},
   "source": [
    "# Clustering European Capitals Venues Cost"
   ]
  },
  {
   "cell_type": "markdown",
   "metadata": {},
   "source": [
    "## 1. Introduction"
   ]
  },
  {
   "cell_type": "markdown",
   "metadata": {},
   "source": [
    "### 1.1 Background"
   ]
  },
  {
   "cell_type": "markdown",
   "metadata": {},
   "source": [
    "Europe is a local with outstanding landscapes, home of many different cultures, rich in history, literature, architecture and music. It's a place that exposes its inhabitants and travelers to multiple languages, cultures, cuisines and many others experiences.\n",
    "For those people who wants to take a trip or to move to some city in Europe, one crucial factor to take in considerantion in the planning it's to estimate costs of the city that you planning to go. For that, it would be nice to compare the mean costs of each city e futhermore to understand how the costs of a certain category ('cofee','shop',food) contributes with the mean cost of the city."
   ]
  },
  {
   "cell_type": "markdown",
   "metadata": {},
   "source": [
    "### 1.2 The Problem"
   ]
  },
  {
   "cell_type": "markdown",
   "metadata": {},
   "source": [
    "The problem consists in using the data for clustering the capitals of all countries in europe based in the costs of its venues. The ideia is that cities with similar venues costs stay in the same cluster."
   ]
  },
  {
   "cell_type": "markdown",
   "metadata": {},
   "source": [
    "## 2. The Data"
   ]
  },
  {
   "cell_type": "markdown",
   "metadata": {},
   "source": [
    "To solve this problem the Foursquare API will be used to collect a large number of venues for each capital of Europe. For each venue it is important to know the name, the category and the mean cost. Then, after obtaining, cleaning, and preparing the data, an algorithm for clustering like K-Means will be applied. "
   ]
  }
 ],
 "metadata": {
  "kernelspec": {
   "display_name": "Python 3",
   "language": "python",
   "name": "python3"
  },
  "language_info": {
   "codemirror_mode": {
    "name": "ipython",
    "version": 3
   },
   "file_extension": ".py",
   "mimetype": "text/x-python",
   "name": "python",
   "nbconvert_exporter": "python",
   "pygments_lexer": "ipython3",
   "version": "3.7.1"
  }
 },
 "nbformat": 4,
 "nbformat_minor": 2
}
