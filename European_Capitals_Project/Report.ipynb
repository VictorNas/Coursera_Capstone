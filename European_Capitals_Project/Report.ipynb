{
 "cells": [
  {
   "cell_type": "markdown",
   "metadata": {},
   "source": [
    "# Project: Clustering European Capitals"
   ]
  },
  {
   "cell_type": "markdown",
   "metadata": {},
   "source": [
    "## Table of Contents\n",
    "* 1.Introduction\n",
    "* 2.Data Section\n",
    "* 3.Methodology\n",
    "* 4.Results and Discussion\n",
    "* 5.Conclusion"
   ]
  },
  {
   "cell_type": "markdown",
   "metadata": {},
   "source": [
    "## 1. Introduction"
   ]
  },
  {
   "cell_type": "markdown",
   "metadata": {},
   "source": [
    "### 1.1 Background"
   ]
  },
  {
   "cell_type": "markdown",
   "metadata": {},
   "source": [
    "Europe is a local with outstanding landscapes, home of many different cultures, rich in history, literature, architecture and music. It's a place that exposes its inhabitants and travelers to multiple languages, cultures, cuisines and many others experiences.\n",
    "For those people who wants to take a trip or to move to some city in Europe it would be nice to know which city of Europe is more similar with the city that this person is currently living in. Besides that, for sake of curiosity, it would be nice to know which venues are the most common in each city.\n"
   ]
  },
  {
   "cell_type": "markdown",
   "metadata": {},
   "source": [
    "### 1.2 The Problem"
   ]
  },
  {
   "cell_type": "markdown",
   "metadata": {},
   "source": [
    "The problem consists in using the data for clustering the capitals of all countries in europe based in its most common venues. This project has two main objectives:\n",
    " * __First__: Cluster the European Capitals based in its similarity.\n",
    " * __Second__ : Answer which European capital is more similar to a given city. In this project, the city of Toronto it will be the 'given city' for this part of the project.\n"
   ]
  },
  {
   "cell_type": "markdown",
   "metadata": {},
   "source": [
    "## 2. The Data"
   ]
  },
  {
   "cell_type": "markdown",
   "metadata": {},
   "source": [
    "### 2.1 Collecting the Data"
   ]
  },
  {
   "cell_type": "markdown",
   "metadata": {},
   "source": [
    "For collecting the data to solve this problem, the first step was to scrape a [Wikipedia](https://en.wikipedia.org/wiki/List_of_sovereign_states_and_dependent_territories_in_Europe) page to get all the capitals from Europe. In total, there are internationally recognised sovereign states in Europe. However, since The Vatican City is actually located inside the city of Rome, which is other European capital, the Vatican city was excluded of this analysis.\n",
    "After collecting all the relevant information from the wikipedia page, the Nominatim library was used to get the Latitude and Longitude for each European Capital.\n",
    "\n",
    "In the next step the [Foursquare API](https://developer.foursquare.com/) was used to collect a large number of venues for each capital. It was collected almost 700 venues for each capital with a radius of 30000 meters from their respected Latitude and Longitude. The following data was collected for each venue: the name of the venue, its category, its latitude and its longitude. After these steps, all these information was store in a Dataframe with all the possible duplicates eliminated. In the end, 25332 venues of 489 categories was collected. The resulting Data Frame looks the image below, where each row represents a venue.\n",
    "\n",
    "[Table 1](Images/Table1.png)\n",
    "![Table 1](Images/Table1.png)\n",
    "\n"
   ]
  },
  {
   "cell_type": "markdown",
   "metadata": {},
   "source": [
    "### 2.2 Cleaning and Preparing the Data"
   ]
  },
  {
   "cell_type": "markdown",
   "metadata": {},
   "source": [
    "After collecting the data, it was necessary to clean it and preparing it for the clustering step. For that, it was made one column per Venue Category and the data frame was grouped by the name of the capital in a way that each row would represent a capital, and each cell would represented the frequency of a venue category in that city. After this step the resulting Data Frame looked like the table below.\n",
    "\n",
    "[Table 2](Images/Table2.png)\n",
    "![Table 2](Images/Table2.png)\n"
   ]
  },
  {
   "cell_type": "markdown",
   "metadata": {},
   "source": [
    "## 3. Methodology"
   ]
  },
  {
   "cell_type": "markdown",
   "metadata": {},
   "source": [
    "### 3.1 Criteria and Analysis"
   ]
  },
  {
   "cell_type": "markdown",
   "metadata": {},
   "source": [
    "After preparing the data, it was made some exploratory analysis of the data. First, it was noted that there were different categories that mean almost the same things. For instance, the categories *Coffee Shop* and *Café* and the categories *Gym* and *Gym / Fitness Center*. As these categories are some of the most frequent categories, it was decided to rename the first two categories for the label *Coffee* and the last two for *Gym*.\n",
    "\n",
    "After do that, a data frame was made to show the 10 most frequent categories for each capital, as shown in the table below.\n",
    "\n",
    " [Table 3](Images/Table_3.png)\n",
    "![Table 3](Images/Table_3.png)\n",
    "\n",
    "The objective of this project is try to identify the similarity of the cities based in its venues categories, more specifically based in its peculiarities. As long that there are venues categories that are in the most frequent in almost all the cities, it was decided that venues categories that were in the Top 5 most frequent venues for 40 or more capitals would be disregarded. So, the next step it was to identify these categories. For that, it was made the following bar plot that shows the frequency of the Top 5 categories that appears in the **Table 3**.\n",
    "\n",
    "![Bar 1](Images/Bar_1.png)\n",
    "\n",
    "As shown in the Figure above, the venues categories *Coffee*, *Supermarket*, *Gym* and *Park* appears in the list of more frequent in at least 40 of our 49 capitals. As a criteria for this work, these categories were disregarded.\n"
   ]
  },
  {
   "cell_type": "markdown",
   "metadata": {},
   "source": [
    "### 3.2 Clustering"
   ]
  },
  {
   "cell_type": "markdown",
   "metadata": {},
   "source": [
    "Now the the data is prepared, it's time to cluster our capitals. Since our data is not labeled and we are trying to identify patterns in our capitals the unsupervised algorithm K-Means was chosen. To realize this task the [sklearn](https://scikit-learn.org/stable/modules/generated/sklearn.cluster.KMeans.html) library was used.\n",
    "\n",
    "The capitals were divided in 10 different clusters. The Figure below shows the Europe with our clusters, where which color represents a different cluster. In the Results section each cluster will be deeply analysed.\n",
    "\n",
    "![Europe](Images/Europe.png)\n",
    "\n",
    "For the second part of this project, which is try to identify which capita from europe the city of Toronto is more similar based in its venues, all the steps described in this reported were applied again to obtain the data of the city of Toronto, except the part of clustering. Instead of that, we used the model above, already classified, to try to predict the label of the new city. The results can be seen in the Results section.\n"
   ]
  },
  {
   "cell_type": "markdown",
   "metadata": {},
   "source": [
    "## 4. Results and Discussion\n",
    "### 4.1 Clusters of European Capitals"
   ]
  },
  {
   "cell_type": "markdown",
   "metadata": {},
   "source": [
    "In this section it will be presented all the clusters that were obtained using the K-Means algorithm:"
   ]
  },
  {
   "cell_type": "markdown",
   "metadata": {},
   "source": [
    "### Cluster 1\n",
    "The Table below shows all the capitals that ended in the first cluster along with the it's 10 Most Common Venues.\n",
    "\n",
    "[Table 4](Images/Cluster_1.png)\n",
    "![Table_Cluster 1](Images/Cluster_1.png)\n",
    "\n",
    "In the Bar Plot Below we can see the 5 Most Frequent Venues Categories that are presents in the Table 4.\n",
    "<img src=\"Images/Bar_Cluster1.png\" alt=\"Drawing\" style=\"width: 700px;\"/>\n",
    "\n",
    "It's seems like in the cluster all the capitals has the Plaza venue as one of its most frequent. Following by the venue bar and Theater"
   ]
  },
  {
   "cell_type": "markdown",
   "metadata": {},
   "source": [
    "### Cluster 2\n",
    "The Table below shows all the capitals that ended in the second cluster along with the it's 10 Most Common Venues.\n",
    "\n",
    "[Table 5](Images/Cluster_2.png)\n",
    "\n",
    "![Table_Cluster 2](Images/Cluster_2.png)\n",
    "\n",
    "In the Bar Plot Below we can see the 5 Most Frequent Venues Categories that are presents in the Table 5.\n",
    "<img src=\"Images/Bar_Cluster2.png\" alt=\"Drawing\" style=\"width: 700px;\"/>\n",
    "\n",
    "Looking at the table and the bar plot, we can see that all three capitals have the venues Bar and Restaurant in common. However, the only capital that have all these Category Venues in its list of most frequent is __Aldorra la Vella__, while the only two categories that __Vaduz__ and __Podgorica__ share in common is *Bar* and *Restaurant*. This means the the last two cities are more similiar to __Aldorra la Vella__ than with each other."
   ]
  },
  {
   "cell_type": "markdown",
   "metadata": {},
   "source": [
    "### Cluster 3\n",
    "\n",
    "The Table below shows all the capitals that ended in the third cluster along with the it's 10 Most Common Venues.\n",
    "\n",
    "[Table 6](Images/Cluster_3.png)\n",
    "\n",
    "![Table_Cluster 3](Images/Cluster_3.png)\n",
    "\n",
    "In the Bar Plot Below we can see the 5 Most Frequent Venues Categories that are presents in the Table 6.\n",
    "<img src=\"Images/Bar_Cluster3.png\" alt=\"Drawing\" style=\"width: 700px;\"/>\n",
    "\n",
    "All the capitals in this clusters appears to have the categories Restaurants, Pub and Theater in common. They apparently diffears from Cluster 1 for not having the category Plaza between its most frequent Venues category."
   ]
  },
  {
   "cell_type": "markdown",
   "metadata": {},
   "source": [
    "### Cluster 4\n",
    "The Table below shows all the capitals that ended in the 4th cluster along with the it's 10 Most Common Venues.\n",
    "\n",
    "[Table 7](Images/Cluster_4.png)\n",
    "\n",
    "![Table_Cluster 4](Images/Cluster_4.png)\n",
    "\n",
    "In the Bar Plot Below we can see the 5 Most Frequent Venues Categories that are presents in the Table 7.\n",
    "\n",
    "![Bar_4](Images/Bar_Cluster4.png)\n",
    "\n",
    "This cluster has only two capitals. With the venues *Italian restaurant* ans *Ice Cream Shop* in common. One thing nice to be observed, it is that San Marino territory is actually located inside Italy territory, what makes sense this two capitals ended in the same cluster."
   ]
  },
  {
   "cell_type": "markdown",
   "metadata": {},
   "source": [
    "### Cluster 5\n",
    "\n",
    "The Table below shows the only one capital ended in the 5th cluster along with the it's 10 Most Common Venues. Since there is just one capital in this cluster the Bar plot will not be shown. Maybe this capital can be considered as an outilier, been dissimilar from others European Capitals.\n",
    "\n",
    "[Table 8](Images/Cluster_5.png)\n",
    "\n",
    "![Table_Cluster 5](Images/Cluster_5.png)\n"
   ]
  },
  {
   "cell_type": "markdown",
   "metadata": {},
   "source": [
    "### Cluster 6\n",
    "The Table below shows all the capitals that ended in the 6th cluster along with the it's 10 Most Common Venues.\n",
    "\n",
    "[Table 9](Images/Cluster_6.png)\n",
    "\n",
    "![Table_Cluster 6](Images/Cluster_6.png)\n",
    "\n",
    "In the Bar Plot Below we can see the 5 Most Frequent Venues Categories that are presents in the Table 9.\n",
    "\n",
    "![Bar_6](Images/Bar_Cluster6.png)\n",
    "\n",
    "As we can see, this cluster ended with all the scandinavian countries capitals plus the the capital of Switzerland. Besides that, we can note that all these capitals have the Grocery Store Venue as one of the most frequent venues categories in common. Pehaps, they ended in the same cluster because all these capitals are famous for their chocolate."
   ]
  },
  {
   "cell_type": "markdown",
   "metadata": {},
   "source": [
    "### Cluster 7\n",
    "\n",
    "The Table below shows the only one capital ended in the 5th cluster along with the it's 10 Most Common Venues. Since there is just one capital in this cluster the Bar plot will not be shown. Maybe this capital can be considered as an outilier, been dissimilar from others European Capitals.\n",
    "\n",
    "[Table 10](Images/Cluster_7.png)\n",
    "\n",
    "![Table_Cluster 7](Images/Cluster_7.png)\n"
   ]
  },
  {
   "cell_type": "markdown",
   "metadata": {},
   "source": [
    "### Cluster 8\n",
    "The Table below shows all the capitals that ended in the 8th cluster along with the it's 10 Most Common Venues.\n",
    "\n",
    "[Table 11](Images/Cluster_8.png)\n",
    "\n",
    "![Table_Cluster 8](Images/Cluster_8.png)\n",
    "\n",
    "\n",
    "In the Bar Plot Below we can see the 5 Most Frequent Venues Categories that are presents in the Table 11.\n",
    "![Bar_8](Images/Bar_Cluster8.png)\n",
    "\n",
    "One thing to notice here is that all the capitals has not only five but actually 6 venues categories of the most frequent venues categories in common. Maybe this cluster has the capitals that are more similars with each other."
   ]
  },
  {
   "cell_type": "markdown",
   "metadata": {},
   "source": [
    "### Cluster 9\n",
    "The Table below shows the only one capital ended in the 5th cluster along with the it's 10 Most Common Venues. Since there is just one capital in this cluster the Bar plot will not be shown. Maybe this capital can be considered as an outilier, been dissimilar from others European Capitals.\n",
    "\n",
    "[Table 12](Images/Cluster_9.png)\n",
    "\n",
    "![Table_Cluster 9](Images/Cluster_9.png)\n"
   ]
  },
  {
   "cell_type": "markdown",
   "metadata": {},
   "source": [
    "### Cluster 10\n",
    "The Table below shows all the capitals that ended in the 10th cluster along with the it's 10 Most Common Venues.\n",
    "\n",
    "[Table 13](Images/Cluster_10.png)\n",
    "\n",
    "![Table_Cluster 10](Images/Cluster_10.png)\n",
    "\n",
    "In the Bar Plot Below we can see the 5 Most Frequent Venues Categories that are presents in the Table 13.\n",
    "![Bar_10](Images/Bar_Cluster10.png)\n",
    "\n",
    "In this Cluster we can see that all capitals has the category *Bar* in common, actually the *Bar* category is the __Most__ frequent venue category in all of these capitals following by *Restaurant*, *Palza*, *Theather* ans *Museum*."
   ]
  },
  {
   "cell_type": "markdown",
   "metadata": {},
   "source": [
    "### 4.2 Testing For Toronto"
   ]
  },
  {
   "cell_type": "markdown",
   "metadata": {},
   "source": [
    "After clustering all European Capitals, is time to answer the following question \"In which of these clusters the city of Toronto would fit?\". For that, Data of the Venues of Toronto were collected, cleaning and prepared for our model classificate the city. After obtained the data the following table with the 10 most frequent categories of Toronto was created.\n",
    "\n",
    "\n",
    "[Table 14](Images/Toronto_Table.png)\n",
    "\n",
    "![Table_Toronto](Images/Toronto_Table.png)\n",
    "\n",
    "The Result given by our model is that Toronto would fit in the cluster Number 6. The Map below shows the European capitals that are more simillars with Toronto based in its Venues categories according with our model. \n",
    "\n",
    "![Map2](Images/Toronto_Map.png)\n",
    "\n",
    "Analysing the results, it seems like the city of Toronto ended in the cluster 6 because in its list of more frequent venues,Toronto have 3 Venues categories in common with almost every capitals presents in the 6th cluster.  "
   ]
  },
  {
   "cell_type": "markdown",
   "metadata": {},
   "source": [
    "## 5. Conclusion"
   ]
  },
  {
   "cell_type": "markdown",
   "metadata": {},
   "source": [
    "Analysing the results, it seems like the model got to separate reasonably well the European capitals based in its Venues. The model classified that the city of Toronto it is more similar to the scandinavian capitals than the others European capitals, probably because in all these countries one of the most frequent venues collected was the Grocery store category.  \n",
    "\n",
    "It noticed that there were different categories that mean pretty the same thing like pub and bar, or Coffee Shop and Café. So one recommendation would be to verify these kind of categories and try to merge them in only one category.\n",
    "\n",
    "For future improvements in the model , it would be nice try to cluster these capitals with a different number of cluster or using a different type of algorithm. Besides that, it would be great also take in consideration other parameters like quality living or cost living of the city.\n"
   ]
  }
 ],
 "metadata": {
  "kernelspec": {
   "display_name": "Python 3",
   "language": "python",
   "name": "python3"
  },
  "language_info": {
   "codemirror_mode": {
    "name": "ipython",
    "version": 3
   },
   "file_extension": ".py",
   "mimetype": "text/x-python",
   "name": "python",
   "nbconvert_exporter": "python",
   "pygments_lexer": "ipython3",
   "version": "3.7.1"
  }
 },
 "nbformat": 4,
 "nbformat_minor": 2
}
