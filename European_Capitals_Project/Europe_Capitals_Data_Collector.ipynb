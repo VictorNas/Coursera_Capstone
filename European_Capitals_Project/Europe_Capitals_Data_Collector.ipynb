{
 "cells": [
  {
   "cell_type": "markdown",
   "metadata": {},
   "source": [
    "# Capitals from Europe"
   ]
  },
  {
   "cell_type": "markdown",
   "metadata": {},
   "source": [
    "## 1. Collecting the Data\n",
    "The first step is to colect the data that we are going to use to solve the problem. For that, we are going to use the BeautifulSoup library to scrape a wikipedia page to get all the countries of Europe with its respectives capitals. Then we will use Nominatim to get the latitude and longitude of all capitals. Finally, we will use the Foursquare API to search for venues in this locals. In the end, we will write the data in a file named **europe_venues_complete.csv**.  "
   ]
  },
  {
   "cell_type": "markdown",
   "metadata": {},
   "source": [
    " ## Importing the libraries"
   ]
  },
  {
   "cell_type": "code",
   "execution_count": 3,
   "metadata": {},
   "outputs": [],
   "source": [
    "import pandas as pd\n",
    "import numpy as np\n",
    "import requests\n",
    "from bs4 import BeautifulSoup\n",
    "from geopy.geocoders import Nominatim\n",
    "import folium\n",
    "import json"
   ]
  },
  {
   "cell_type": "markdown",
   "metadata": {},
   "source": [
    "### Making a request to the Wikipedia page"
   ]
  },
  {
   "cell_type": "code",
   "execution_count": 4,
   "metadata": {},
   "outputs": [],
   "source": [
    "url = \"https://en.wikipedia.org/wiki/List_of_sovereign_states_and_dependent_territories_in_Europe\"\n",
    "r = requests.get(url)\n",
    "html = r.text"
   ]
  },
  {
   "cell_type": "markdown",
   "metadata": {},
   "source": [
    "### Using Beautiful Soup to extract all the relevant information"
   ]
  },
  {
   "cell_type": "code",
   "execution_count": 5,
   "metadata": {},
   "outputs": [],
   "source": [
    "soup = BeautifulSoup(html,'lxml')\n",
    "table = soup.find_all('tr')##get all the items that are in the table\n",
    "rows = table[2:51]\n",
    "Countries = []\n",
    "Capitals = []\n",
    "for row in rows:\n",
    "    columns = row.find_all('td')\n",
    "    country = columns[2].contents[0].text\n",
    "    try:\n",
    "        capital = columns[4].contents[0].text\n",
    "    except:\n",
    "        capital = columns[4].contents[0]\n",
    "    Countries.append(country)\n",
    "    Capitals.append(capital)    "
   ]
  },
  {
   "cell_type": "markdown",
   "metadata": {},
   "source": [
    "### Creating a Dataframe with all the data that we got"
   ]
  },
  {
   "cell_type": "code",
   "execution_count": 6,
   "metadata": {},
   "outputs": [
    {
     "data": {
      "text/html": [
       "<div>\n",
       "<style scoped>\n",
       "    .dataframe tbody tr th:only-of-type {\n",
       "        vertical-align: middle;\n",
       "    }\n",
       "\n",
       "    .dataframe tbody tr th {\n",
       "        vertical-align: top;\n",
       "    }\n",
       "\n",
       "    .dataframe thead th {\n",
       "        text-align: right;\n",
       "    }\n",
       "</style>\n",
       "<table border=\"1\" class=\"dataframe\">\n",
       "  <thead>\n",
       "    <tr style=\"text-align: right;\">\n",
       "      <th></th>\n",
       "      <th>Country</th>\n",
       "      <th>Capital</th>\n",
       "    </tr>\n",
       "  </thead>\n",
       "  <tbody>\n",
       "    <tr>\n",
       "      <th>0</th>\n",
       "      <td>Albania</td>\n",
       "      <td>Tirana</td>\n",
       "    </tr>\n",
       "    <tr>\n",
       "      <th>1</th>\n",
       "      <td>Andorra</td>\n",
       "      <td>Andorra la Vella</td>\n",
       "    </tr>\n",
       "    <tr>\n",
       "      <th>2</th>\n",
       "      <td>Armenia</td>\n",
       "      <td>Yerevan</td>\n",
       "    </tr>\n",
       "    <tr>\n",
       "      <th>3</th>\n",
       "      <td>Austria</td>\n",
       "      <td>Vienna</td>\n",
       "    </tr>\n",
       "    <tr>\n",
       "      <th>4</th>\n",
       "      <td>Azerbaijan</td>\n",
       "      <td>Baku</td>\n",
       "    </tr>\n",
       "    <tr>\n",
       "      <th>5</th>\n",
       "      <td>Belarus</td>\n",
       "      <td>Minsk</td>\n",
       "    </tr>\n",
       "    <tr>\n",
       "      <th>6</th>\n",
       "      <td>Belgium</td>\n",
       "      <td>Brussels</td>\n",
       "    </tr>\n",
       "    <tr>\n",
       "      <th>7</th>\n",
       "      <td>Bosnia and Herzegovina</td>\n",
       "      <td>Sarajevo</td>\n",
       "    </tr>\n",
       "    <tr>\n",
       "      <th>8</th>\n",
       "      <td>Bulgaria</td>\n",
       "      <td>Sofia</td>\n",
       "    </tr>\n",
       "    <tr>\n",
       "      <th>9</th>\n",
       "      <td>Croatia</td>\n",
       "      <td>Zagreb</td>\n",
       "    </tr>\n",
       "  </tbody>\n",
       "</table>\n",
       "</div>"
      ],
      "text/plain": [
       "                  Country           Capital\n",
       "0                 Albania            Tirana\n",
       "1                 Andorra  Andorra la Vella\n",
       "2                 Armenia           Yerevan\n",
       "3                 Austria            Vienna\n",
       "4              Azerbaijan              Baku\n",
       "5                 Belarus             Minsk\n",
       "6                 Belgium          Brussels\n",
       "7  Bosnia and Herzegovina          Sarajevo\n",
       "8                Bulgaria             Sofia\n",
       "9                 Croatia            Zagreb"
      ]
     },
     "execution_count": 6,
     "metadata": {},
     "output_type": "execute_result"
    }
   ],
   "source": [
    "df_europe = pd.DataFrame({'Country':Countries,'Capital':Capitals})\n",
    "df_europe.head(10)"
   ]
  },
  {
   "cell_type": "markdown",
   "metadata": {},
   "source": [
    "### Getting Latitude and Longitude of the countries"
   ]
  },
  {
   "cell_type": "code",
   "execution_count": 8,
   "metadata": {},
   "outputs": [
    {
     "name": "stdout",
     "output_type": "stream",
     "text": [
      "Tirana, Albania\n",
      "Andorra la Vella, Andorra\n",
      "Yerevan, Armenia\n",
      "Vienna, Austria\n",
      "Baku, Azerbaijan\n",
      "Minsk, Belarus\n",
      "Brussels, Belgium\n",
      "Sarajevo, Bosnia and Herzegovina\n",
      "Sofia, Bulgaria\n",
      "Zagreb, Croatia\n",
      "Nicosia, Cyprus\n",
      "Prague, Czech Republic\n",
      "Copenhagen, Denmark\n",
      "Tallinn, Estonia\n",
      "Helsinki, Finland\n",
      "Paris, France\n",
      "Tbilisi, Georgia\n",
      "Berlin, Germany\n",
      "Athens, Greece\n",
      "Budapest, Hungary\n",
      "Reykjavík, Iceland\n",
      "Dublin, Ireland\n",
      "Rome, Italy\n",
      "Astana, Kazakhstan\n",
      "Riga, Latvia\n",
      "Vaduz, Liechtenstein\n",
      "Vilnius, Lithuania\n",
      "Luxembourg, Luxembourg\n",
      "Valletta, Malta\n",
      "Chișinău, Moldova\n",
      "Monaco, Monaco\n",
      "Podgorica, Montenegro\n",
      "Amsterdam, Netherlands\n",
      "Skopje, North Macedonia\n",
      "Oslo, Norway\n",
      "Warsaw, Poland\n",
      "Lisbon, Portugal\n",
      "Bucharest, Romania\n",
      "Moscow, Russia\n",
      "San Marino, San Marino\n",
      "Belgrade, Serbia\n",
      "Bratislava, Slovakia\n",
      "Ljubljana, Slovenia\n",
      "Madrid, Spain\n",
      "Stockholm, Sweden\n",
      "Bern, Switzerland\n",
      "Ankara, Turkey\n",
      "Kiev, Ukraine\n",
      "London, United Kingdom\n"
     ]
    },
    {
     "data": {
      "text/html": [
       "<div>\n",
       "<style scoped>\n",
       "    .dataframe tbody tr th:only-of-type {\n",
       "        vertical-align: middle;\n",
       "    }\n",
       "\n",
       "    .dataframe tbody tr th {\n",
       "        vertical-align: top;\n",
       "    }\n",
       "\n",
       "    .dataframe thead th {\n",
       "        text-align: right;\n",
       "    }\n",
       "</style>\n",
       "<table border=\"1\" class=\"dataframe\">\n",
       "  <thead>\n",
       "    <tr style=\"text-align: right;\">\n",
       "      <th></th>\n",
       "      <th>Country</th>\n",
       "      <th>Capital</th>\n",
       "      <th>Latitude</th>\n",
       "      <th>Longitude</th>\n",
       "    </tr>\n",
       "  </thead>\n",
       "  <tbody>\n",
       "    <tr>\n",
       "      <th>0</th>\n",
       "      <td>Albania</td>\n",
       "      <td>Tirana</td>\n",
       "      <td>41.327946</td>\n",
       "      <td>19.818532</td>\n",
       "    </tr>\n",
       "    <tr>\n",
       "      <th>1</th>\n",
       "      <td>Andorra</td>\n",
       "      <td>Andorra la Vella</td>\n",
       "      <td>42.506939</td>\n",
       "      <td>1.521247</td>\n",
       "    </tr>\n",
       "    <tr>\n",
       "      <th>2</th>\n",
       "      <td>Armenia</td>\n",
       "      <td>Yerevan</td>\n",
       "      <td>40.177612</td>\n",
       "      <td>44.512585</td>\n",
       "    </tr>\n",
       "    <tr>\n",
       "      <th>3</th>\n",
       "      <td>Austria</td>\n",
       "      <td>Vienna</td>\n",
       "      <td>48.208354</td>\n",
       "      <td>16.372504</td>\n",
       "    </tr>\n",
       "    <tr>\n",
       "      <th>4</th>\n",
       "      <td>Azerbaijan</td>\n",
       "      <td>Baku</td>\n",
       "      <td>40.375443</td>\n",
       "      <td>49.832675</td>\n",
       "    </tr>\n",
       "  </tbody>\n",
       "</table>\n",
       "</div>"
      ],
      "text/plain": [
       "      Country           Capital   Latitude  Longitude\n",
       "0     Albania            Tirana  41.327946  19.818532\n",
       "1     Andorra  Andorra la Vella  42.506939   1.521247\n",
       "2     Armenia           Yerevan  40.177612  44.512585\n",
       "3     Austria            Vienna  48.208354  16.372504\n",
       "4  Azerbaijan              Baku  40.375443  49.832675"
      ]
     },
     "execution_count": 8,
     "metadata": {},
     "output_type": "execute_result"
    }
   ],
   "source": [
    "Latitude = []\n",
    "Longitude = []\n",
    "for country, city in zip(df_europe['Country'],df_europe['Capital']):\n",
    "    adress = \"{}, {}\".format(city,country)\n",
    "    print(adress)\n",
    "    geolocator = Nominatim(user_agent = \"europe_explorer\",timeout = 5)\n",
    "    local = geolocator.geocode(adress)\n",
    "    Latitude.append(local.latitude)\n",
    "    Longitude.append(local.longitude)\n",
    "df_europe.insert(len(df_europe.columns),'Latitude', Latitude)\n",
    "df_europe.insert(len(df_europe.columns),'Longitude', Longitude)\n",
    "df_europe.head()"
   ]
  },
  {
   "cell_type": "markdown",
   "metadata": {},
   "source": [
    "## 2. Creating a Map for visualization"
   ]
  },
  {
   "cell_type": "code",
   "execution_count": 9,
   "metadata": {},
   "outputs": [
    {
     "name": "stdout",
     "output_type": "stream",
     "text": [
      "51.0 10.0\n"
     ]
    },
    {
     "data": {
      "text/html": [
       "<div style=\"width:100%;\"><div style=\"position:relative;width:100%;height:0;padding-bottom:60%;\"><iframe src=\"data:text/html;charset=utf-8;base64,PCFET0NUWVBFIGh0bWw+CjxoZWFkPiAgICAKICAgIDxtZXRhIGh0dHAtZXF1aXY9ImNvbnRlbnQtdHlwZSIgY29udGVudD0idGV4dC9odG1sOyBjaGFyc2V0PVVURi04IiAvPgogICAgPHNjcmlwdD5MX1BSRUZFUl9DQU5WQVMgPSBmYWxzZTsgTF9OT19UT1VDSCA9IGZhbHNlOyBMX0RJU0FCTEVfM0QgPSBmYWxzZTs8L3NjcmlwdD4KICAgIDxzY3JpcHQgc3JjPSJodHRwczovL2Nkbi5qc2RlbGl2ci5uZXQvbnBtL2xlYWZsZXRAMS4yLjAvZGlzdC9sZWFmbGV0LmpzIj48L3NjcmlwdD4KICAgIDxzY3JpcHQgc3JjPSJodHRwczovL2FqYXguZ29vZ2xlYXBpcy5jb20vYWpheC9saWJzL2pxdWVyeS8xLjExLjEvanF1ZXJ5Lm1pbi5qcyI+PC9zY3JpcHQ+CiAgICA8c2NyaXB0IHNyYz0iaHR0cHM6Ly9tYXhjZG4uYm9vdHN0cmFwY2RuLmNvbS9ib290c3RyYXAvMy4yLjAvanMvYm9vdHN0cmFwLm1pbi5qcyI+PC9zY3JpcHQ+CiAgICA8c2NyaXB0IHNyYz0iaHR0cHM6Ly9jZG5qcy5jbG91ZGZsYXJlLmNvbS9hamF4L2xpYnMvTGVhZmxldC5hd2Vzb21lLW1hcmtlcnMvMi4wLjIvbGVhZmxldC5hd2Vzb21lLW1hcmtlcnMuanMiPjwvc2NyaXB0PgogICAgPGxpbmsgcmVsPSJzdHlsZXNoZWV0IiBocmVmPSJodHRwczovL2Nkbi5qc2RlbGl2ci5uZXQvbnBtL2xlYWZsZXRAMS4yLjAvZGlzdC9sZWFmbGV0LmNzcyIvPgogICAgPGxpbmsgcmVsPSJzdHlsZXNoZWV0IiBocmVmPSJodHRwczovL21heGNkbi5ib290c3RyYXBjZG4uY29tL2Jvb3RzdHJhcC8zLjIuMC9jc3MvYm9vdHN0cmFwLm1pbi5jc3MiLz4KICAgIDxsaW5rIHJlbD0ic3R5bGVzaGVldCIgaHJlZj0iaHR0cHM6Ly9tYXhjZG4uYm9vdHN0cmFwY2RuLmNvbS9ib290c3RyYXAvMy4yLjAvY3NzL2Jvb3RzdHJhcC10aGVtZS5taW4uY3NzIi8+CiAgICA8bGluayByZWw9InN0eWxlc2hlZXQiIGhyZWY9Imh0dHBzOi8vbWF4Y2RuLmJvb3RzdHJhcGNkbi5jb20vZm9udC1hd2Vzb21lLzQuNi4zL2Nzcy9mb250LWF3ZXNvbWUubWluLmNzcyIvPgogICAgPGxpbmsgcmVsPSJzdHlsZXNoZWV0IiBocmVmPSJodHRwczovL2NkbmpzLmNsb3VkZmxhcmUuY29tL2FqYXgvbGlicy9MZWFmbGV0LmF3ZXNvbWUtbWFya2Vycy8yLjAuMi9sZWFmbGV0LmF3ZXNvbWUtbWFya2Vycy5jc3MiLz4KICAgIDxsaW5rIHJlbD0ic3R5bGVzaGVldCIgaHJlZj0iaHR0cHM6Ly9yYXdnaXQuY29tL3B5dGhvbi12aXN1YWxpemF0aW9uL2ZvbGl1bS9tYXN0ZXIvZm9saXVtL3RlbXBsYXRlcy9sZWFmbGV0LmF3ZXNvbWUucm90YXRlLmNzcyIvPgogICAgPHN0eWxlPmh0bWwsIGJvZHkge3dpZHRoOiAxMDAlO2hlaWdodDogMTAwJTttYXJnaW46IDA7cGFkZGluZzogMDt9PC9zdHlsZT4KICAgIDxzdHlsZT4jbWFwIHtwb3NpdGlvbjphYnNvbHV0ZTt0b3A6MDtib3R0b206MDtyaWdodDowO2xlZnQ6MDt9PC9zdHlsZT4KICAgIAogICAgICAgICAgICA8c3R5bGU+ICNtYXBfMGUyOTMzOWYyMDlkNGE4M2IzNzExZWFkZDE2ZjY5ZjkgewogICAgICAgICAgICAgICAgcG9zaXRpb24gOiByZWxhdGl2ZTsKICAgICAgICAgICAgICAgIHdpZHRoIDogMTAwLjAlOwogICAgICAgICAgICAgICAgaGVpZ2h0OiAxMDAuMCU7CiAgICAgICAgICAgICAgICBsZWZ0OiAwLjAlOwogICAgICAgICAgICAgICAgdG9wOiAwLjAlOwogICAgICAgICAgICAgICAgfQogICAgICAgICAgICA8L3N0eWxlPgogICAgICAgIAo8L2hlYWQ+Cjxib2R5PiAgICAKICAgIAogICAgICAgICAgICA8ZGl2IGNsYXNzPSJmb2xpdW0tbWFwIiBpZD0ibWFwXzBlMjkzMzlmMjA5ZDRhODNiMzcxMWVhZGQxNmY2OWY5IiA+PC9kaXY+CiAgICAgICAgCjwvYm9keT4KPHNjcmlwdD4gICAgCiAgICAKCiAgICAgICAgICAgIAogICAgICAgICAgICAgICAgdmFyIGJvdW5kcyA9IG51bGw7CiAgICAgICAgICAgIAoKICAgICAgICAgICAgdmFyIG1hcF8wZTI5MzM5ZjIwOWQ0YTgzYjM3MTFlYWRkMTZmNjlmOSA9IEwubWFwKAogICAgICAgICAgICAgICAgICAgICAgICAgICAgICAgICAgJ21hcF8wZTI5MzM5ZjIwOWQ0YTgzYjM3MTFlYWRkMTZmNjlmOScsCiAgICAgICAgICAgICAgICAgICAgICAgICAgICAgICAgICB7Y2VudGVyOiBbNTEuMCwxMC4wXSwKICAgICAgICAgICAgICAgICAgICAgICAgICAgICAgICAgIHpvb206IDMsCiAgICAgICAgICAgICAgICAgICAgICAgICAgICAgICAgICBtYXhCb3VuZHM6IGJvdW5kcywKICAgICAgICAgICAgICAgICAgICAgICAgICAgICAgICAgIGxheWVyczogW10sCiAgICAgICAgICAgICAgICAgICAgICAgICAgICAgICAgICB3b3JsZENvcHlKdW1wOiBmYWxzZSwKICAgICAgICAgICAgICAgICAgICAgICAgICAgICAgICAgIGNyczogTC5DUlMuRVBTRzM4NTcKICAgICAgICAgICAgICAgICAgICAgICAgICAgICAgICAgfSk7CiAgICAgICAgICAgIAogICAgICAgIAogICAgCiAgICAgICAgICAgIHZhciB0aWxlX2xheWVyXzAyYWZiNGJkMWI3ZTRlZGZhZWFlZjMzODZkMzY4NWYzID0gTC50aWxlTGF5ZXIoCiAgICAgICAgICAgICAgICAnaHR0cHM6Ly97c30udGlsZS5vcGVuc3RyZWV0bWFwLm9yZy97en0ve3h9L3t5fS5wbmcnLAogICAgICAgICAgICAgICAgewogICJhdHRyaWJ1dGlvbiI6IG51bGwsCiAgImRldGVjdFJldGluYSI6IGZhbHNlLAogICJtYXhab29tIjogMTgsCiAgIm1pblpvb20iOiAxLAogICJub1dyYXAiOiBmYWxzZSwKICAic3ViZG9tYWlucyI6ICJhYmMiCn0KICAgICAgICAgICAgICAgICkuYWRkVG8obWFwXzBlMjkzMzlmMjA5ZDRhODNiMzcxMWVhZGQxNmY2OWY5KTsKICAgICAgICAKICAgIAogICAgICAgICAgICB2YXIgY2lyY2xlX21hcmtlcl8zYzg4ODgxNjJmOTA0MzE5YjI1MTAxN2YzMzJhNmMzMiA9IEwuY2lyY2xlTWFya2VyKAogICAgICAgICAgICAgICAgWzQxLjMyNzk0NTcsMTkuODE4NTMyM10sCiAgICAgICAgICAgICAgICB7CiAgImJ1YmJsaW5nTW91c2VFdmVudHMiOiB0cnVlLAogICJjb2xvciI6ICJyZWQiLAogICJkYXNoQXJyYXkiOiBudWxsLAogICJkYXNoT2Zmc2V0IjogbnVsbCwKICAiZmlsbCI6IHRydWUsCiAgImZpbGxDb2xvciI6ICJyZWQiLAogICJmaWxsT3BhY2l0eSI6IDAuNywKICAiZmlsbFJ1bGUiOiAiZXZlbm9kZCIsCiAgImxpbmVDYXAiOiAicm91bmQiLAogICJsaW5lSm9pbiI6ICJyb3VuZCIsCiAgIm9wYWNpdHkiOiAxLjAsCiAgInJhZGl1cyI6IDUsCiAgInN0cm9rZSI6IHRydWUsCiAgIndlaWdodCI6IDMKfQogICAgICAgICAgICAgICAgKS5hZGRUbyhtYXBfMGUyOTMzOWYyMDlkNGE4M2IzNzExZWFkZDE2ZjY5ZjkpOwogICAgICAgICAgICAKICAgIAogICAgICAgICAgICB2YXIgcG9wdXBfMWRmNzZlY2I2YzIxNDJmMTk4ZmM3NmZlYTBiYTEyNmQgPSBMLnBvcHVwKHttYXhXaWR0aDogJzMwMCd9KTsKCiAgICAgICAgICAgIAogICAgICAgICAgICAgICAgdmFyIGh0bWxfNTI3OTViZTMwYzFjNGM0MmJiNTA1MGMyYmQ4NTAxN2QgPSAkKCc8ZGl2IGlkPSJodG1sXzUyNzk1YmUzMGMxYzRjNDJiYjUwNTBjMmJkODUwMTdkIiBzdHlsZT0id2lkdGg6IDEwMC4wJTsgaGVpZ2h0OiAxMDAuMCU7Ij5UaXJhbmEsIEFsYmFuaWE8L2Rpdj4nKVswXTsKICAgICAgICAgICAgICAgIHBvcHVwXzFkZjc2ZWNiNmMyMTQyZjE5OGZjNzZmZWEwYmExMjZkLnNldENvbnRlbnQoaHRtbF81Mjc5NWJlMzBjMWM0YzQyYmI1MDUwYzJiZDg1MDE3ZCk7CiAgICAgICAgICAgIAoKICAgICAgICAgICAgY2lyY2xlX21hcmtlcl8zYzg4ODgxNjJmOTA0MzE5YjI1MTAxN2YzMzJhNmMzMi5iaW5kUG9wdXAocG9wdXBfMWRmNzZlY2I2YzIxNDJmMTk4ZmM3NmZlYTBiYTEyNmQpOwoKICAgICAgICAgICAgCiAgICAgICAgCiAgICAKICAgICAgICAgICAgdmFyIGNpcmNsZV9tYXJrZXJfYzNmYzE3NTI2NTBhNDhkMmIxZTk5MmRiODc5YTZkY2IgPSBMLmNpcmNsZU1hcmtlcigKICAgICAgICAgICAgICAgIFs0Mi41MDY5MzkxLDEuNTIxMjQ2N10sCiAgICAgICAgICAgICAgICB7CiAgImJ1YmJsaW5nTW91c2VFdmVudHMiOiB0cnVlLAogICJjb2xvciI6ICJyZWQiLAogICJkYXNoQXJyYXkiOiBudWxsLAogICJkYXNoT2Zmc2V0IjogbnVsbCwKICAiZmlsbCI6IHRydWUsCiAgImZpbGxDb2xvciI6ICJyZWQiLAogICJmaWxsT3BhY2l0eSI6IDAuNywKICAiZmlsbFJ1bGUiOiAiZXZlbm9kZCIsCiAgImxpbmVDYXAiOiAicm91bmQiLAogICJsaW5lSm9pbiI6ICJyb3VuZCIsCiAgIm9wYWNpdHkiOiAxLjAsCiAgInJhZGl1cyI6IDUsCiAgInN0cm9rZSI6IHRydWUsCiAgIndlaWdodCI6IDMKfQogICAgICAgICAgICAgICAgKS5hZGRUbyhtYXBfMGUyOTMzOWYyMDlkNGE4M2IzNzExZWFkZDE2ZjY5ZjkpOwogICAgICAgICAgICAKICAgIAogICAgICAgICAgICB2YXIgcG9wdXBfNWYzYjAxOGRmNzhkNGZiNjkwODMzOTEwMDAyZjA2YjEgPSBMLnBvcHVwKHttYXhXaWR0aDogJzMwMCd9KTsKCiAgICAgICAgICAgIAogICAgICAgICAgICAgICAgdmFyIGh0bWxfYjdiYjQ2NDM0YzBkNGYxMzljOGE1NjkzNDRjNjhlZDkgPSAkKCc8ZGl2IGlkPSJodG1sX2I3YmI0NjQzNGMwZDRmMTM5YzhhNTY5MzQ0YzY4ZWQ5IiBzdHlsZT0id2lkdGg6IDEwMC4wJTsgaGVpZ2h0OiAxMDAuMCU7Ij5BbmRvcnJhIGxhIFZlbGxhLCBBbmRvcnJhPC9kaXY+JylbMF07CiAgICAgICAgICAgICAgICBwb3B1cF81ZjNiMDE4ZGY3OGQ0ZmI2OTA4MzM5MTAwMDJmMDZiMS5zZXRDb250ZW50KGh0bWxfYjdiYjQ2NDM0YzBkNGYxMzljOGE1NjkzNDRjNjhlZDkpOwogICAgICAgICAgICAKCiAgICAgICAgICAgIGNpcmNsZV9tYXJrZXJfYzNmYzE3NTI2NTBhNDhkMmIxZTk5MmRiODc5YTZkY2IuYmluZFBvcHVwKHBvcHVwXzVmM2IwMThkZjc4ZDRmYjY5MDgzMzkxMDAwMmYwNmIxKTsKCiAgICAgICAgICAgIAogICAgICAgIAogICAgCiAgICAgICAgICAgIHZhciBjaXJjbGVfbWFya2VyXzExZjQyNDg2OGExYTQwY2NhNzY5YWZhY2M1OTBiNGJkID0gTC5jaXJjbGVNYXJrZXIoCiAgICAgICAgICAgICAgICBbNDAuMTc3NjEyMSw0NC41MTI1ODQ5XSwKICAgICAgICAgICAgICAgIHsKICAiYnViYmxpbmdNb3VzZUV2ZW50cyI6IHRydWUsCiAgImNvbG9yIjogInJlZCIsCiAgImRhc2hBcnJheSI6IG51bGwsCiAgImRhc2hPZmZzZXQiOiBudWxsLAogICJmaWxsIjogdHJ1ZSwKICAiZmlsbENvbG9yIjogInJlZCIsCiAgImZpbGxPcGFjaXR5IjogMC43LAogICJmaWxsUnVsZSI6ICJldmVub2RkIiwKICAibGluZUNhcCI6ICJyb3VuZCIsCiAgImxpbmVKb2luIjogInJvdW5kIiwKICAib3BhY2l0eSI6IDEuMCwKICAicmFkaXVzIjogNSwKICAic3Ryb2tlIjogdHJ1ZSwKICAid2VpZ2h0IjogMwp9CiAgICAgICAgICAgICAgICApLmFkZFRvKG1hcF8wZTI5MzM5ZjIwOWQ0YTgzYjM3MTFlYWRkMTZmNjlmOSk7CiAgICAgICAgICAgIAogICAgCiAgICAgICAgICAgIHZhciBwb3B1cF83N2JhMGJhNmNhMmU0MzMyYThkNThhNzY4OTlmODAxNSA9IEwucG9wdXAoe21heFdpZHRoOiAnMzAwJ30pOwoKICAgICAgICAgICAgCiAgICAgICAgICAgICAgICB2YXIgaHRtbF8zOTNhN2RlMTlkZDE0M2NkYTg1ZTUxY2RiOGNhN2U0NyA9ICQoJzxkaXYgaWQ9Imh0bWxfMzkzYTdkZTE5ZGQxNDNjZGE4NWU1MWNkYjhjYTdlNDciIHN0eWxlPSJ3aWR0aDogMTAwLjAlOyBoZWlnaHQ6IDEwMC4wJTsiPlllcmV2YW4sIEFybWVuaWE8L2Rpdj4nKVswXTsKICAgICAgICAgICAgICAgIHBvcHVwXzc3YmEwYmE2Y2EyZTQzMzJhOGQ1OGE3Njg5OWY4MDE1LnNldENvbnRlbnQoaHRtbF8zOTNhN2RlMTlkZDE0M2NkYTg1ZTUxY2RiOGNhN2U0Nyk7CiAgICAgICAgICAgIAoKICAgICAgICAgICAgY2lyY2xlX21hcmtlcl8xMWY0MjQ4NjhhMWE0MGNjYTc2OWFmYWNjNTkwYjRiZC5iaW5kUG9wdXAocG9wdXBfNzdiYTBiYTZjYTJlNDMzMmE4ZDU4YTc2ODk5ZjgwMTUpOwoKICAgICAgICAgICAgCiAgICAgICAgCiAgICAKICAgICAgICAgICAgdmFyIGNpcmNsZV9tYXJrZXJfNmM2NmE2OTM5ZDU5NDY5MmFmODNmNDA3NGRjZTE4OTggPSBMLmNpcmNsZU1hcmtlcigKICAgICAgICAgICAgICAgIFs0OC4yMDgzNTM3LDE2LjM3MjUwNDJdLAogICAgICAgICAgICAgICAgewogICJidWJibGluZ01vdXNlRXZlbnRzIjogdHJ1ZSwKICAiY29sb3IiOiAicmVkIiwKICAiZGFzaEFycmF5IjogbnVsbCwKICAiZGFzaE9mZnNldCI6IG51bGwsCiAgImZpbGwiOiB0cnVlLAogICJmaWxsQ29sb3IiOiAicmVkIiwKICAiZmlsbE9wYWNpdHkiOiAwLjcsCiAgImZpbGxSdWxlIjogImV2ZW5vZGQiLAogICJsaW5lQ2FwIjogInJvdW5kIiwKICAibGluZUpvaW4iOiAicm91bmQiLAogICJvcGFjaXR5IjogMS4wLAogICJyYWRpdXMiOiA1LAogICJzdHJva2UiOiB0cnVlLAogICJ3ZWlnaHQiOiAzCn0KICAgICAgICAgICAgICAgICkuYWRkVG8obWFwXzBlMjkzMzlmMjA5ZDRhODNiMzcxMWVhZGQxNmY2OWY5KTsKICAgICAgICAgICAgCiAgICAKICAgICAgICAgICAgdmFyIHBvcHVwX2Q5NzJlYjc0ZWMxZjRjMzI4ZWZlYWU5YzUzZTA4NjI2ID0gTC5wb3B1cCh7bWF4V2lkdGg6ICczMDAnfSk7CgogICAgICAgICAgICAKICAgICAgICAgICAgICAgIHZhciBodG1sX2QxNjk3OTBkZjkwZDRjOGE5Y2M4OTBiY2FhNDg2NTg5ID0gJCgnPGRpdiBpZD0iaHRtbF9kMTY5NzkwZGY5MGQ0YzhhOWNjODkwYmNhYTQ4NjU4OSIgc3R5bGU9IndpZHRoOiAxMDAuMCU7IGhlaWdodDogMTAwLjAlOyI+Vmllbm5hLCBBdXN0cmlhPC9kaXY+JylbMF07CiAgICAgICAgICAgICAgICBwb3B1cF9kOTcyZWI3NGVjMWY0YzMyOGVmZWFlOWM1M2UwODYyNi5zZXRDb250ZW50KGh0bWxfZDE2OTc5MGRmOTBkNGM4YTljYzg5MGJjYWE0ODY1ODkpOwogICAgICAgICAgICAKCiAgICAgICAgICAgIGNpcmNsZV9tYXJrZXJfNmM2NmE2OTM5ZDU5NDY5MmFmODNmNDA3NGRjZTE4OTguYmluZFBvcHVwKHBvcHVwX2Q5NzJlYjc0ZWMxZjRjMzI4ZWZlYWU5YzUzZTA4NjI2KTsKCiAgICAgICAgICAgIAogICAgICAgIAogICAgCiAgICAgICAgICAgIHZhciBjaXJjbGVfbWFya2VyX2U2Y2Q3NDgzMGY4MzQ0ODc4NWRjYjEyNzlhYWE1YmY2ID0gTC5jaXJjbGVNYXJrZXIoCiAgICAgICAgICAgICAgICBbNDAuMzc1NDQzNCw0OS44MzI2NzQ4XSwKICAgICAgICAgICAgICAgIHsKICAiYnViYmxpbmdNb3VzZUV2ZW50cyI6IHRydWUsCiAgImNvbG9yIjogInJlZCIsCiAgImRhc2hBcnJheSI6IG51bGwsCiAgImRhc2hPZmZzZXQiOiBudWxsLAogICJmaWxsIjogdHJ1ZSwKICAiZmlsbENvbG9yIjogInJlZCIsCiAgImZpbGxPcGFjaXR5IjogMC43LAogICJmaWxsUnVsZSI6ICJldmVub2RkIiwKICAibGluZUNhcCI6ICJyb3VuZCIsCiAgImxpbmVKb2luIjogInJvdW5kIiwKICAib3BhY2l0eSI6IDEuMCwKICAicmFkaXVzIjogNSwKICAic3Ryb2tlIjogdHJ1ZSwKICAid2VpZ2h0IjogMwp9CiAgICAgICAgICAgICAgICApLmFkZFRvKG1hcF8wZTI5MzM5ZjIwOWQ0YTgzYjM3MTFlYWRkMTZmNjlmOSk7CiAgICAgICAgICAgIAogICAgCiAgICAgICAgICAgIHZhciBwb3B1cF9lMmIxNDhiZjhlZDA0YWQ5ODcxMzUwZjA1NjBmYzI0MyA9IEwucG9wdXAoe21heFdpZHRoOiAnMzAwJ30pOwoKICAgICAgICAgICAgCiAgICAgICAgICAgICAgICB2YXIgaHRtbF81ZTVhYzA5Y2JlMDk0ZGJlOWQ4Mjg2N2JhNGE1N2EzOCA9ICQoJzxkaXYgaWQ9Imh0bWxfNWU1YWMwOWNiZTA5NGRiZTlkODI4NjdiYTRhNTdhMzgiIHN0eWxlPSJ3aWR0aDogMTAwLjAlOyBoZWlnaHQ6IDEwMC4wJTsiPkJha3UsIEF6ZXJiYWlqYW48L2Rpdj4nKVswXTsKICAgICAgICAgICAgICAgIHBvcHVwX2UyYjE0OGJmOGVkMDRhZDk4NzEzNTBmMDU2MGZjMjQzLnNldENvbnRlbnQoaHRtbF81ZTVhYzA5Y2JlMDk0ZGJlOWQ4Mjg2N2JhNGE1N2EzOCk7CiAgICAgICAgICAgIAoKICAgICAgICAgICAgY2lyY2xlX21hcmtlcl9lNmNkNzQ4MzBmODM0NDg3ODVkY2IxMjc5YWFhNWJmNi5iaW5kUG9wdXAocG9wdXBfZTJiMTQ4YmY4ZWQwNGFkOTg3MTM1MGYwNTYwZmMyNDMpOwoKICAgICAgICAgICAgCiAgICAgICAgCiAgICAKICAgICAgICAgICAgdmFyIGNpcmNsZV9tYXJrZXJfMmI1ZjIzN2NhNzgyNGMwNjg4ZmJmYTk1YTI4MmI1YmEgPSBMLmNpcmNsZU1hcmtlcigKICAgICAgICAgICAgICAgIFs1My45MDIzMzQsMjcuNTYxODc5MV0sCiAgICAgICAgICAgICAgICB7CiAgImJ1YmJsaW5nTW91c2VFdmVudHMiOiB0cnVlLAogICJjb2xvciI6ICJyZWQiLAogICJkYXNoQXJyYXkiOiBudWxsLAogICJkYXNoT2Zmc2V0IjogbnVsbCwKICAiZmlsbCI6IHRydWUsCiAgImZpbGxDb2xvciI6ICJyZWQiLAogICJmaWxsT3BhY2l0eSI6IDAuNywKICAiZmlsbFJ1bGUiOiAiZXZlbm9kZCIsCiAgImxpbmVDYXAiOiAicm91bmQiLAogICJsaW5lSm9pbiI6ICJyb3VuZCIsCiAgIm9wYWNpdHkiOiAxLjAsCiAgInJhZGl1cyI6IDUsCiAgInN0cm9rZSI6IHRydWUsCiAgIndlaWdodCI6IDMKfQogICAgICAgICAgICAgICAgKS5hZGRUbyhtYXBfMGUyOTMzOWYyMDlkNGE4M2IzNzExZWFkZDE2ZjY5ZjkpOwogICAgICAgICAgICAKICAgIAogICAgICAgICAgICB2YXIgcG9wdXBfOWZlNDM3NThhMDA5NDAwYmEwN2MyZDZjMjg0OTcxOTggPSBMLnBvcHVwKHttYXhXaWR0aDogJzMwMCd9KTsKCiAgICAgICAgICAgIAogICAgICAgICAgICAgICAgdmFyIGh0bWxfYTIxYjM5NjA0YWZhNDczZWI0YWZkM2IzZjRkZDFkZTUgPSAkKCc8ZGl2IGlkPSJodG1sX2EyMWIzOTYwNGFmYTQ3M2ViNGFmZDNiM2Y0ZGQxZGU1IiBzdHlsZT0id2lkdGg6IDEwMC4wJTsgaGVpZ2h0OiAxMDAuMCU7Ij5NaW5zaywgQmVsYXJ1czwvZGl2PicpWzBdOwogICAgICAgICAgICAgICAgcG9wdXBfOWZlNDM3NThhMDA5NDAwYmEwN2MyZDZjMjg0OTcxOTguc2V0Q29udGVudChodG1sX2EyMWIzOTYwNGFmYTQ3M2ViNGFmZDNiM2Y0ZGQxZGU1KTsKICAgICAgICAgICAgCgogICAgICAgICAgICBjaXJjbGVfbWFya2VyXzJiNWYyMzdjYTc4MjRjMDY4OGZiZmE5NWEyODJiNWJhLmJpbmRQb3B1cChwb3B1cF85ZmU0Mzc1OGEwMDk0MDBiYTA3YzJkNmMyODQ5NzE5OCk7CgogICAgICAgICAgICAKICAgICAgICAKICAgIAogICAgICAgICAgICB2YXIgY2lyY2xlX21hcmtlcl80ZTM5ZjNhNjg2Yzk0MDdlOTdkOTRiOGIyMmVkZWYwMCA9IEwuY2lyY2xlTWFya2VyKAogICAgICAgICAgICAgICAgWzUwLjg0NjU1NzMsNC4zNTE2OTddLAogICAgICAgICAgICAgICAgewogICJidWJibGluZ01vdXNlRXZlbnRzIjogdHJ1ZSwKICAiY29sb3IiOiAicmVkIiwKICAiZGFzaEFycmF5IjogbnVsbCwKICAiZGFzaE9mZnNldCI6IG51bGwsCiAgImZpbGwiOiB0cnVlLAogICJmaWxsQ29sb3IiOiAicmVkIiwKICAiZmlsbE9wYWNpdHkiOiAwLjcsCiAgImZpbGxSdWxlIjogImV2ZW5vZGQiLAogICJsaW5lQ2FwIjogInJvdW5kIiwKICAibGluZUpvaW4iOiAicm91bmQiLAogICJvcGFjaXR5IjogMS4wLAogICJyYWRpdXMiOiA1LAogICJzdHJva2UiOiB0cnVlLAogICJ3ZWlnaHQiOiAzCn0KICAgICAgICAgICAgICAgICkuYWRkVG8obWFwXzBlMjkzMzlmMjA5ZDRhODNiMzcxMWVhZGQxNmY2OWY5KTsKICAgICAgICAgICAgCiAgICAKICAgICAgICAgICAgdmFyIHBvcHVwX2U2MzA4NGQ3ZmJmYTRjMmRiNDY0NDkxY2M1OWJlODBkID0gTC5wb3B1cCh7bWF4V2lkdGg6ICczMDAnfSk7CgogICAgICAgICAgICAKICAgICAgICAgICAgICAgIHZhciBodG1sXzY3YmJhMmRlMjljODQ0Mzk5MGNmZWY1NzVkOTQzNWEwID0gJCgnPGRpdiBpZD0iaHRtbF82N2JiYTJkZTI5Yzg0NDM5OTBjZmVmNTc1ZDk0MzVhMCIgc3R5bGU9IndpZHRoOiAxMDAuMCU7IGhlaWdodDogMTAwLjAlOyI+QnJ1c3NlbHMsIEJlbGdpdW08L2Rpdj4nKVswXTsKICAgICAgICAgICAgICAgIHBvcHVwX2U2MzA4NGQ3ZmJmYTRjMmRiNDY0NDkxY2M1OWJlODBkLnNldENvbnRlbnQoaHRtbF82N2JiYTJkZTI5Yzg0NDM5OTBjZmVmNTc1ZDk0MzVhMCk7CiAgICAgICAgICAgIAoKICAgICAgICAgICAgY2lyY2xlX21hcmtlcl80ZTM5ZjNhNjg2Yzk0MDdlOTdkOTRiOGIyMmVkZWYwMC5iaW5kUG9wdXAocG9wdXBfZTYzMDg0ZDdmYmZhNGMyZGI0NjQ0OTFjYzU5YmU4MGQpOwoKICAgICAgICAgICAgCiAgICAgICAgCiAgICAKICAgICAgICAgICAgdmFyIGNpcmNsZV9tYXJrZXJfN2YzYmVjYTkzMzM5NDFhYzhkNjk2ZDYwNWIwZmM2MmQgPSBMLmNpcmNsZU1hcmtlcigKICAgICAgICAgICAgICAgIFs0My44NTE5Nzc0LDE4LjM4NjY4NjhdLAogICAgICAgICAgICAgICAgewogICJidWJibGluZ01vdXNlRXZlbnRzIjogdHJ1ZSwKICAiY29sb3IiOiAicmVkIiwKICAiZGFzaEFycmF5IjogbnVsbCwKICAiZGFzaE9mZnNldCI6IG51bGwsCiAgImZpbGwiOiB0cnVlLAogICJmaWxsQ29sb3IiOiAicmVkIiwKICAiZmlsbE9wYWNpdHkiOiAwLjcsCiAgImZpbGxSdWxlIjogImV2ZW5vZGQiLAogICJsaW5lQ2FwIjogInJvdW5kIiwKICAibGluZUpvaW4iOiAicm91bmQiLAogICJvcGFjaXR5IjogMS4wLAogICJyYWRpdXMiOiA1LAogICJzdHJva2UiOiB0cnVlLAogICJ3ZWlnaHQiOiAzCn0KICAgICAgICAgICAgICAgICkuYWRkVG8obWFwXzBlMjkzMzlmMjA5ZDRhODNiMzcxMWVhZGQxNmY2OWY5KTsKICAgICAgICAgICAgCiAgICAKICAgICAgICAgICAgdmFyIHBvcHVwXzU1NmZhN2EwZTdlZDRkYmFiNTY2MGM5MDVlMDcyODU0ID0gTC5wb3B1cCh7bWF4V2lkdGg6ICczMDAnfSk7CgogICAgICAgICAgICAKICAgICAgICAgICAgICAgIHZhciBodG1sXzdkOWUzZjczY2QwYTRiYTk5YzYwNThiNjViZTA5NzNjID0gJCgnPGRpdiBpZD0iaHRtbF83ZDllM2Y3M2NkMGE0YmE5OWM2MDU4YjY1YmUwOTczYyIgc3R5bGU9IndpZHRoOiAxMDAuMCU7IGhlaWdodDogMTAwLjAlOyI+U2FyYWpldm8sIEJvc25pYSBhbmQgSGVyemVnb3ZpbmE8L2Rpdj4nKVswXTsKICAgICAgICAgICAgICAgIHBvcHVwXzU1NmZhN2EwZTdlZDRkYmFiNTY2MGM5MDVlMDcyODU0LnNldENvbnRlbnQoaHRtbF83ZDllM2Y3M2NkMGE0YmE5OWM2MDU4YjY1YmUwOTczYyk7CiAgICAgICAgICAgIAoKICAgICAgICAgICAgY2lyY2xlX21hcmtlcl83ZjNiZWNhOTMzMzk0MWFjOGQ2OTZkNjA1YjBmYzYyZC5iaW5kUG9wdXAocG9wdXBfNTU2ZmE3YTBlN2VkNGRiYWI1NjYwYzkwNWUwNzI4NTQpOwoKICAgICAgICAgICAgCiAgICAgICAgCiAgICAKICAgICAgICAgICAgdmFyIGNpcmNsZV9tYXJrZXJfZWFlZTJhY2UwNTRmNDc3Mzg3ZTRmOTdkYzg1MWI2NjMgPSBMLmNpcmNsZU1hcmtlcigKICAgICAgICAgICAgICAgIFs0Mi42OTc4NjM0LDIzLjMyMjE3ODldLAogICAgICAgICAgICAgICAgewogICJidWJibGluZ01vdXNlRXZlbnRzIjogdHJ1ZSwKICAiY29sb3IiOiAicmVkIiwKICAiZGFzaEFycmF5IjogbnVsbCwKICAiZGFzaE9mZnNldCI6IG51bGwsCiAgImZpbGwiOiB0cnVlLAogICJmaWxsQ29sb3IiOiAicmVkIiwKICAiZmlsbE9wYWNpdHkiOiAwLjcsCiAgImZpbGxSdWxlIjogImV2ZW5vZGQiLAogICJsaW5lQ2FwIjogInJvdW5kIiwKICAibGluZUpvaW4iOiAicm91bmQiLAogICJvcGFjaXR5IjogMS4wLAogICJyYWRpdXMiOiA1LAogICJzdHJva2UiOiB0cnVlLAogICJ3ZWlnaHQiOiAzCn0KICAgICAgICAgICAgICAgICkuYWRkVG8obWFwXzBlMjkzMzlmMjA5ZDRhODNiMzcxMWVhZGQxNmY2OWY5KTsKICAgICAgICAgICAgCiAgICAKICAgICAgICAgICAgdmFyIHBvcHVwXzRkNmFjNzU3ZWIxOTQ0MDRiOGI2OTBhNzBjZmUzZDdlID0gTC5wb3B1cCh7bWF4V2lkdGg6ICczMDAnfSk7CgogICAgICAgICAgICAKICAgICAgICAgICAgICAgIHZhciBodG1sX2MwNjA3MGVhM2JiZjRiOTk5NjQ5NTM5NWJlYTQ0NmE3ID0gJCgnPGRpdiBpZD0iaHRtbF9jMDYwNzBlYTNiYmY0Yjk5OTY0OTUzOTViZWE0NDZhNyIgc3R5bGU9IndpZHRoOiAxMDAuMCU7IGhlaWdodDogMTAwLjAlOyI+U29maWEsIEJ1bGdhcmlhPC9kaXY+JylbMF07CiAgICAgICAgICAgICAgICBwb3B1cF80ZDZhYzc1N2ViMTk0NDA0YjhiNjkwYTcwY2ZlM2Q3ZS5zZXRDb250ZW50KGh0bWxfYzA2MDcwZWEzYmJmNGI5OTk2NDk1Mzk1YmVhNDQ2YTcpOwogICAgICAgICAgICAKCiAgICAgICAgICAgIGNpcmNsZV9tYXJrZXJfZWFlZTJhY2UwNTRmNDc3Mzg3ZTRmOTdkYzg1MWI2NjMuYmluZFBvcHVwKHBvcHVwXzRkNmFjNzU3ZWIxOTQ0MDRiOGI2OTBhNzBjZmUzZDdlKTsKCiAgICAgICAgICAgIAogICAgICAgIAogICAgCiAgICAgICAgICAgIHZhciBjaXJjbGVfbWFya2VyXzYyMTJmMGFmNWI4MjRiODJiZWNmNjEzYzZmMjFkMjQwID0gTC5jaXJjbGVNYXJrZXIoCiAgICAgICAgICAgICAgICBbNDUuODEzMTc3LDE1Ljk3NzA0OF0sCiAgICAgICAgICAgICAgICB7CiAgImJ1YmJsaW5nTW91c2VFdmVudHMiOiB0cnVlLAogICJjb2xvciI6ICJyZWQiLAogICJkYXNoQXJyYXkiOiBudWxsLAogICJkYXNoT2Zmc2V0IjogbnVsbCwKICAiZmlsbCI6IHRydWUsCiAgImZpbGxDb2xvciI6ICJyZWQiLAogICJmaWxsT3BhY2l0eSI6IDAuNywKICAiZmlsbFJ1bGUiOiAiZXZlbm9kZCIsCiAgImxpbmVDYXAiOiAicm91bmQiLAogICJsaW5lSm9pbiI6ICJyb3VuZCIsCiAgIm9wYWNpdHkiOiAxLjAsCiAgInJhZGl1cyI6IDUsCiAgInN0cm9rZSI6IHRydWUsCiAgIndlaWdodCI6IDMKfQogICAgICAgICAgICAgICAgKS5hZGRUbyhtYXBfMGUyOTMzOWYyMDlkNGE4M2IzNzExZWFkZDE2ZjY5ZjkpOwogICAgICAgICAgICAKICAgIAogICAgICAgICAgICB2YXIgcG9wdXBfNjgzZjg0NGI5YWUxNGI2MWIyZjRkNmE3NDc4ZWZmZTEgPSBMLnBvcHVwKHttYXhXaWR0aDogJzMwMCd9KTsKCiAgICAgICAgICAgIAogICAgICAgICAgICAgICAgdmFyIGh0bWxfM2NhM2UzZDExMTdkNDMzYzg0ZGRlODc5MTQzNjlhZDUgPSAkKCc8ZGl2IGlkPSJodG1sXzNjYTNlM2QxMTE3ZDQzM2M4NGRkZTg3OTE0MzY5YWQ1IiBzdHlsZT0id2lkdGg6IDEwMC4wJTsgaGVpZ2h0OiAxMDAuMCU7Ij5aYWdyZWIsIENyb2F0aWE8L2Rpdj4nKVswXTsKICAgICAgICAgICAgICAgIHBvcHVwXzY4M2Y4NDRiOWFlMTRiNjFiMmY0ZDZhNzQ3OGVmZmUxLnNldENvbnRlbnQoaHRtbF8zY2EzZTNkMTExN2Q0MzNjODRkZGU4NzkxNDM2OWFkNSk7CiAgICAgICAgICAgIAoKICAgICAgICAgICAgY2lyY2xlX21hcmtlcl82MjEyZjBhZjViODI0YjgyYmVjZjYxM2M2ZjIxZDI0MC5iaW5kUG9wdXAocG9wdXBfNjgzZjg0NGI5YWUxNGI2MWIyZjRkNmE3NDc4ZWZmZTEpOwoKICAgICAgICAgICAgCiAgICAgICAgCiAgICAKICAgICAgICAgICAgdmFyIGNpcmNsZV9tYXJrZXJfOGJlMzYzZDNjZjNlNDQ5MDk3OTMyMTA1ODIyMGU3NDYgPSBMLmNpcmNsZU1hcmtlcigKICAgICAgICAgICAgICAgIFszNS4xODAyODIsMzMuMzczNjk1ODY2NjUyOV0sCiAgICAgICAgICAgICAgICB7CiAgImJ1YmJsaW5nTW91c2VFdmVudHMiOiB0cnVlLAogICJjb2xvciI6ICJyZWQiLAogICJkYXNoQXJyYXkiOiBudWxsLAogICJkYXNoT2Zmc2V0IjogbnVsbCwKICAiZmlsbCI6IHRydWUsCiAgImZpbGxDb2xvciI6ICJyZWQiLAogICJmaWxsT3BhY2l0eSI6IDAuNywKICAiZmlsbFJ1bGUiOiAiZXZlbm9kZCIsCiAgImxpbmVDYXAiOiAicm91bmQiLAogICJsaW5lSm9pbiI6ICJyb3VuZCIsCiAgIm9wYWNpdHkiOiAxLjAsCiAgInJhZGl1cyI6IDUsCiAgInN0cm9rZSI6IHRydWUsCiAgIndlaWdodCI6IDMKfQogICAgICAgICAgICAgICAgKS5hZGRUbyhtYXBfMGUyOTMzOWYyMDlkNGE4M2IzNzExZWFkZDE2ZjY5ZjkpOwogICAgICAgICAgICAKICAgIAogICAgICAgICAgICB2YXIgcG9wdXBfNzE3MzVjYTg0MDVjNDYzODhjMmVlM2Q5ZGVkMWNkMTUgPSBMLnBvcHVwKHttYXhXaWR0aDogJzMwMCd9KTsKCiAgICAgICAgICAgIAogICAgICAgICAgICAgICAgdmFyIGh0bWxfNTk1OGUzMjE0ZmRmNGUyYTg3NzVhZGQxYmExYjVhYWMgPSAkKCc8ZGl2IGlkPSJodG1sXzU5NThlMzIxNGZkZjRlMmE4Nzc1YWRkMWJhMWI1YWFjIiBzdHlsZT0id2lkdGg6IDEwMC4wJTsgaGVpZ2h0OiAxMDAuMCU7Ij5OaWNvc2lhLCBDeXBydXM8L2Rpdj4nKVswXTsKICAgICAgICAgICAgICAgIHBvcHVwXzcxNzM1Y2E4NDA1YzQ2Mzg4YzJlZTNkOWRlZDFjZDE1LnNldENvbnRlbnQoaHRtbF81OTU4ZTMyMTRmZGY0ZTJhODc3NWFkZDFiYTFiNWFhYyk7CiAgICAgICAgICAgIAoKICAgICAgICAgICAgY2lyY2xlX21hcmtlcl84YmUzNjNkM2NmM2U0NDkwOTc5MzIxMDU4MjIwZTc0Ni5iaW5kUG9wdXAocG9wdXBfNzE3MzVjYTg0MDVjNDYzODhjMmVlM2Q5ZGVkMWNkMTUpOwoKICAgICAgICAgICAgCiAgICAgICAgCiAgICAKICAgICAgICAgICAgdmFyIGNpcmNsZV9tYXJrZXJfYzEyMjEzYmIzMWRlNGFiMDljMjM2NzMzMzU3MTBjMDUgPSBMLmNpcmNsZU1hcmtlcigKICAgICAgICAgICAgICAgIFs1MC4wODc0NjU0LDE0LjQyMTI1MzVdLAogICAgICAgICAgICAgICAgewogICJidWJibGluZ01vdXNlRXZlbnRzIjogdHJ1ZSwKICAiY29sb3IiOiAicmVkIiwKICAiZGFzaEFycmF5IjogbnVsbCwKICAiZGFzaE9mZnNldCI6IG51bGwsCiAgImZpbGwiOiB0cnVlLAogICJmaWxsQ29sb3IiOiAicmVkIiwKICAiZmlsbE9wYWNpdHkiOiAwLjcsCiAgImZpbGxSdWxlIjogImV2ZW5vZGQiLAogICJsaW5lQ2FwIjogInJvdW5kIiwKICAibGluZUpvaW4iOiAicm91bmQiLAogICJvcGFjaXR5IjogMS4wLAogICJyYWRpdXMiOiA1LAogICJzdHJva2UiOiB0cnVlLAogICJ3ZWlnaHQiOiAzCn0KICAgICAgICAgICAgICAgICkuYWRkVG8obWFwXzBlMjkzMzlmMjA5ZDRhODNiMzcxMWVhZGQxNmY2OWY5KTsKICAgICAgICAgICAgCiAgICAKICAgICAgICAgICAgdmFyIHBvcHVwXzYwY2E5YmI0OThjNjRiNTA5MzMzZGIxNTYxODgzZWI0ID0gTC5wb3B1cCh7bWF4V2lkdGg6ICczMDAnfSk7CgogICAgICAgICAgICAKICAgICAgICAgICAgICAgIHZhciBodG1sX2NmYzFlZDdlOTE3NzRjOThiNjRlM2Y3MzA5MTg4MWMwID0gJCgnPGRpdiBpZD0iaHRtbF9jZmMxZWQ3ZTkxNzc0Yzk4YjY0ZTNmNzMwOTE4ODFjMCIgc3R5bGU9IndpZHRoOiAxMDAuMCU7IGhlaWdodDogMTAwLjAlOyI+UHJhZ3VlLCBDemVjaCBSZXB1YmxpYzwvZGl2PicpWzBdOwogICAgICAgICAgICAgICAgcG9wdXBfNjBjYTliYjQ5OGM2NGI1MDkzMzNkYjE1NjE4ODNlYjQuc2V0Q29udGVudChodG1sX2NmYzFlZDdlOTE3NzRjOThiNjRlM2Y3MzA5MTg4MWMwKTsKICAgICAgICAgICAgCgogICAgICAgICAgICBjaXJjbGVfbWFya2VyX2MxMjIxM2JiMzFkZTRhYjA5YzIzNjczMzM1NzEwYzA1LmJpbmRQb3B1cChwb3B1cF82MGNhOWJiNDk4YzY0YjUwOTMzM2RiMTU2MTg4M2ViNCk7CgogICAgICAgICAgICAKICAgICAgICAKICAgIAogICAgICAgICAgICB2YXIgY2lyY2xlX21hcmtlcl9hZjdhOWRlMTAwYWQ0M2ZlOGRjMGZhNTZhMTM4OTI3OCA9IEwuY2lyY2xlTWFya2VyKAogICAgICAgICAgICAgICAgWzU1LjY4NjcyNDMsMTIuNTcwMDcyNF0sCiAgICAgICAgICAgICAgICB7CiAgImJ1YmJsaW5nTW91c2VFdmVudHMiOiB0cnVlLAogICJjb2xvciI6ICJyZWQiLAogICJkYXNoQXJyYXkiOiBudWxsLAogICJkYXNoT2Zmc2V0IjogbnVsbCwKICAiZmlsbCI6IHRydWUsCiAgImZpbGxDb2xvciI6ICJyZWQiLAogICJmaWxsT3BhY2l0eSI6IDAuNywKICAiZmlsbFJ1bGUiOiAiZXZlbm9kZCIsCiAgImxpbmVDYXAiOiAicm91bmQiLAogICJsaW5lSm9pbiI6ICJyb3VuZCIsCiAgIm9wYWNpdHkiOiAxLjAsCiAgInJhZGl1cyI6IDUsCiAgInN0cm9rZSI6IHRydWUsCiAgIndlaWdodCI6IDMKfQogICAgICAgICAgICAgICAgKS5hZGRUbyhtYXBfMGUyOTMzOWYyMDlkNGE4M2IzNzExZWFkZDE2ZjY5ZjkpOwogICAgICAgICAgICAKICAgIAogICAgICAgICAgICB2YXIgcG9wdXBfYzdkODk2N2UxOTc4NDQ1OWJiZWU3NTVkMzc1NDg2NzUgPSBMLnBvcHVwKHttYXhXaWR0aDogJzMwMCd9KTsKCiAgICAgICAgICAgIAogICAgICAgICAgICAgICAgdmFyIGh0bWxfZTZhNmFjODI2ZDM2NDJjM2FhZmQ1ZWJlZjNiNjc0ZjIgPSAkKCc8ZGl2IGlkPSJodG1sX2U2YTZhYzgyNmQzNjQyYzNhYWZkNWViZWYzYjY3NGYyIiBzdHlsZT0id2lkdGg6IDEwMC4wJTsgaGVpZ2h0OiAxMDAuMCU7Ij5Db3BlbmhhZ2VuLCBEZW5tYXJrPC9kaXY+JylbMF07CiAgICAgICAgICAgICAgICBwb3B1cF9jN2Q4OTY3ZTE5Nzg0NDU5YmJlZTc1NWQzNzU0ODY3NS5zZXRDb250ZW50KGh0bWxfZTZhNmFjODI2ZDM2NDJjM2FhZmQ1ZWJlZjNiNjc0ZjIpOwogICAgICAgICAgICAKCiAgICAgICAgICAgIGNpcmNsZV9tYXJrZXJfYWY3YTlkZTEwMGFkNDNmZThkYzBmYTU2YTEzODkyNzguYmluZFBvcHVwKHBvcHVwX2M3ZDg5NjdlMTk3ODQ0NTliYmVlNzU1ZDM3NTQ4Njc1KTsKCiAgICAgICAgICAgIAogICAgICAgIAogICAgCiAgICAgICAgICAgIHZhciBjaXJjbGVfbWFya2VyX2I2YjUwYzNjNWI5MjQwN2VhYzQ5YjkzM2VlY2Y4YWVjID0gTC5jaXJjbGVNYXJrZXIoCiAgICAgICAgICAgICAgICBbNTkuNDM3MjE1NSwyNC43NDUzNjg4XSwKICAgICAgICAgICAgICAgIHsKICAiYnViYmxpbmdNb3VzZUV2ZW50cyI6IHRydWUsCiAgImNvbG9yIjogInJlZCIsCiAgImRhc2hBcnJheSI6IG51bGwsCiAgImRhc2hPZmZzZXQiOiBudWxsLAogICJmaWxsIjogdHJ1ZSwKICAiZmlsbENvbG9yIjogInJlZCIsCiAgImZpbGxPcGFjaXR5IjogMC43LAogICJmaWxsUnVsZSI6ICJldmVub2RkIiwKICAibGluZUNhcCI6ICJyb3VuZCIsCiAgImxpbmVKb2luIjogInJvdW5kIiwKICAib3BhY2l0eSI6IDEuMCwKICAicmFkaXVzIjogNSwKICAic3Ryb2tlIjogdHJ1ZSwKICAid2VpZ2h0IjogMwp9CiAgICAgICAgICAgICAgICApLmFkZFRvKG1hcF8wZTI5MzM5ZjIwOWQ0YTgzYjM3MTFlYWRkMTZmNjlmOSk7CiAgICAgICAgICAgIAogICAgCiAgICAgICAgICAgIHZhciBwb3B1cF9lYmY1M2JmYTU5MzY0ODBhOGZiNDdmMGY2MTlmYTYxZiA9IEwucG9wdXAoe21heFdpZHRoOiAnMzAwJ30pOwoKICAgICAgICAgICAgCiAgICAgICAgICAgICAgICB2YXIgaHRtbF9hYWFiZTdiNzczYmE0YTk4YmFmMzE1ZDhhNDgzOTkwNSA9ICQoJzxkaXYgaWQ9Imh0bWxfYWFhYmU3Yjc3M2JhNGE5OGJhZjMxNWQ4YTQ4Mzk5MDUiIHN0eWxlPSJ3aWR0aDogMTAwLjAlOyBoZWlnaHQ6IDEwMC4wJTsiPlRhbGxpbm4sIEVzdG9uaWE8L2Rpdj4nKVswXTsKICAgICAgICAgICAgICAgIHBvcHVwX2ViZjUzYmZhNTkzNjQ4MGE4ZmI0N2YwZjYxOWZhNjFmLnNldENvbnRlbnQoaHRtbF9hYWFiZTdiNzczYmE0YTk4YmFmMzE1ZDhhNDgzOTkwNSk7CiAgICAgICAgICAgIAoKICAgICAgICAgICAgY2lyY2xlX21hcmtlcl9iNmI1MGMzYzViOTI0MDdlYWM0OWI5MzNlZWNmOGFlYy5iaW5kUG9wdXAocG9wdXBfZWJmNTNiZmE1OTM2NDgwYThmYjQ3ZjBmNjE5ZmE2MWYpOwoKICAgICAgICAgICAgCiAgICAgICAgCiAgICAKICAgICAgICAgICAgdmFyIGNpcmNsZV9tYXJrZXJfMDhkZjc3NzcxZGUxNDRmOThkMjZkZDI0M2NlMjY0OGQgPSBMLmNpcmNsZU1hcmtlcigKICAgICAgICAgICAgICAgIFs2MC4xNzEzMTk4LDI0Ljk0MTQ1NjZdLAogICAgICAgICAgICAgICAgewogICJidWJibGluZ01vdXNlRXZlbnRzIjogdHJ1ZSwKICAiY29sb3IiOiAicmVkIiwKICAiZGFzaEFycmF5IjogbnVsbCwKICAiZGFzaE9mZnNldCI6IG51bGwsCiAgImZpbGwiOiB0cnVlLAogICJmaWxsQ29sb3IiOiAicmVkIiwKICAiZmlsbE9wYWNpdHkiOiAwLjcsCiAgImZpbGxSdWxlIjogImV2ZW5vZGQiLAogICJsaW5lQ2FwIjogInJvdW5kIiwKICAibGluZUpvaW4iOiAicm91bmQiLAogICJvcGFjaXR5IjogMS4wLAogICJyYWRpdXMiOiA1LAogICJzdHJva2UiOiB0cnVlLAogICJ3ZWlnaHQiOiAzCn0KICAgICAgICAgICAgICAgICkuYWRkVG8obWFwXzBlMjkzMzlmMjA5ZDRhODNiMzcxMWVhZGQxNmY2OWY5KTsKICAgICAgICAgICAgCiAgICAKICAgICAgICAgICAgdmFyIHBvcHVwXzNiNjBlY2NmZjAxNTQxOTZhZTFkYjdlZDBmNTNmN2RiID0gTC5wb3B1cCh7bWF4V2lkdGg6ICczMDAnfSk7CgogICAgICAgICAgICAKICAgICAgICAgICAgICAgIHZhciBodG1sX2JjYmVkMjc2ZjYzMjRiNDY5Y2Q5YmJhMDA3OGJiNGIzID0gJCgnPGRpdiBpZD0iaHRtbF9iY2JlZDI3NmY2MzI0YjQ2OWNkOWJiYTAwNzhiYjRiMyIgc3R5bGU9IndpZHRoOiAxMDAuMCU7IGhlaWdodDogMTAwLjAlOyI+SGVsc2lua2ksIEZpbmxhbmQ8L2Rpdj4nKVswXTsKICAgICAgICAgICAgICAgIHBvcHVwXzNiNjBlY2NmZjAxNTQxOTZhZTFkYjdlZDBmNTNmN2RiLnNldENvbnRlbnQoaHRtbF9iY2JlZDI3NmY2MzI0YjQ2OWNkOWJiYTAwNzhiYjRiMyk7CiAgICAgICAgICAgIAoKICAgICAgICAgICAgY2lyY2xlX21hcmtlcl8wOGRmNzc3NzFkZTE0NGY5OGQyNmRkMjQzY2UyNjQ4ZC5iaW5kUG9wdXAocG9wdXBfM2I2MGVjY2ZmMDE1NDE5NmFlMWRiN2VkMGY1M2Y3ZGIpOwoKICAgICAgICAgICAgCiAgICAgICAgCiAgICAKICAgICAgICAgICAgdmFyIGNpcmNsZV9tYXJrZXJfMDA4MzZjMTYzODBiNDYxYmI3MzIwZDJhZjM2YzE3NjMgPSBMLmNpcmNsZU1hcmtlcigKICAgICAgICAgICAgICAgIFs0OC44NTY2MTAxLDIuMzUxNDk5Ml0sCiAgICAgICAgICAgICAgICB7CiAgImJ1YmJsaW5nTW91c2VFdmVudHMiOiB0cnVlLAogICJjb2xvciI6ICJyZWQiLAogICJkYXNoQXJyYXkiOiBudWxsLAogICJkYXNoT2Zmc2V0IjogbnVsbCwKICAiZmlsbCI6IHRydWUsCiAgImZpbGxDb2xvciI6ICJyZWQiLAogICJmaWxsT3BhY2l0eSI6IDAuNywKICAiZmlsbFJ1bGUiOiAiZXZlbm9kZCIsCiAgImxpbmVDYXAiOiAicm91bmQiLAogICJsaW5lSm9pbiI6ICJyb3VuZCIsCiAgIm9wYWNpdHkiOiAxLjAsCiAgInJhZGl1cyI6IDUsCiAgInN0cm9rZSI6IHRydWUsCiAgIndlaWdodCI6IDMKfQogICAgICAgICAgICAgICAgKS5hZGRUbyhtYXBfMGUyOTMzOWYyMDlkNGE4M2IzNzExZWFkZDE2ZjY5ZjkpOwogICAgICAgICAgICAKICAgIAogICAgICAgICAgICB2YXIgcG9wdXBfNDMwMDI2OTQ0MzUyNDE4NTk3ZDg1NTQ2NzI2ZmU1MGIgPSBMLnBvcHVwKHttYXhXaWR0aDogJzMwMCd9KTsKCiAgICAgICAgICAgIAogICAgICAgICAgICAgICAgdmFyIGh0bWxfYzc0NGIyNDMwYjcwNDZjMGFjNjA4NGM3ZWViMGRjZDggPSAkKCc8ZGl2IGlkPSJodG1sX2M3NDRiMjQzMGI3MDQ2YzBhYzYwODRjN2VlYjBkY2Q4IiBzdHlsZT0id2lkdGg6IDEwMC4wJTsgaGVpZ2h0OiAxMDAuMCU7Ij5QYXJpcywgRnJhbmNlPC9kaXY+JylbMF07CiAgICAgICAgICAgICAgICBwb3B1cF80MzAwMjY5NDQzNTI0MTg1OTdkODU1NDY3MjZmZTUwYi5zZXRDb250ZW50KGh0bWxfYzc0NGIyNDMwYjcwNDZjMGFjNjA4NGM3ZWViMGRjZDgpOwogICAgICAgICAgICAKCiAgICAgICAgICAgIGNpcmNsZV9tYXJrZXJfMDA4MzZjMTYzODBiNDYxYmI3MzIwZDJhZjM2YzE3NjMuYmluZFBvcHVwKHBvcHVwXzQzMDAyNjk0NDM1MjQxODU5N2Q4NTU0NjcyNmZlNTBiKTsKCiAgICAgICAgICAgIAogICAgICAgIAogICAgCiAgICAgICAgICAgIHZhciBjaXJjbGVfbWFya2VyXzE0OGQzOGMwMmQ1YTRiM2FiNWFiYzQ2OGQ4MTkxYzZmID0gTC5jaXJjbGVNYXJrZXIoCiAgICAgICAgICAgICAgICBbNDEuNjkzNDU5MSw0NC44MDE0NDk1XSwKICAgICAgICAgICAgICAgIHsKICAiYnViYmxpbmdNb3VzZUV2ZW50cyI6IHRydWUsCiAgImNvbG9yIjogInJlZCIsCiAgImRhc2hBcnJheSI6IG51bGwsCiAgImRhc2hPZmZzZXQiOiBudWxsLAogICJmaWxsIjogdHJ1ZSwKICAiZmlsbENvbG9yIjogInJlZCIsCiAgImZpbGxPcGFjaXR5IjogMC43LAogICJmaWxsUnVsZSI6ICJldmVub2RkIiwKICAibGluZUNhcCI6ICJyb3VuZCIsCiAgImxpbmVKb2luIjogInJvdW5kIiwKICAib3BhY2l0eSI6IDEuMCwKICAicmFkaXVzIjogNSwKICAic3Ryb2tlIjogdHJ1ZSwKICAid2VpZ2h0IjogMwp9CiAgICAgICAgICAgICAgICApLmFkZFRvKG1hcF8wZTI5MzM5ZjIwOWQ0YTgzYjM3MTFlYWRkMTZmNjlmOSk7CiAgICAgICAgICAgIAogICAgCiAgICAgICAgICAgIHZhciBwb3B1cF80OWY4NjFjYzJhZjI0NWQ4OTFiNWE5OTk1NTYxNWI0YiA9IEwucG9wdXAoe21heFdpZHRoOiAnMzAwJ30pOwoKICAgICAgICAgICAgCiAgICAgICAgICAgICAgICB2YXIgaHRtbF8yODFjM2E2ZGQ3MzA0ZTU2YTdkMjhiYzliYmViZjczMSA9ICQoJzxkaXYgaWQ9Imh0bWxfMjgxYzNhNmRkNzMwNGU1NmE3ZDI4YmM5YmJlYmY3MzEiIHN0eWxlPSJ3aWR0aDogMTAwLjAlOyBoZWlnaHQ6IDEwMC4wJTsiPlRiaWxpc2ksIEdlb3JnaWE8L2Rpdj4nKVswXTsKICAgICAgICAgICAgICAgIHBvcHVwXzQ5Zjg2MWNjMmFmMjQ1ZDg5MWI1YTk5OTU1NjE1YjRiLnNldENvbnRlbnQoaHRtbF8yODFjM2E2ZGQ3MzA0ZTU2YTdkMjhiYzliYmViZjczMSk7CiAgICAgICAgICAgIAoKICAgICAgICAgICAgY2lyY2xlX21hcmtlcl8xNDhkMzhjMDJkNWE0YjNhYjVhYmM0NjhkODE5MWM2Zi5iaW5kUG9wdXAocG9wdXBfNDlmODYxY2MyYWYyNDVkODkxYjVhOTk5NTU2MTViNGIpOwoKICAgICAgICAgICAgCiAgICAgICAgCiAgICAKICAgICAgICAgICAgdmFyIGNpcmNsZV9tYXJrZXJfMDYyOTk2ZDhkOWUyNDllMjljZDI5YzdmMDVlMWJiMDkgPSBMLmNpcmNsZU1hcmtlcigKICAgICAgICAgICAgICAgIFs1Mi41MTcwMzY1LDEzLjM4ODg1OTldLAogICAgICAgICAgICAgICAgewogICJidWJibGluZ01vdXNlRXZlbnRzIjogdHJ1ZSwKICAiY29sb3IiOiAicmVkIiwKICAiZGFzaEFycmF5IjogbnVsbCwKICAiZGFzaE9mZnNldCI6IG51bGwsCiAgImZpbGwiOiB0cnVlLAogICJmaWxsQ29sb3IiOiAicmVkIiwKICAiZmlsbE9wYWNpdHkiOiAwLjcsCiAgImZpbGxSdWxlIjogImV2ZW5vZGQiLAogICJsaW5lQ2FwIjogInJvdW5kIiwKICAibGluZUpvaW4iOiAicm91bmQiLAogICJvcGFjaXR5IjogMS4wLAogICJyYWRpdXMiOiA1LAogICJzdHJva2UiOiB0cnVlLAogICJ3ZWlnaHQiOiAzCn0KICAgICAgICAgICAgICAgICkuYWRkVG8obWFwXzBlMjkzMzlmMjA5ZDRhODNiMzcxMWVhZGQxNmY2OWY5KTsKICAgICAgICAgICAgCiAgICAKICAgICAgICAgICAgdmFyIHBvcHVwX2U2NDJjOGY3ZGRlZjQ4ZmRiN2Q2NzRiNmZjOTBlNDAyID0gTC5wb3B1cCh7bWF4V2lkdGg6ICczMDAnfSk7CgogICAgICAgICAgICAKICAgICAgICAgICAgICAgIHZhciBodG1sXzZkMTk0Yjc4NTc0YTQ1MTRiODZkYTNiMmUzODkyYjQ2ID0gJCgnPGRpdiBpZD0iaHRtbF82ZDE5NGI3ODU3NGE0NTE0Yjg2ZGEzYjJlMzg5MmI0NiIgc3R5bGU9IndpZHRoOiAxMDAuMCU7IGhlaWdodDogMTAwLjAlOyI+QmVybGluLCBHZXJtYW55PC9kaXY+JylbMF07CiAgICAgICAgICAgICAgICBwb3B1cF9lNjQyYzhmN2RkZWY0OGZkYjdkNjc0YjZmYzkwZTQwMi5zZXRDb250ZW50KGh0bWxfNmQxOTRiNzg1NzRhNDUxNGI4NmRhM2IyZTM4OTJiNDYpOwogICAgICAgICAgICAKCiAgICAgICAgICAgIGNpcmNsZV9tYXJrZXJfMDYyOTk2ZDhkOWUyNDllMjljZDI5YzdmMDVlMWJiMDkuYmluZFBvcHVwKHBvcHVwX2U2NDJjOGY3ZGRlZjQ4ZmRiN2Q2NzRiNmZjOTBlNDAyKTsKCiAgICAgICAgICAgIAogICAgICAgIAogICAgCiAgICAgICAgICAgIHZhciBjaXJjbGVfbWFya2VyXzNlYzYxYjg0NDA3MjQ3Y2Y5NWNiNzE5ZmFmMGQ2ZWE1ID0gTC5jaXJjbGVNYXJrZXIoCiAgICAgICAgICAgICAgICBbMzcuOTg0MTQ5MywyMy43Mjc5ODQzXSwKICAgICAgICAgICAgICAgIHsKICAiYnViYmxpbmdNb3VzZUV2ZW50cyI6IHRydWUsCiAgImNvbG9yIjogInJlZCIsCiAgImRhc2hBcnJheSI6IG51bGwsCiAgImRhc2hPZmZzZXQiOiBudWxsLAogICJmaWxsIjogdHJ1ZSwKICAiZmlsbENvbG9yIjogInJlZCIsCiAgImZpbGxPcGFjaXR5IjogMC43LAogICJmaWxsUnVsZSI6ICJldmVub2RkIiwKICAibGluZUNhcCI6ICJyb3VuZCIsCiAgImxpbmVKb2luIjogInJvdW5kIiwKICAib3BhY2l0eSI6IDEuMCwKICAicmFkaXVzIjogNSwKICAic3Ryb2tlIjogdHJ1ZSwKICAid2VpZ2h0IjogMwp9CiAgICAgICAgICAgICAgICApLmFkZFRvKG1hcF8wZTI5MzM5ZjIwOWQ0YTgzYjM3MTFlYWRkMTZmNjlmOSk7CiAgICAgICAgICAgIAogICAgCiAgICAgICAgICAgIHZhciBwb3B1cF80ODBkZGE1ZTEzMDQ0MGUxOWE2YjBjZGU5NWFiNzM4MyA9IEwucG9wdXAoe21heFdpZHRoOiAnMzAwJ30pOwoKICAgICAgICAgICAgCiAgICAgICAgICAgICAgICB2YXIgaHRtbF8xYWY2MmQyOTJhN2Y0MDNhODAyYmY0YTFlNWM5Yjc0ZCA9ICQoJzxkaXYgaWQ9Imh0bWxfMWFmNjJkMjkyYTdmNDAzYTgwMmJmNGExZTVjOWI3NGQiIHN0eWxlPSJ3aWR0aDogMTAwLjAlOyBoZWlnaHQ6IDEwMC4wJTsiPkF0aGVucywgR3JlZWNlPC9kaXY+JylbMF07CiAgICAgICAgICAgICAgICBwb3B1cF80ODBkZGE1ZTEzMDQ0MGUxOWE2YjBjZGU5NWFiNzM4My5zZXRDb250ZW50KGh0bWxfMWFmNjJkMjkyYTdmNDAzYTgwMmJmNGExZTVjOWI3NGQpOwogICAgICAgICAgICAKCiAgICAgICAgICAgIGNpcmNsZV9tYXJrZXJfM2VjNjFiODQ0MDcyNDdjZjk1Y2I3MTlmYWYwZDZlYTUuYmluZFBvcHVwKHBvcHVwXzQ4MGRkYTVlMTMwNDQwZTE5YTZiMGNkZTk1YWI3MzgzKTsKCiAgICAgICAgICAgIAogICAgICAgIAogICAgCiAgICAgICAgICAgIHZhciBjaXJjbGVfbWFya2VyXzEzMmY4MTAwOTc1NjQ5ZTRiOWRmOTM2YmQ3NDhlNDFiID0gTC5jaXJjbGVNYXJrZXIoCiAgICAgICAgICAgICAgICBbNDcuNDk4MzgxNSwxOS4wNDA0NzA3XSwKICAgICAgICAgICAgICAgIHsKICAiYnViYmxpbmdNb3VzZUV2ZW50cyI6IHRydWUsCiAgImNvbG9yIjogInJlZCIsCiAgImRhc2hBcnJheSI6IG51bGwsCiAgImRhc2hPZmZzZXQiOiBudWxsLAogICJmaWxsIjogdHJ1ZSwKICAiZmlsbENvbG9yIjogInJlZCIsCiAgImZpbGxPcGFjaXR5IjogMC43LAogICJmaWxsUnVsZSI6ICJldmVub2RkIiwKICAibGluZUNhcCI6ICJyb3VuZCIsCiAgImxpbmVKb2luIjogInJvdW5kIiwKICAib3BhY2l0eSI6IDEuMCwKICAicmFkaXVzIjogNSwKICAic3Ryb2tlIjogdHJ1ZSwKICAid2VpZ2h0IjogMwp9CiAgICAgICAgICAgICAgICApLmFkZFRvKG1hcF8wZTI5MzM5ZjIwOWQ0YTgzYjM3MTFlYWRkMTZmNjlmOSk7CiAgICAgICAgICAgIAogICAgCiAgICAgICAgICAgIHZhciBwb3B1cF9lZGFmZDhmODQxYTY0Y2Y0YTkwYTg0NzcyZmYzNjMyZiA9IEwucG9wdXAoe21heFdpZHRoOiAnMzAwJ30pOwoKICAgICAgICAgICAgCiAgICAgICAgICAgICAgICB2YXIgaHRtbF81NTk1OTNkMTMxZWI0YTI0OWFkMDk4YzYzNzY4MTE2NyA9ICQoJzxkaXYgaWQ9Imh0bWxfNTU5NTkzZDEzMWViNGEyNDlhZDA5OGM2Mzc2ODExNjciIHN0eWxlPSJ3aWR0aDogMTAwLjAlOyBoZWlnaHQ6IDEwMC4wJTsiPkJ1ZGFwZXN0LCBIdW5nYXJ5PC9kaXY+JylbMF07CiAgICAgICAgICAgICAgICBwb3B1cF9lZGFmZDhmODQxYTY0Y2Y0YTkwYTg0NzcyZmYzNjMyZi5zZXRDb250ZW50KGh0bWxfNTU5NTkzZDEzMWViNGEyNDlhZDA5OGM2Mzc2ODExNjcpOwogICAgICAgICAgICAKCiAgICAgICAgICAgIGNpcmNsZV9tYXJrZXJfMTMyZjgxMDA5NzU2NDllNGI5ZGY5MzZiZDc0OGU0MWIuYmluZFBvcHVwKHBvcHVwX2VkYWZkOGY4NDFhNjRjZjRhOTBhODQ3NzJmZjM2MzJmKTsKCiAgICAgICAgICAgIAogICAgICAgIAogICAgCiAgICAgICAgICAgIHZhciBjaXJjbGVfbWFya2VyXzE4MzA5NDQwN2QxZDQ1OGZhZDQ4NThkZjEwNjZjNGUyID0gTC5jaXJjbGVNYXJrZXIoCiAgICAgICAgICAgICAgICBbNjQuMjQ0NDI2OCwtMjEuNzY4MTA2MzAzNzgwNF0sCiAgICAgICAgICAgICAgICB7CiAgImJ1YmJsaW5nTW91c2VFdmVudHMiOiB0cnVlLAogICJjb2xvciI6ICJyZWQiLAogICJkYXNoQXJyYXkiOiBudWxsLAogICJkYXNoT2Zmc2V0IjogbnVsbCwKICAiZmlsbCI6IHRydWUsCiAgImZpbGxDb2xvciI6ICJyZWQiLAogICJmaWxsT3BhY2l0eSI6IDAuNywKICAiZmlsbFJ1bGUiOiAiZXZlbm9kZCIsCiAgImxpbmVDYXAiOiAicm91bmQiLAogICJsaW5lSm9pbiI6ICJyb3VuZCIsCiAgIm9wYWNpdHkiOiAxLjAsCiAgInJhZGl1cyI6IDUsCiAgInN0cm9rZSI6IHRydWUsCiAgIndlaWdodCI6IDMKfQogICAgICAgICAgICAgICAgKS5hZGRUbyhtYXBfMGUyOTMzOWYyMDlkNGE4M2IzNzExZWFkZDE2ZjY5ZjkpOwogICAgICAgICAgICAKICAgIAogICAgICAgICAgICB2YXIgcG9wdXBfMTk5NjIzOTU2Y2RjNDY4NDkyNDFlOGQyZDA5MDU0NjAgPSBMLnBvcHVwKHttYXhXaWR0aDogJzMwMCd9KTsKCiAgICAgICAgICAgIAogICAgICAgICAgICAgICAgdmFyIGh0bWxfZTc2YzRmM2ViZWIxNDlhZDkzMTIxMjZmMjU2MTFmNzAgPSAkKCc8ZGl2IGlkPSJodG1sX2U3NmM0ZjNlYmViMTQ5YWQ5MzEyMTI2ZjI1NjExZjcwIiBzdHlsZT0id2lkdGg6IDEwMC4wJTsgaGVpZ2h0OiAxMDAuMCU7Ij5SZXlramF2w61rLCBJY2VsYW5kPC9kaXY+JylbMF07CiAgICAgICAgICAgICAgICBwb3B1cF8xOTk2MjM5NTZjZGM0Njg0OTI0MWU4ZDJkMDkwNTQ2MC5zZXRDb250ZW50KGh0bWxfZTc2YzRmM2ViZWIxNDlhZDkzMTIxMjZmMjU2MTFmNzApOwogICAgICAgICAgICAKCiAgICAgICAgICAgIGNpcmNsZV9tYXJrZXJfMTgzMDk0NDA3ZDFkNDU4ZmFkNDg1OGRmMTA2NmM0ZTIuYmluZFBvcHVwKHBvcHVwXzE5OTYyMzk1NmNkYzQ2ODQ5MjQxZThkMmQwOTA1NDYwKTsKCiAgICAgICAgICAgIAogICAgICAgIAogICAgCiAgICAgICAgICAgIHZhciBjaXJjbGVfbWFya2VyXzg5YzY2YjcwNTc3NTQ4ODI5OTcxOGNhNzcyMDZiOTU5ID0gTC5jaXJjbGVNYXJrZXIoCiAgICAgICAgICAgICAgICBbNTMuMzQ5NzY0NSwtNi4yNjAyNzMyXSwKICAgICAgICAgICAgICAgIHsKICAiYnViYmxpbmdNb3VzZUV2ZW50cyI6IHRydWUsCiAgImNvbG9yIjogInJlZCIsCiAgImRhc2hBcnJheSI6IG51bGwsCiAgImRhc2hPZmZzZXQiOiBudWxsLAogICJmaWxsIjogdHJ1ZSwKICAiZmlsbENvbG9yIjogInJlZCIsCiAgImZpbGxPcGFjaXR5IjogMC43LAogICJmaWxsUnVsZSI6ICJldmVub2RkIiwKICAibGluZUNhcCI6ICJyb3VuZCIsCiAgImxpbmVKb2luIjogInJvdW5kIiwKICAib3BhY2l0eSI6IDEuMCwKICAicmFkaXVzIjogNSwKICAic3Ryb2tlIjogdHJ1ZSwKICAid2VpZ2h0IjogMwp9CiAgICAgICAgICAgICAgICApLmFkZFRvKG1hcF8wZTI5MzM5ZjIwOWQ0YTgzYjM3MTFlYWRkMTZmNjlmOSk7CiAgICAgICAgICAgIAogICAgCiAgICAgICAgICAgIHZhciBwb3B1cF81YTAzMzJkNDM4ODM0NjM1Yjc3MGI1MjUxYTExNjNhZSA9IEwucG9wdXAoe21heFdpZHRoOiAnMzAwJ30pOwoKICAgICAgICAgICAgCiAgICAgICAgICAgICAgICB2YXIgaHRtbF8yYTcyODFhNTE0NDQ0NTkxYjk5MTlkOGIyNWNiZDRhNSA9ICQoJzxkaXYgaWQ9Imh0bWxfMmE3MjgxYTUxNDQ0NDU5MWI5OTE5ZDhiMjVjYmQ0YTUiIHN0eWxlPSJ3aWR0aDogMTAwLjAlOyBoZWlnaHQ6IDEwMC4wJTsiPkR1YmxpbiwgSXJlbGFuZDwvZGl2PicpWzBdOwogICAgICAgICAgICAgICAgcG9wdXBfNWEwMzMyZDQzODgzNDYzNWI3NzBiNTI1MWExMTYzYWUuc2V0Q29udGVudChodG1sXzJhNzI4MWE1MTQ0NDQ1OTFiOTkxOWQ4YjI1Y2JkNGE1KTsKICAgICAgICAgICAgCgogICAgICAgICAgICBjaXJjbGVfbWFya2VyXzg5YzY2YjcwNTc3NTQ4ODI5OTcxOGNhNzcyMDZiOTU5LmJpbmRQb3B1cChwb3B1cF81YTAzMzJkNDM4ODM0NjM1Yjc3MGI1MjUxYTExNjNhZSk7CgogICAgICAgICAgICAKICAgICAgICAKICAgIAogICAgICAgICAgICB2YXIgY2lyY2xlX21hcmtlcl9mMDJiYjFjYzA4YzE0YWVmYWIyNGRkMDJjOTMxZDBmNSA9IEwuY2lyY2xlTWFya2VyKAogICAgICAgICAgICAgICAgWzQxLjg5NDgwMiwxMi40ODUzMzg0XSwKICAgICAgICAgICAgICAgIHsKICAiYnViYmxpbmdNb3VzZUV2ZW50cyI6IHRydWUsCiAgImNvbG9yIjogInJlZCIsCiAgImRhc2hBcnJheSI6IG51bGwsCiAgImRhc2hPZmZzZXQiOiBudWxsLAogICJmaWxsIjogdHJ1ZSwKICAiZmlsbENvbG9yIjogInJlZCIsCiAgImZpbGxPcGFjaXR5IjogMC43LAogICJmaWxsUnVsZSI6ICJldmVub2RkIiwKICAibGluZUNhcCI6ICJyb3VuZCIsCiAgImxpbmVKb2luIjogInJvdW5kIiwKICAib3BhY2l0eSI6IDEuMCwKICAicmFkaXVzIjogNSwKICAic3Ryb2tlIjogdHJ1ZSwKICAid2VpZ2h0IjogMwp9CiAgICAgICAgICAgICAgICApLmFkZFRvKG1hcF8wZTI5MzM5ZjIwOWQ0YTgzYjM3MTFlYWRkMTZmNjlmOSk7CiAgICAgICAgICAgIAogICAgCiAgICAgICAgICAgIHZhciBwb3B1cF9kYTc4ZWFlNzI0ZTU0NzY1OTNhZjViNzIzNDc5NjYzOSA9IEwucG9wdXAoe21heFdpZHRoOiAnMzAwJ30pOwoKICAgICAgICAgICAgCiAgICAgICAgICAgICAgICB2YXIgaHRtbF8zY2U0ZjJmNzcwNWY0YTBmYjQ3NmM5M2FjMDQ1MmM5MSA9ICQoJzxkaXYgaWQ9Imh0bWxfM2NlNGYyZjc3MDVmNGEwZmI0NzZjOTNhYzA0NTJjOTEiIHN0eWxlPSJ3aWR0aDogMTAwLjAlOyBoZWlnaHQ6IDEwMC4wJTsiPlJvbWUsIEl0YWx5PC9kaXY+JylbMF07CiAgICAgICAgICAgICAgICBwb3B1cF9kYTc4ZWFlNzI0ZTU0NzY1OTNhZjViNzIzNDc5NjYzOS5zZXRDb250ZW50KGh0bWxfM2NlNGYyZjc3MDVmNGEwZmI0NzZjOTNhYzA0NTJjOTEpOwogICAgICAgICAgICAKCiAgICAgICAgICAgIGNpcmNsZV9tYXJrZXJfZjAyYmIxY2MwOGMxNGFlZmFiMjRkZDAyYzkzMWQwZjUuYmluZFBvcHVwKHBvcHVwX2RhNzhlYWU3MjRlNTQ3NjU5M2FmNWI3MjM0Nzk2NjM5KTsKCiAgICAgICAgICAgIAogICAgICAgIAogICAgCiAgICAgICAgICAgIHZhciBjaXJjbGVfbWFya2VyXzk3YmFmNTc3OWU0NjQ5YjU4MjM3NDVjM2VjY2JhZWJmID0gTC5jaXJjbGVNYXJrZXIoCiAgICAgICAgICAgICAgICBbNTEuMTI4MjU4LDcxLjQzMDU1XSwKICAgICAgICAgICAgICAgIHsKICAiYnViYmxpbmdNb3VzZUV2ZW50cyI6IHRydWUsCiAgImNvbG9yIjogInJlZCIsCiAgImRhc2hBcnJheSI6IG51bGwsCiAgImRhc2hPZmZzZXQiOiBudWxsLAogICJmaWxsIjogdHJ1ZSwKICAiZmlsbENvbG9yIjogInJlZCIsCiAgImZpbGxPcGFjaXR5IjogMC43LAogICJmaWxsUnVsZSI6ICJldmVub2RkIiwKICAibGluZUNhcCI6ICJyb3VuZCIsCiAgImxpbmVKb2luIjogInJvdW5kIiwKICAib3BhY2l0eSI6IDEuMCwKICAicmFkaXVzIjogNSwKICAic3Ryb2tlIjogdHJ1ZSwKICAid2VpZ2h0IjogMwp9CiAgICAgICAgICAgICAgICApLmFkZFRvKG1hcF8wZTI5MzM5ZjIwOWQ0YTgzYjM3MTFlYWRkMTZmNjlmOSk7CiAgICAgICAgICAgIAogICAgCiAgICAgICAgICAgIHZhciBwb3B1cF8yODJiYTkwMzJlZTE0NjFiOTNlZjRjMDNkN2VmMDJmYiA9IEwucG9wdXAoe21heFdpZHRoOiAnMzAwJ30pOwoKICAgICAgICAgICAgCiAgICAgICAgICAgICAgICB2YXIgaHRtbF84MWMyMWE0ODkxZDU0MmRhYjIwYThmNGVkODg1ZjZiZiA9ICQoJzxkaXYgaWQ9Imh0bWxfODFjMjFhNDg5MWQ1NDJkYWIyMGE4ZjRlZDg4NWY2YmYiIHN0eWxlPSJ3aWR0aDogMTAwLjAlOyBoZWlnaHQ6IDEwMC4wJTsiPkFzdGFuYSwgS2F6YWtoc3RhbjwvZGl2PicpWzBdOwogICAgICAgICAgICAgICAgcG9wdXBfMjgyYmE5MDMyZWUxNDYxYjkzZWY0YzAzZDdlZjAyZmIuc2V0Q29udGVudChodG1sXzgxYzIxYTQ4OTFkNTQyZGFiMjBhOGY0ZWQ4ODVmNmJmKTsKICAgICAgICAgICAgCgogICAgICAgICAgICBjaXJjbGVfbWFya2VyXzk3YmFmNTc3OWU0NjQ5YjU4MjM3NDVjM2VjY2JhZWJmLmJpbmRQb3B1cChwb3B1cF8yODJiYTkwMzJlZTE0NjFiOTNlZjRjMDNkN2VmMDJmYik7CgogICAgICAgICAgICAKICAgICAgICAKICAgIAogICAgICAgICAgICB2YXIgY2lyY2xlX21hcmtlcl81YmRiYmEyYTdmMDE0MDlmYmQ3Y2QwYTIzMmFiY2RlNiA9IEwuY2lyY2xlTWFya2VyKAogICAgICAgICAgICAgICAgWzU2Ljk0OTM5NzcsMjQuMTA1MTg0Nl0sCiAgICAgICAgICAgICAgICB7CiAgImJ1YmJsaW5nTW91c2VFdmVudHMiOiB0cnVlLAogICJjb2xvciI6ICJyZWQiLAogICJkYXNoQXJyYXkiOiBudWxsLAogICJkYXNoT2Zmc2V0IjogbnVsbCwKICAiZmlsbCI6IHRydWUsCiAgImZpbGxDb2xvciI6ICJyZWQiLAogICJmaWxsT3BhY2l0eSI6IDAuNywKICAiZmlsbFJ1bGUiOiAiZXZlbm9kZCIsCiAgImxpbmVDYXAiOiAicm91bmQiLAogICJsaW5lSm9pbiI6ICJyb3VuZCIsCiAgIm9wYWNpdHkiOiAxLjAsCiAgInJhZGl1cyI6IDUsCiAgInN0cm9rZSI6IHRydWUsCiAgIndlaWdodCI6IDMKfQogICAgICAgICAgICAgICAgKS5hZGRUbyhtYXBfMGUyOTMzOWYyMDlkNGE4M2IzNzExZWFkZDE2ZjY5ZjkpOwogICAgICAgICAgICAKICAgIAogICAgICAgICAgICB2YXIgcG9wdXBfZDIxNmE4ZjQ5MmE3NDg0Mzk0NWIwYTAzN2RhNmQxNmYgPSBMLnBvcHVwKHttYXhXaWR0aDogJzMwMCd9KTsKCiAgICAgICAgICAgIAogICAgICAgICAgICAgICAgdmFyIGh0bWxfNzZhYjIxMGVkYmI1NDAxZjlkOTQ1YjdkNTU2M2VmYjggPSAkKCc8ZGl2IGlkPSJodG1sXzc2YWIyMTBlZGJiNTQwMWY5ZDk0NWI3ZDU1NjNlZmI4IiBzdHlsZT0id2lkdGg6IDEwMC4wJTsgaGVpZ2h0OiAxMDAuMCU7Ij5SaWdhLCBMYXR2aWE8L2Rpdj4nKVswXTsKICAgICAgICAgICAgICAgIHBvcHVwX2QyMTZhOGY0OTJhNzQ4NDM5NDViMGEwMzdkYTZkMTZmLnNldENvbnRlbnQoaHRtbF83NmFiMjEwZWRiYjU0MDFmOWQ5NDViN2Q1NTYzZWZiOCk7CiAgICAgICAgICAgIAoKICAgICAgICAgICAgY2lyY2xlX21hcmtlcl81YmRiYmEyYTdmMDE0MDlmYmQ3Y2QwYTIzMmFiY2RlNi5iaW5kUG9wdXAocG9wdXBfZDIxNmE4ZjQ5MmE3NDg0Mzk0NWIwYTAzN2RhNmQxNmYpOwoKICAgICAgICAgICAgCiAgICAgICAgCiAgICAKICAgICAgICAgICAgdmFyIGNpcmNsZV9tYXJrZXJfZWNjZjNmOGY0ZDMxNGRkYjkzNjQyZmU2Y2JmNDFkNmMgPSBMLmNpcmNsZU1hcmtlcigKICAgICAgICAgICAgICAgIFs0Ny4xMzkyODYyLDkuNTIyNzk2Ml0sCiAgICAgICAgICAgICAgICB7CiAgImJ1YmJsaW5nTW91c2VFdmVudHMiOiB0cnVlLAogICJjb2xvciI6ICJyZWQiLAogICJkYXNoQXJyYXkiOiBudWxsLAogICJkYXNoT2Zmc2V0IjogbnVsbCwKICAiZmlsbCI6IHRydWUsCiAgImZpbGxDb2xvciI6ICJyZWQiLAogICJmaWxsT3BhY2l0eSI6IDAuNywKICAiZmlsbFJ1bGUiOiAiZXZlbm9kZCIsCiAgImxpbmVDYXAiOiAicm91bmQiLAogICJsaW5lSm9pbiI6ICJyb3VuZCIsCiAgIm9wYWNpdHkiOiAxLjAsCiAgInJhZGl1cyI6IDUsCiAgInN0cm9rZSI6IHRydWUsCiAgIndlaWdodCI6IDMKfQogICAgICAgICAgICAgICAgKS5hZGRUbyhtYXBfMGUyOTMzOWYyMDlkNGE4M2IzNzExZWFkZDE2ZjY5ZjkpOwogICAgICAgICAgICAKICAgIAogICAgICAgICAgICB2YXIgcG9wdXBfMjgwNmEwYjM3ZTVjNDU5Y2E5MTNmNTBjMGZiNGVhY2QgPSBMLnBvcHVwKHttYXhXaWR0aDogJzMwMCd9KTsKCiAgICAgICAgICAgIAogICAgICAgICAgICAgICAgdmFyIGh0bWxfNmJkZGIxY2MyMWY4NDdiZmE2YjIwZDkwMTJkODg1MDMgPSAkKCc8ZGl2IGlkPSJodG1sXzZiZGRiMWNjMjFmODQ3YmZhNmIyMGQ5MDEyZDg4NTAzIiBzdHlsZT0id2lkdGg6IDEwMC4wJTsgaGVpZ2h0OiAxMDAuMCU7Ij5WYWR1eiwgTGllY2h0ZW5zdGVpbjwvZGl2PicpWzBdOwogICAgICAgICAgICAgICAgcG9wdXBfMjgwNmEwYjM3ZTVjNDU5Y2E5MTNmNTBjMGZiNGVhY2Quc2V0Q29udGVudChodG1sXzZiZGRiMWNjMjFmODQ3YmZhNmIyMGQ5MDEyZDg4NTAzKTsKICAgICAgICAgICAgCgogICAgICAgICAgICBjaXJjbGVfbWFya2VyX2VjY2YzZjhmNGQzMTRkZGI5MzY0MmZlNmNiZjQxZDZjLmJpbmRQb3B1cChwb3B1cF8yODA2YTBiMzdlNWM0NTljYTkxM2Y1MGMwZmI0ZWFjZCk7CgogICAgICAgICAgICAKICAgICAgICAKICAgIAogICAgICAgICAgICB2YXIgY2lyY2xlX21hcmtlcl83Mjk5MTc3Nzg1NjI0NGU4YTZmYzc5NzZhYTE3MjY3ZCA9IEwuY2lyY2xlTWFya2VyKAogICAgICAgICAgICAgICAgWzU0LjY4NzA0NTgsMjUuMjgyOTExMV0sCiAgICAgICAgICAgICAgICB7CiAgImJ1YmJsaW5nTW91c2VFdmVudHMiOiB0cnVlLAogICJjb2xvciI6ICJyZWQiLAogICJkYXNoQXJyYXkiOiBudWxsLAogICJkYXNoT2Zmc2V0IjogbnVsbCwKICAiZmlsbCI6IHRydWUsCiAgImZpbGxDb2xvciI6ICJyZWQiLAogICJmaWxsT3BhY2l0eSI6IDAuNywKICAiZmlsbFJ1bGUiOiAiZXZlbm9kZCIsCiAgImxpbmVDYXAiOiAicm91bmQiLAogICJsaW5lSm9pbiI6ICJyb3VuZCIsCiAgIm9wYWNpdHkiOiAxLjAsCiAgInJhZGl1cyI6IDUsCiAgInN0cm9rZSI6IHRydWUsCiAgIndlaWdodCI6IDMKfQogICAgICAgICAgICAgICAgKS5hZGRUbyhtYXBfMGUyOTMzOWYyMDlkNGE4M2IzNzExZWFkZDE2ZjY5ZjkpOwogICAgICAgICAgICAKICAgIAogICAgICAgICAgICB2YXIgcG9wdXBfNDg0YjA1ODUzNGU3NDVkZGE3NDQ2ZDFjNmQ4YjJkMjggPSBMLnBvcHVwKHttYXhXaWR0aDogJzMwMCd9KTsKCiAgICAgICAgICAgIAogICAgICAgICAgICAgICAgdmFyIGh0bWxfNTQyMDg2ODljN2E1NGQ5MmI1ZDUwMzM5ZmU5MjBmOTQgPSAkKCc8ZGl2IGlkPSJodG1sXzU0MjA4Njg5YzdhNTRkOTJiNWQ1MDMzOWZlOTIwZjk0IiBzdHlsZT0id2lkdGg6IDEwMC4wJTsgaGVpZ2h0OiAxMDAuMCU7Ij5WaWxuaXVzLCBMaXRodWFuaWE8L2Rpdj4nKVswXTsKICAgICAgICAgICAgICAgIHBvcHVwXzQ4NGIwNTg1MzRlNzQ1ZGRhNzQ0NmQxYzZkOGIyZDI4LnNldENvbnRlbnQoaHRtbF81NDIwODY4OWM3YTU0ZDkyYjVkNTAzMzlmZTkyMGY5NCk7CiAgICAgICAgICAgIAoKICAgICAgICAgICAgY2lyY2xlX21hcmtlcl83Mjk5MTc3Nzg1NjI0NGU4YTZmYzc5NzZhYTE3MjY3ZC5iaW5kUG9wdXAocG9wdXBfNDg0YjA1ODUzNGU3NDVkZGE3NDQ2ZDFjNmQ4YjJkMjgpOwoKICAgICAgICAgICAgCiAgICAgICAgCiAgICAKICAgICAgICAgICAgdmFyIGNpcmNsZV9tYXJrZXJfYjM2ZWMyNzg2NGNhNDY0M2JhMGUyZGUyNzMyNDA4ZWIgPSBMLmNpcmNsZU1hcmtlcigKICAgICAgICAgICAgICAgIFs0OS44MTU4NjgzLDYuMTI5Njc1MV0sCiAgICAgICAgICAgICAgICB7CiAgImJ1YmJsaW5nTW91c2VFdmVudHMiOiB0cnVlLAogICJjb2xvciI6ICJyZWQiLAogICJkYXNoQXJyYXkiOiBudWxsLAogICJkYXNoT2Zmc2V0IjogbnVsbCwKICAiZmlsbCI6IHRydWUsCiAgImZpbGxDb2xvciI6ICJyZWQiLAogICJmaWxsT3BhY2l0eSI6IDAuNywKICAiZmlsbFJ1bGUiOiAiZXZlbm9kZCIsCiAgImxpbmVDYXAiOiAicm91bmQiLAogICJsaW5lSm9pbiI6ICJyb3VuZCIsCiAgIm9wYWNpdHkiOiAxLjAsCiAgInJhZGl1cyI6IDUsCiAgInN0cm9rZSI6IHRydWUsCiAgIndlaWdodCI6IDMKfQogICAgICAgICAgICAgICAgKS5hZGRUbyhtYXBfMGUyOTMzOWYyMDlkNGE4M2IzNzExZWFkZDE2ZjY5ZjkpOwogICAgICAgICAgICAKICAgIAogICAgICAgICAgICB2YXIgcG9wdXBfYWMyMTVjNWNjMjZjNDA2ZjgwNWM5MmY0NTU5NWM1ZmIgPSBMLnBvcHVwKHttYXhXaWR0aDogJzMwMCd9KTsKCiAgICAgICAgICAgIAogICAgICAgICAgICAgICAgdmFyIGh0bWxfY2I4ZWFlYTViODZiNDE3M2FlMjY3M2JhYTg1OTk2YmQgPSAkKCc8ZGl2IGlkPSJodG1sX2NiOGVhZWE1Yjg2YjQxNzNhZTI2NzNiYWE4NTk5NmJkIiBzdHlsZT0id2lkdGg6IDEwMC4wJTsgaGVpZ2h0OiAxMDAuMCU7Ij5MdXhlbWJvdXJnLCBMdXhlbWJvdXJnPC9kaXY+JylbMF07CiAgICAgICAgICAgICAgICBwb3B1cF9hYzIxNWM1Y2MyNmM0MDZmODA1YzkyZjQ1NTk1YzVmYi5zZXRDb250ZW50KGh0bWxfY2I4ZWFlYTViODZiNDE3M2FlMjY3M2JhYTg1OTk2YmQpOwogICAgICAgICAgICAKCiAgICAgICAgICAgIGNpcmNsZV9tYXJrZXJfYjM2ZWMyNzg2NGNhNDY0M2JhMGUyZGUyNzMyNDA4ZWIuYmluZFBvcHVwKHBvcHVwX2FjMjE1YzVjYzI2YzQwNmY4MDVjOTJmNDU1OTVjNWZiKTsKCiAgICAgICAgICAgIAogICAgICAgIAogICAgCiAgICAgICAgICAgIHZhciBjaXJjbGVfbWFya2VyXzdjYWI1MDFjYmYyZjRmYTVhNjJhZjUyOGVkNzlmMmUzID0gTC5jaXJjbGVNYXJrZXIoCiAgICAgICAgICAgICAgICBbMzUuODk4OTgxOCwxNC41MTM2NzU5XSwKICAgICAgICAgICAgICAgIHsKICAiYnViYmxpbmdNb3VzZUV2ZW50cyI6IHRydWUsCiAgImNvbG9yIjogInJlZCIsCiAgImRhc2hBcnJheSI6IG51bGwsCiAgImRhc2hPZmZzZXQiOiBudWxsLAogICJmaWxsIjogdHJ1ZSwKICAiZmlsbENvbG9yIjogInJlZCIsCiAgImZpbGxPcGFjaXR5IjogMC43LAogICJmaWxsUnVsZSI6ICJldmVub2RkIiwKICAibGluZUNhcCI6ICJyb3VuZCIsCiAgImxpbmVKb2luIjogInJvdW5kIiwKICAib3BhY2l0eSI6IDEuMCwKICAicmFkaXVzIjogNSwKICAic3Ryb2tlIjogdHJ1ZSwKICAid2VpZ2h0IjogMwp9CiAgICAgICAgICAgICAgICApLmFkZFRvKG1hcF8wZTI5MzM5ZjIwOWQ0YTgzYjM3MTFlYWRkMTZmNjlmOSk7CiAgICAgICAgICAgIAogICAgCiAgICAgICAgICAgIHZhciBwb3B1cF80YmJhZWIzYzY4ZjM0YTgzOTVkMGU5OWE2MDQ5ZDgwNyA9IEwucG9wdXAoe21heFdpZHRoOiAnMzAwJ30pOwoKICAgICAgICAgICAgCiAgICAgICAgICAgICAgICB2YXIgaHRtbF9mNzA0OTQzMzEzNDM0MTU1ODMyMTkwNGQ3OTk2OTI5YSA9ICQoJzxkaXYgaWQ9Imh0bWxfZjcwNDk0MzMxMzQzNDE1NTgzMjE5MDRkNzk5NjkyOWEiIHN0eWxlPSJ3aWR0aDogMTAwLjAlOyBoZWlnaHQ6IDEwMC4wJTsiPlZhbGxldHRhLCBNYWx0YTwvZGl2PicpWzBdOwogICAgICAgICAgICAgICAgcG9wdXBfNGJiYWViM2M2OGYzNGE4Mzk1ZDBlOTlhNjA0OWQ4MDcuc2V0Q29udGVudChodG1sX2Y3MDQ5NDMzMTM0MzQxNTU4MzIxOTA0ZDc5OTY5MjlhKTsKICAgICAgICAgICAgCgogICAgICAgICAgICBjaXJjbGVfbWFya2VyXzdjYWI1MDFjYmYyZjRmYTVhNjJhZjUyOGVkNzlmMmUzLmJpbmRQb3B1cChwb3B1cF80YmJhZWIzYzY4ZjM0YTgzOTVkMGU5OWE2MDQ5ZDgwNyk7CgogICAgICAgICAgICAKICAgICAgICAKICAgIAogICAgICAgICAgICB2YXIgY2lyY2xlX21hcmtlcl9hZTJjNzNmMTg4MmE0OWE2YjM3MTIzMzM2MjljYzliZCA9IEwuY2lyY2xlTWFya2VyKAogICAgICAgICAgICAgICAgWzQ3LjAyNDQ3MDcsMjguODMyMjUzNF0sCiAgICAgICAgICAgICAgICB7CiAgImJ1YmJsaW5nTW91c2VFdmVudHMiOiB0cnVlLAogICJjb2xvciI6ICJyZWQiLAogICJkYXNoQXJyYXkiOiBudWxsLAogICJkYXNoT2Zmc2V0IjogbnVsbCwKICAiZmlsbCI6IHRydWUsCiAgImZpbGxDb2xvciI6ICJyZWQiLAogICJmaWxsT3BhY2l0eSI6IDAuNywKICAiZmlsbFJ1bGUiOiAiZXZlbm9kZCIsCiAgImxpbmVDYXAiOiAicm91bmQiLAogICJsaW5lSm9pbiI6ICJyb3VuZCIsCiAgIm9wYWNpdHkiOiAxLjAsCiAgInJhZGl1cyI6IDUsCiAgInN0cm9rZSI6IHRydWUsCiAgIndlaWdodCI6IDMKfQogICAgICAgICAgICAgICAgKS5hZGRUbyhtYXBfMGUyOTMzOWYyMDlkNGE4M2IzNzExZWFkZDE2ZjY5ZjkpOwogICAgICAgICAgICAKICAgIAogICAgICAgICAgICB2YXIgcG9wdXBfMjE5NjRlNTZjMjVlNDMwZGIzNTkyY2RjOWIwNDJkNjEgPSBMLnBvcHVwKHttYXhXaWR0aDogJzMwMCd9KTsKCiAgICAgICAgICAgIAogICAgICAgICAgICAgICAgdmFyIGh0bWxfNmQ1YzJiOTQ1M2VhNGMyNDg4ZDE3MjE0ODdhNWYxNTIgPSAkKCc8ZGl2IGlkPSJodG1sXzZkNWMyYjk0NTNlYTRjMjQ4OGQxNzIxNDg3YTVmMTUyIiBzdHlsZT0id2lkdGg6IDEwMC4wJTsgaGVpZ2h0OiAxMDAuMCU7Ij5DaGnImWluxIN1LCBNb2xkb3ZhPC9kaXY+JylbMF07CiAgICAgICAgICAgICAgICBwb3B1cF8yMTk2NGU1NmMyNWU0MzBkYjM1OTJjZGM5YjA0MmQ2MS5zZXRDb250ZW50KGh0bWxfNmQ1YzJiOTQ1M2VhNGMyNDg4ZDE3MjE0ODdhNWYxNTIpOwogICAgICAgICAgICAKCiAgICAgICAgICAgIGNpcmNsZV9tYXJrZXJfYWUyYzczZjE4ODJhNDlhNmIzNzEyMzMzNjI5Y2M5YmQuYmluZFBvcHVwKHBvcHVwXzIxOTY0ZTU2YzI1ZTQzMGRiMzU5MmNkYzliMDQyZDYxKTsKCiAgICAgICAgICAgIAogICAgICAgIAogICAgCiAgICAgICAgICAgIHZhciBjaXJjbGVfbWFya2VyX2IyNzk4MTdmZjNmNzQ4NGNiYjU1MmE3ZTBiZTU2N2VjID0gTC5jaXJjbGVNYXJrZXIoCiAgICAgICAgICAgICAgICBbNDMuNzMxMTQyNCw3LjQxOTc1NzZdLAogICAgICAgICAgICAgICAgewogICJidWJibGluZ01vdXNlRXZlbnRzIjogdHJ1ZSwKICAiY29sb3IiOiAicmVkIiwKICAiZGFzaEFycmF5IjogbnVsbCwKICAiZGFzaE9mZnNldCI6IG51bGwsCiAgImZpbGwiOiB0cnVlLAogICJmaWxsQ29sb3IiOiAicmVkIiwKICAiZmlsbE9wYWNpdHkiOiAwLjcsCiAgImZpbGxSdWxlIjogImV2ZW5vZGQiLAogICJsaW5lQ2FwIjogInJvdW5kIiwKICAibGluZUpvaW4iOiAicm91bmQiLAogICJvcGFjaXR5IjogMS4wLAogICJyYWRpdXMiOiA1LAogICJzdHJva2UiOiB0cnVlLAogICJ3ZWlnaHQiOiAzCn0KICAgICAgICAgICAgICAgICkuYWRkVG8obWFwXzBlMjkzMzlmMjA5ZDRhODNiMzcxMWVhZGQxNmY2OWY5KTsKICAgICAgICAgICAgCiAgICAKICAgICAgICAgICAgdmFyIHBvcHVwXzIzNDU2OTY3ZjYzMzQzODU4MWNmMTRmNDc5YWZiMGU1ID0gTC5wb3B1cCh7bWF4V2lkdGg6ICczMDAnfSk7CgogICAgICAgICAgICAKICAgICAgICAgICAgICAgIHZhciBodG1sX2M2ZDQ0ODllZjJhMjQyMGFiMWIzYzc0NDg0ZWM4NTI0ID0gJCgnPGRpdiBpZD0iaHRtbF9jNmQ0NDg5ZWYyYTI0MjBhYjFiM2M3NDQ4NGVjODUyNCIgc3R5bGU9IndpZHRoOiAxMDAuMCU7IGhlaWdodDogMTAwLjAlOyI+TW9uYWNvLCBNb25hY288L2Rpdj4nKVswXTsKICAgICAgICAgICAgICAgIHBvcHVwXzIzNDU2OTY3ZjYzMzQzODU4MWNmMTRmNDc5YWZiMGU1LnNldENvbnRlbnQoaHRtbF9jNmQ0NDg5ZWYyYTI0MjBhYjFiM2M3NDQ4NGVjODUyNCk7CiAgICAgICAgICAgIAoKICAgICAgICAgICAgY2lyY2xlX21hcmtlcl9iMjc5ODE3ZmYzZjc0ODRjYmI1NTJhN2UwYmU1NjdlYy5iaW5kUG9wdXAocG9wdXBfMjM0NTY5NjdmNjMzNDM4NTgxY2YxNGY0NzlhZmIwZTUpOwoKICAgICAgICAgICAgCiAgICAgICAgCiAgICAKICAgICAgICAgICAgdmFyIGNpcmNsZV9tYXJrZXJfYWQzYzI4ODdmOGVmNDg2YmI4ZDYzYTE0ZDU1YmQyNTEgPSBMLmNpcmNsZU1hcmtlcigKICAgICAgICAgICAgICAgIFs0Mi40NDE1MjM4LDE5LjI2MjEwODFdLAogICAgICAgICAgICAgICAgewogICJidWJibGluZ01vdXNlRXZlbnRzIjogdHJ1ZSwKICAiY29sb3IiOiAicmVkIiwKICAiZGFzaEFycmF5IjogbnVsbCwKICAiZGFzaE9mZnNldCI6IG51bGwsCiAgImZpbGwiOiB0cnVlLAogICJmaWxsQ29sb3IiOiAicmVkIiwKICAiZmlsbE9wYWNpdHkiOiAwLjcsCiAgImZpbGxSdWxlIjogImV2ZW5vZGQiLAogICJsaW5lQ2FwIjogInJvdW5kIiwKICAibGluZUpvaW4iOiAicm91bmQiLAogICJvcGFjaXR5IjogMS4wLAogICJyYWRpdXMiOiA1LAogICJzdHJva2UiOiB0cnVlLAogICJ3ZWlnaHQiOiAzCn0KICAgICAgICAgICAgICAgICkuYWRkVG8obWFwXzBlMjkzMzlmMjA5ZDRhODNiMzcxMWVhZGQxNmY2OWY5KTsKICAgICAgICAgICAgCiAgICAKICAgICAgICAgICAgdmFyIHBvcHVwXzU4MTYxZmU0NzYzYjRmNmY4OGFjY2Y0NWQ3NTQ4YzIzID0gTC5wb3B1cCh7bWF4V2lkdGg6ICczMDAnfSk7CgogICAgICAgICAgICAKICAgICAgICAgICAgICAgIHZhciBodG1sXzkxNjY5Y2QzM2RmYTQxOWRiMTEyMjcwODQ5NzA3M2Y0ID0gJCgnPGRpdiBpZD0iaHRtbF85MTY2OWNkMzNkZmE0MTlkYjExMjI3MDg0OTcwNzNmNCIgc3R5bGU9IndpZHRoOiAxMDAuMCU7IGhlaWdodDogMTAwLjAlOyI+UG9kZ29yaWNhLCBNb250ZW5lZ3JvPC9kaXY+JylbMF07CiAgICAgICAgICAgICAgICBwb3B1cF81ODE2MWZlNDc2M2I0ZjZmODhhY2NmNDVkNzU0OGMyMy5zZXRDb250ZW50KGh0bWxfOTE2NjljZDMzZGZhNDE5ZGIxMTIyNzA4NDk3MDczZjQpOwogICAgICAgICAgICAKCiAgICAgICAgICAgIGNpcmNsZV9tYXJrZXJfYWQzYzI4ODdmOGVmNDg2YmI4ZDYzYTE0ZDU1YmQyNTEuYmluZFBvcHVwKHBvcHVwXzU4MTYxZmU0NzYzYjRmNmY4OGFjY2Y0NWQ3NTQ4YzIzKTsKCiAgICAgICAgICAgIAogICAgICAgIAogICAgCiAgICAgICAgICAgIHZhciBjaXJjbGVfbWFya2VyX2MxZDQzNDMyZjAwMjRkZWRhNjA0ZWFmNjlmNmI0NzFkID0gTC5jaXJjbGVNYXJrZXIoCiAgICAgICAgICAgICAgICBbNTIuMzc0NTQwMyw0Ljg5Nzk3NTUwNTYxNzk4XSwKICAgICAgICAgICAgICAgIHsKICAiYnViYmxpbmdNb3VzZUV2ZW50cyI6IHRydWUsCiAgImNvbG9yIjogInJlZCIsCiAgImRhc2hBcnJheSI6IG51bGwsCiAgImRhc2hPZmZzZXQiOiBudWxsLAogICJmaWxsIjogdHJ1ZSwKICAiZmlsbENvbG9yIjogInJlZCIsCiAgImZpbGxPcGFjaXR5IjogMC43LAogICJmaWxsUnVsZSI6ICJldmVub2RkIiwKICAibGluZUNhcCI6ICJyb3VuZCIsCiAgImxpbmVKb2luIjogInJvdW5kIiwKICAib3BhY2l0eSI6IDEuMCwKICAicmFkaXVzIjogNSwKICAic3Ryb2tlIjogdHJ1ZSwKICAid2VpZ2h0IjogMwp9CiAgICAgICAgICAgICAgICApLmFkZFRvKG1hcF8wZTI5MzM5ZjIwOWQ0YTgzYjM3MTFlYWRkMTZmNjlmOSk7CiAgICAgICAgICAgIAogICAgCiAgICAgICAgICAgIHZhciBwb3B1cF8yMmMzMzEyNzExNTI0NTRiOWJjNTJlYzAzOWIxYTgzNiA9IEwucG9wdXAoe21heFdpZHRoOiAnMzAwJ30pOwoKICAgICAgICAgICAgCiAgICAgICAgICAgICAgICB2YXIgaHRtbF8yZGVmMTlmZGFmYjI0NTEyODA1ZDkxOTUzMzYzYWExYyA9ICQoJzxkaXYgaWQ9Imh0bWxfMmRlZjE5ZmRhZmIyNDUxMjgwNWQ5MTk1MzM2M2FhMWMiIHN0eWxlPSJ3aWR0aDogMTAwLjAlOyBoZWlnaHQ6IDEwMC4wJTsiPkFtc3RlcmRhbSwgTmV0aGVybGFuZHM8L2Rpdj4nKVswXTsKICAgICAgICAgICAgICAgIHBvcHVwXzIyYzMzMTI3MTE1MjQ1NGI5YmM1MmVjMDM5YjFhODM2LnNldENvbnRlbnQoaHRtbF8yZGVmMTlmZGFmYjI0NTEyODA1ZDkxOTUzMzYzYWExYyk7CiAgICAgICAgICAgIAoKICAgICAgICAgICAgY2lyY2xlX21hcmtlcl9jMWQ0MzQzMmYwMDI0ZGVkYTYwNGVhZjY5ZjZiNDcxZC5iaW5kUG9wdXAocG9wdXBfMjJjMzMxMjcxMTUyNDU0YjliYzUyZWMwMzliMWE4MzYpOwoKICAgICAgICAgICAgCiAgICAgICAgCiAgICAKICAgICAgICAgICAgdmFyIGNpcmNsZV9tYXJrZXJfYTUwYmZjYjk0MGM0NGY3OTg4MmFlOTE3YmE5M2M0YzggPSBMLmNpcmNsZU1hcmtlcigKICAgICAgICAgICAgICAgIFs0MS45OTYwOTI0LDIxLjQzMTY0OTVdLAogICAgICAgICAgICAgICAgewogICJidWJibGluZ01vdXNlRXZlbnRzIjogdHJ1ZSwKICAiY29sb3IiOiAicmVkIiwKICAiZGFzaEFycmF5IjogbnVsbCwKICAiZGFzaE9mZnNldCI6IG51bGwsCiAgImZpbGwiOiB0cnVlLAogICJmaWxsQ29sb3IiOiAicmVkIiwKICAiZmlsbE9wYWNpdHkiOiAwLjcsCiAgImZpbGxSdWxlIjogImV2ZW5vZGQiLAogICJsaW5lQ2FwIjogInJvdW5kIiwKICAibGluZUpvaW4iOiAicm91bmQiLAogICJvcGFjaXR5IjogMS4wLAogICJyYWRpdXMiOiA1LAogICJzdHJva2UiOiB0cnVlLAogICJ3ZWlnaHQiOiAzCn0KICAgICAgICAgICAgICAgICkuYWRkVG8obWFwXzBlMjkzMzlmMjA5ZDRhODNiMzcxMWVhZGQxNmY2OWY5KTsKICAgICAgICAgICAgCiAgICAKICAgICAgICAgICAgdmFyIHBvcHVwXzQ4ZGFjNTdlZjVjNDQ2NTRiNDk4MjkwM2RlZWIwYTUzID0gTC5wb3B1cCh7bWF4V2lkdGg6ICczMDAnfSk7CgogICAgICAgICAgICAKICAgICAgICAgICAgICAgIHZhciBodG1sXzc1MWUwOTkxMjM0NzRmMTFhY2VjZjA0Y2NkY2EyNTlmID0gJCgnPGRpdiBpZD0iaHRtbF83NTFlMDk5MTIzNDc0ZjExYWNlY2YwNGNjZGNhMjU5ZiIgc3R5bGU9IndpZHRoOiAxMDAuMCU7IGhlaWdodDogMTAwLjAlOyI+U2tvcGplLCBOb3J0aCBNYWNlZG9uaWE8L2Rpdj4nKVswXTsKICAgICAgICAgICAgICAgIHBvcHVwXzQ4ZGFjNTdlZjVjNDQ2NTRiNDk4MjkwM2RlZWIwYTUzLnNldENvbnRlbnQoaHRtbF83NTFlMDk5MTIzNDc0ZjExYWNlY2YwNGNjZGNhMjU5Zik7CiAgICAgICAgICAgIAoKICAgICAgICAgICAgY2lyY2xlX21hcmtlcl9hNTBiZmNiOTQwYzQ0Zjc5ODgyYWU5MTdiYTkzYzRjOC5iaW5kUG9wdXAocG9wdXBfNDhkYWM1N2VmNWM0NDY1NGI0OTgyOTAzZGVlYjBhNTMpOwoKICAgICAgICAgICAgCiAgICAgICAgCiAgICAKICAgICAgICAgICAgdmFyIGNpcmNsZV9tYXJrZXJfZmM3MDYxYmQxYmM1NGZlYTgwNGEzZjVjOTcxYTMzMGIgPSBMLmNpcmNsZU1hcmtlcigKICAgICAgICAgICAgICAgIFs1OS45MTMzMzAxLDEwLjczODk3MDFdLAogICAgICAgICAgICAgICAgewogICJidWJibGluZ01vdXNlRXZlbnRzIjogdHJ1ZSwKICAiY29sb3IiOiAicmVkIiwKICAiZGFzaEFycmF5IjogbnVsbCwKICAiZGFzaE9mZnNldCI6IG51bGwsCiAgImZpbGwiOiB0cnVlLAogICJmaWxsQ29sb3IiOiAicmVkIiwKICAiZmlsbE9wYWNpdHkiOiAwLjcsCiAgImZpbGxSdWxlIjogImV2ZW5vZGQiLAogICJsaW5lQ2FwIjogInJvdW5kIiwKICAibGluZUpvaW4iOiAicm91bmQiLAogICJvcGFjaXR5IjogMS4wLAogICJyYWRpdXMiOiA1LAogICJzdHJva2UiOiB0cnVlLAogICJ3ZWlnaHQiOiAzCn0KICAgICAgICAgICAgICAgICkuYWRkVG8obWFwXzBlMjkzMzlmMjA5ZDRhODNiMzcxMWVhZGQxNmY2OWY5KTsKICAgICAgICAgICAgCiAgICAKICAgICAgICAgICAgdmFyIHBvcHVwXzIwZTI3MDQ4OGIyODQ4ZWRiZWNmZGRiNGZjY2YzNzg0ID0gTC5wb3B1cCh7bWF4V2lkdGg6ICczMDAnfSk7CgogICAgICAgICAgICAKICAgICAgICAgICAgICAgIHZhciBodG1sXzJmYzg2MTJlNTU2NzRmYjhiZDRjYTE1MjI3Mzg5OTRhID0gJCgnPGRpdiBpZD0iaHRtbF8yZmM4NjEyZTU1Njc0ZmI4YmQ0Y2ExNTIyNzM4OTk0YSIgc3R5bGU9IndpZHRoOiAxMDAuMCU7IGhlaWdodDogMTAwLjAlOyI+T3NsbywgTm9yd2F5PC9kaXY+JylbMF07CiAgICAgICAgICAgICAgICBwb3B1cF8yMGUyNzA0ODhiMjg0OGVkYmVjZmRkYjRmY2NmMzc4NC5zZXRDb250ZW50KGh0bWxfMmZjODYxMmU1NTY3NGZiOGJkNGNhMTUyMjczODk5NGEpOwogICAgICAgICAgICAKCiAgICAgICAgICAgIGNpcmNsZV9tYXJrZXJfZmM3MDYxYmQxYmM1NGZlYTgwNGEzZjVjOTcxYTMzMGIuYmluZFBvcHVwKHBvcHVwXzIwZTI3MDQ4OGIyODQ4ZWRiZWNmZGRiNGZjY2YzNzg0KTsKCiAgICAgICAgICAgIAogICAgICAgIAogICAgCiAgICAgICAgICAgIHZhciBjaXJjbGVfbWFya2VyXzUzOTE2NDkxNWVmYjRmNmJiNzAzZjgyNTlkMDBkYzhlID0gTC5jaXJjbGVNYXJrZXIoCiAgICAgICAgICAgICAgICBbNTIuMjMxOTIzNywyMS4wMDY3MjY1XSwKICAgICAgICAgICAgICAgIHsKICAiYnViYmxpbmdNb3VzZUV2ZW50cyI6IHRydWUsCiAgImNvbG9yIjogInJlZCIsCiAgImRhc2hBcnJheSI6IG51bGwsCiAgImRhc2hPZmZzZXQiOiBudWxsLAogICJmaWxsIjogdHJ1ZSwKICAiZmlsbENvbG9yIjogInJlZCIsCiAgImZpbGxPcGFjaXR5IjogMC43LAogICJmaWxsUnVsZSI6ICJldmVub2RkIiwKICAibGluZUNhcCI6ICJyb3VuZCIsCiAgImxpbmVKb2luIjogInJvdW5kIiwKICAib3BhY2l0eSI6IDEuMCwKICAicmFkaXVzIjogNSwKICAic3Ryb2tlIjogdHJ1ZSwKICAid2VpZ2h0IjogMwp9CiAgICAgICAgICAgICAgICApLmFkZFRvKG1hcF8wZTI5MzM5ZjIwOWQ0YTgzYjM3MTFlYWRkMTZmNjlmOSk7CiAgICAgICAgICAgIAogICAgCiAgICAgICAgICAgIHZhciBwb3B1cF9iMWJmZDFmMGYzZTM0OGY0YTMwYjllY2FiMjllMGI2MSA9IEwucG9wdXAoe21heFdpZHRoOiAnMzAwJ30pOwoKICAgICAgICAgICAgCiAgICAgICAgICAgICAgICB2YXIgaHRtbF9lNDFjNWZkOTYyODk0NWVjYjJiNGY4YzA3ODQzYmE2MCA9ICQoJzxkaXYgaWQ9Imh0bWxfZTQxYzVmZDk2Mjg5NDVlY2IyYjRmOGMwNzg0M2JhNjAiIHN0eWxlPSJ3aWR0aDogMTAwLjAlOyBoZWlnaHQ6IDEwMC4wJTsiPldhcnNhdywgUG9sYW5kPC9kaXY+JylbMF07CiAgICAgICAgICAgICAgICBwb3B1cF9iMWJmZDFmMGYzZTM0OGY0YTMwYjllY2FiMjllMGI2MS5zZXRDb250ZW50KGh0bWxfZTQxYzVmZDk2Mjg5NDVlY2IyYjRmOGMwNzg0M2JhNjApOwogICAgICAgICAgICAKCiAgICAgICAgICAgIGNpcmNsZV9tYXJrZXJfNTM5MTY0OTE1ZWZiNGY2YmI3MDNmODI1OWQwMGRjOGUuYmluZFBvcHVwKHBvcHVwX2IxYmZkMWYwZjNlMzQ4ZjRhMzBiOWVjYWIyOWUwYjYxKTsKCiAgICAgICAgICAgIAogICAgICAgIAogICAgCiAgICAgICAgICAgIHZhciBjaXJjbGVfbWFya2VyXzE0YzlmM2ViYWVmYTQ4NDg5YjUyN2IyNzg1NDdmN2Y4ID0gTC5jaXJjbGVNYXJrZXIoCiAgICAgICAgICAgICAgICBbMzguNzA3NzUwNywtOS4xMzY1OTE5XSwKICAgICAgICAgICAgICAgIHsKICAiYnViYmxpbmdNb3VzZUV2ZW50cyI6IHRydWUsCiAgImNvbG9yIjogInJlZCIsCiAgImRhc2hBcnJheSI6IG51bGwsCiAgImRhc2hPZmZzZXQiOiBudWxsLAogICJmaWxsIjogdHJ1ZSwKICAiZmlsbENvbG9yIjogInJlZCIsCiAgImZpbGxPcGFjaXR5IjogMC43LAogICJmaWxsUnVsZSI6ICJldmVub2RkIiwKICAibGluZUNhcCI6ICJyb3VuZCIsCiAgImxpbmVKb2luIjogInJvdW5kIiwKICAib3BhY2l0eSI6IDEuMCwKICAicmFkaXVzIjogNSwKICAic3Ryb2tlIjogdHJ1ZSwKICAid2VpZ2h0IjogMwp9CiAgICAgICAgICAgICAgICApLmFkZFRvKG1hcF8wZTI5MzM5ZjIwOWQ0YTgzYjM3MTFlYWRkMTZmNjlmOSk7CiAgICAgICAgICAgIAogICAgCiAgICAgICAgICAgIHZhciBwb3B1cF9mZmU4NWNiMjgxNjY0ZGRiOTVlMjQ4OWI2ZWRlMjFhZSA9IEwucG9wdXAoe21heFdpZHRoOiAnMzAwJ30pOwoKICAgICAgICAgICAgCiAgICAgICAgICAgICAgICB2YXIgaHRtbF83MGNjNzk5OTQ3YzA0YTA4ODk0MjI3MDM2MzBkYWM3NiA9ICQoJzxkaXYgaWQ9Imh0bWxfNzBjYzc5OTk0N2MwNGEwODg5NDIyNzAzNjMwZGFjNzYiIHN0eWxlPSJ3aWR0aDogMTAwLjAlOyBoZWlnaHQ6IDEwMC4wJTsiPkxpc2JvbiwgUG9ydHVnYWw8L2Rpdj4nKVswXTsKICAgICAgICAgICAgICAgIHBvcHVwX2ZmZTg1Y2IyODE2NjRkZGI5NWUyNDg5YjZlZGUyMWFlLnNldENvbnRlbnQoaHRtbF83MGNjNzk5OTQ3YzA0YTA4ODk0MjI3MDM2MzBkYWM3Nik7CiAgICAgICAgICAgIAoKICAgICAgICAgICAgY2lyY2xlX21hcmtlcl8xNGM5ZjNlYmFlZmE0ODQ4OWI1MjdiMjc4NTQ3ZjdmOC5iaW5kUG9wdXAocG9wdXBfZmZlODVjYjI4MTY2NGRkYjk1ZTI0ODliNmVkZTIxYWUpOwoKICAgICAgICAgICAgCiAgICAgICAgCiAgICAKICAgICAgICAgICAgdmFyIGNpcmNsZV9tYXJrZXJfYjkxMDgzZWYzNDlhNDVhNmFkNTFkYWFmZWMxM2M4OTYgPSBMLmNpcmNsZU1hcmtlcigKICAgICAgICAgICAgICAgIFs0NC40MzYxNDE0LDI2LjEwMjcyMDJdLAogICAgICAgICAgICAgICAgewogICJidWJibGluZ01vdXNlRXZlbnRzIjogdHJ1ZSwKICAiY29sb3IiOiAicmVkIiwKICAiZGFzaEFycmF5IjogbnVsbCwKICAiZGFzaE9mZnNldCI6IG51bGwsCiAgImZpbGwiOiB0cnVlLAogICJmaWxsQ29sb3IiOiAicmVkIiwKICAiZmlsbE9wYWNpdHkiOiAwLjcsCiAgImZpbGxSdWxlIjogImV2ZW5vZGQiLAogICJsaW5lQ2FwIjogInJvdW5kIiwKICAibGluZUpvaW4iOiAicm91bmQiLAogICJvcGFjaXR5IjogMS4wLAogICJyYWRpdXMiOiA1LAogICJzdHJva2UiOiB0cnVlLAogICJ3ZWlnaHQiOiAzCn0KICAgICAgICAgICAgICAgICkuYWRkVG8obWFwXzBlMjkzMzlmMjA5ZDRhODNiMzcxMWVhZGQxNmY2OWY5KTsKICAgICAgICAgICAgCiAgICAKICAgICAgICAgICAgdmFyIHBvcHVwX2ZiNzhiMzlkNGQyZjQxY2NiNTBhMjRmMWU2NzhhMGQxID0gTC5wb3B1cCh7bWF4V2lkdGg6ICczMDAnfSk7CgogICAgICAgICAgICAKICAgICAgICAgICAgICAgIHZhciBodG1sXzZmODY2ZTJlZjM1MDQ4ODY5ZmVkYzJlY2E5ODYyMTgxID0gJCgnPGRpdiBpZD0iaHRtbF82Zjg2NmUyZWYzNTA0ODg2OWZlZGMyZWNhOTg2MjE4MSIgc3R5bGU9IndpZHRoOiAxMDAuMCU7IGhlaWdodDogMTAwLjAlOyI+QnVjaGFyZXN0LCBSb21hbmlhPC9kaXY+JylbMF07CiAgICAgICAgICAgICAgICBwb3B1cF9mYjc4YjM5ZDRkMmY0MWNjYjUwYTI0ZjFlNjc4YTBkMS5zZXRDb250ZW50KGh0bWxfNmY4NjZlMmVmMzUwNDg4NjlmZWRjMmVjYTk4NjIxODEpOwogICAgICAgICAgICAKCiAgICAgICAgICAgIGNpcmNsZV9tYXJrZXJfYjkxMDgzZWYzNDlhNDVhNmFkNTFkYWFmZWMxM2M4OTYuYmluZFBvcHVwKHBvcHVwX2ZiNzhiMzlkNGQyZjQxY2NiNTBhMjRmMWU2NzhhMGQxKTsKCiAgICAgICAgICAgIAogICAgICAgIAogICAgCiAgICAgICAgICAgIHZhciBjaXJjbGVfbWFya2VyXzk1YjI4OGJjNjJlNTRlZGRhYjRhMGVmZmZhMzBiMDliID0gTC5jaXJjbGVNYXJrZXIoCiAgICAgICAgICAgICAgICBbNTUuNzUwNDQ2MSwzNy42MTc0OTQzXSwKICAgICAgICAgICAgICAgIHsKICAiYnViYmxpbmdNb3VzZUV2ZW50cyI6IHRydWUsCiAgImNvbG9yIjogInJlZCIsCiAgImRhc2hBcnJheSI6IG51bGwsCiAgImRhc2hPZmZzZXQiOiBudWxsLAogICJmaWxsIjogdHJ1ZSwKICAiZmlsbENvbG9yIjogInJlZCIsCiAgImZpbGxPcGFjaXR5IjogMC43LAogICJmaWxsUnVsZSI6ICJldmVub2RkIiwKICAibGluZUNhcCI6ICJyb3VuZCIsCiAgImxpbmVKb2luIjogInJvdW5kIiwKICAib3BhY2l0eSI6IDEuMCwKICAicmFkaXVzIjogNSwKICAic3Ryb2tlIjogdHJ1ZSwKICAid2VpZ2h0IjogMwp9CiAgICAgICAgICAgICAgICApLmFkZFRvKG1hcF8wZTI5MzM5ZjIwOWQ0YTgzYjM3MTFlYWRkMTZmNjlmOSk7CiAgICAgICAgICAgIAogICAgCiAgICAgICAgICAgIHZhciBwb3B1cF83YjZmNjcxMDZjZTQ0OTk5ODc5M2EwNzg4NGUzYTNkMCA9IEwucG9wdXAoe21heFdpZHRoOiAnMzAwJ30pOwoKICAgICAgICAgICAgCiAgICAgICAgICAgICAgICB2YXIgaHRtbF8zZjMxOTM1OGM0ZDk0NGVhYmIyZjMwZDU2MTM1MDcxZCA9ICQoJzxkaXYgaWQ9Imh0bWxfM2YzMTkzNThjNGQ5NDRlYWJiMmYzMGQ1NjEzNTA3MWQiIHN0eWxlPSJ3aWR0aDogMTAwLjAlOyBoZWlnaHQ6IDEwMC4wJTsiPk1vc2NvdywgUnVzc2lhPC9kaXY+JylbMF07CiAgICAgICAgICAgICAgICBwb3B1cF83YjZmNjcxMDZjZTQ0OTk5ODc5M2EwNzg4NGUzYTNkMC5zZXRDb250ZW50KGh0bWxfM2YzMTkzNThjNGQ5NDRlYWJiMmYzMGQ1NjEzNTA3MWQpOwogICAgICAgICAgICAKCiAgICAgICAgICAgIGNpcmNsZV9tYXJrZXJfOTViMjg4YmM2MmU1NGVkZGFiNGEwZWZmZmEzMGIwOWIuYmluZFBvcHVwKHBvcHVwXzdiNmY2NzEwNmNlNDQ5OTk4NzkzYTA3ODg0ZTNhM2QwKTsKCiAgICAgICAgICAgIAogICAgICAgIAogICAgCiAgICAgICAgICAgIHZhciBjaXJjbGVfbWFya2VyXzQ1NWRlNDBlZjc3MTRiOWVhYTdmMDA4MTc0MmU3OTNkID0gTC5jaXJjbGVNYXJrZXIoCiAgICAgICAgICAgICAgICBbNDMuOTQ1ODYyMywxMi40NTgzMDZdLAogICAgICAgICAgICAgICAgewogICJidWJibGluZ01vdXNlRXZlbnRzIjogdHJ1ZSwKICAiY29sb3IiOiAicmVkIiwKICAiZGFzaEFycmF5IjogbnVsbCwKICAiZGFzaE9mZnNldCI6IG51bGwsCiAgImZpbGwiOiB0cnVlLAogICJmaWxsQ29sb3IiOiAicmVkIiwKICAiZmlsbE9wYWNpdHkiOiAwLjcsCiAgImZpbGxSdWxlIjogImV2ZW5vZGQiLAogICJsaW5lQ2FwIjogInJvdW5kIiwKICAibGluZUpvaW4iOiAicm91bmQiLAogICJvcGFjaXR5IjogMS4wLAogICJyYWRpdXMiOiA1LAogICJzdHJva2UiOiB0cnVlLAogICJ3ZWlnaHQiOiAzCn0KICAgICAgICAgICAgICAgICkuYWRkVG8obWFwXzBlMjkzMzlmMjA5ZDRhODNiMzcxMWVhZGQxNmY2OWY5KTsKICAgICAgICAgICAgCiAgICAKICAgICAgICAgICAgdmFyIHBvcHVwXzZkZTBmNDZhZDRmMDRkYThiNjgzZDgwNjVhNTUyOTFiID0gTC5wb3B1cCh7bWF4V2lkdGg6ICczMDAnfSk7CgogICAgICAgICAgICAKICAgICAgICAgICAgICAgIHZhciBodG1sX2I3M2E4OWNjYjFiMzQ2Yjk5NWQxNjRkMGE2MjkyZGI3ID0gJCgnPGRpdiBpZD0iaHRtbF9iNzNhODljY2IxYjM0NmI5OTVkMTY0ZDBhNjI5MmRiNyIgc3R5bGU9IndpZHRoOiAxMDAuMCU7IGhlaWdodDogMTAwLjAlOyI+U2FuIE1hcmlubywgU2FuIE1hcmlubzwvZGl2PicpWzBdOwogICAgICAgICAgICAgICAgcG9wdXBfNmRlMGY0NmFkNGYwNGRhOGI2ODNkODA2NWE1NTI5MWIuc2V0Q29udGVudChodG1sX2I3M2E4OWNjYjFiMzQ2Yjk5NWQxNjRkMGE2MjkyZGI3KTsKICAgICAgICAgICAgCgogICAgICAgICAgICBjaXJjbGVfbWFya2VyXzQ1NWRlNDBlZjc3MTRiOWVhYTdmMDA4MTc0MmU3OTNkLmJpbmRQb3B1cChwb3B1cF82ZGUwZjQ2YWQ0ZjA0ZGE4YjY4M2Q4MDY1YTU1MjkxYik7CgogICAgICAgICAgICAKICAgICAgICAKICAgIAogICAgICAgICAgICB2YXIgY2lyY2xlX21hcmtlcl83ZmE4NGRiMDk4Y2I0ODU4YjZmN2FmM2JlODFmMTczNSA9IEwuY2lyY2xlTWFya2VyKAogICAgICAgICAgICAgICAgWzQ0LjgxNzgxMzEsMjAuNDU2ODk3NF0sCiAgICAgICAgICAgICAgICB7CiAgImJ1YmJsaW5nTW91c2VFdmVudHMiOiB0cnVlLAogICJjb2xvciI6ICJyZWQiLAogICJkYXNoQXJyYXkiOiBudWxsLAogICJkYXNoT2Zmc2V0IjogbnVsbCwKICAiZmlsbCI6IHRydWUsCiAgImZpbGxDb2xvciI6ICJyZWQiLAogICJmaWxsT3BhY2l0eSI6IDAuNywKICAiZmlsbFJ1bGUiOiAiZXZlbm9kZCIsCiAgImxpbmVDYXAiOiAicm91bmQiLAogICJsaW5lSm9pbiI6ICJyb3VuZCIsCiAgIm9wYWNpdHkiOiAxLjAsCiAgInJhZGl1cyI6IDUsCiAgInN0cm9rZSI6IHRydWUsCiAgIndlaWdodCI6IDMKfQogICAgICAgICAgICAgICAgKS5hZGRUbyhtYXBfMGUyOTMzOWYyMDlkNGE4M2IzNzExZWFkZDE2ZjY5ZjkpOwogICAgICAgICAgICAKICAgIAogICAgICAgICAgICB2YXIgcG9wdXBfOWU0NWI0OWY4Yjc3NDc3ZmFiMjc0NDA0YWMzMDQ4MDkgPSBMLnBvcHVwKHttYXhXaWR0aDogJzMwMCd9KTsKCiAgICAgICAgICAgIAogICAgICAgICAgICAgICAgdmFyIGh0bWxfNDE4YTMyNjA1MTcwNGMyMjhhYzkxNzVmMTIxYTlmYjYgPSAkKCc8ZGl2IGlkPSJodG1sXzQxOGEzMjYwNTE3MDRjMjI4YWM5MTc1ZjEyMWE5ZmI2IiBzdHlsZT0id2lkdGg6IDEwMC4wJTsgaGVpZ2h0OiAxMDAuMCU7Ij5CZWxncmFkZSwgU2VyYmlhPC9kaXY+JylbMF07CiAgICAgICAgICAgICAgICBwb3B1cF85ZTQ1YjQ5ZjhiNzc0NzdmYWIyNzQ0MDRhYzMwNDgwOS5zZXRDb250ZW50KGh0bWxfNDE4YTMyNjA1MTcwNGMyMjhhYzkxNzVmMTIxYTlmYjYpOwogICAgICAgICAgICAKCiAgICAgICAgICAgIGNpcmNsZV9tYXJrZXJfN2ZhODRkYjA5OGNiNDg1OGI2ZjdhZjNiZTgxZjE3MzUuYmluZFBvcHVwKHBvcHVwXzllNDViNDlmOGI3NzQ3N2ZhYjI3NDQwNGFjMzA0ODA5KTsKCiAgICAgICAgICAgIAogICAgICAgIAogICAgCiAgICAgICAgICAgIHZhciBjaXJjbGVfbWFya2VyXzk0ZjgyM2E4OTFkODQyMzA4OTNiMDQ2Y2M4MTYwMjlkID0gTC5jaXJjbGVNYXJrZXIoCiAgICAgICAgICAgICAgICBbNDguMTM1OTA4NSwxNy4xNTk3NDQwNjI1XSwKICAgICAgICAgICAgICAgIHsKICAiYnViYmxpbmdNb3VzZUV2ZW50cyI6IHRydWUsCiAgImNvbG9yIjogInJlZCIsCiAgImRhc2hBcnJheSI6IG51bGwsCiAgImRhc2hPZmZzZXQiOiBudWxsLAogICJmaWxsIjogdHJ1ZSwKICAiZmlsbENvbG9yIjogInJlZCIsCiAgImZpbGxPcGFjaXR5IjogMC43LAogICJmaWxsUnVsZSI6ICJldmVub2RkIiwKICAibGluZUNhcCI6ICJyb3VuZCIsCiAgImxpbmVKb2luIjogInJvdW5kIiwKICAib3BhY2l0eSI6IDEuMCwKICAicmFkaXVzIjogNSwKICAic3Ryb2tlIjogdHJ1ZSwKICAid2VpZ2h0IjogMwp9CiAgICAgICAgICAgICAgICApLmFkZFRvKG1hcF8wZTI5MzM5ZjIwOWQ0YTgzYjM3MTFlYWRkMTZmNjlmOSk7CiAgICAgICAgICAgIAogICAgCiAgICAgICAgICAgIHZhciBwb3B1cF85NjhiODg2NGExMjY0YmNlODg0ZTMwNWY4NTgzMTMwNSA9IEwucG9wdXAoe21heFdpZHRoOiAnMzAwJ30pOwoKICAgICAgICAgICAgCiAgICAgICAgICAgICAgICB2YXIgaHRtbF9iOThlZThmNGI2Mzc0ZTYyYWQ3ZjliZTg4ZmZmOTU3NiA9ICQoJzxkaXYgaWQ9Imh0bWxfYjk4ZWU4ZjRiNjM3NGU2MmFkN2Y5YmU4OGZmZjk1NzYiIHN0eWxlPSJ3aWR0aDogMTAwLjAlOyBoZWlnaHQ6IDEwMC4wJTsiPkJyYXRpc2xhdmEsIFNsb3Zha2lhPC9kaXY+JylbMF07CiAgICAgICAgICAgICAgICBwb3B1cF85NjhiODg2NGExMjY0YmNlODg0ZTMwNWY4NTgzMTMwNS5zZXRDb250ZW50KGh0bWxfYjk4ZWU4ZjRiNjM3NGU2MmFkN2Y5YmU4OGZmZjk1NzYpOwogICAgICAgICAgICAKCiAgICAgICAgICAgIGNpcmNsZV9tYXJrZXJfOTRmODIzYTg5MWQ4NDIzMDg5M2IwNDZjYzgxNjAyOWQuYmluZFBvcHVwKHBvcHVwXzk2OGI4ODY0YTEyNjRiY2U4ODRlMzA1Zjg1ODMxMzA1KTsKCiAgICAgICAgICAgIAogICAgICAgIAogICAgCiAgICAgICAgICAgIHZhciBjaXJjbGVfbWFya2VyX2ExMGMzOWU4NjcwOTQyZWI4YjVjNTNkZDU0N2MxMGZhID0gTC5jaXJjbGVNYXJrZXIoCiAgICAgICAgICAgICAgICBbNDYuMDQ5ODE0NiwxNC41MDY3ODI0XSwKICAgICAgICAgICAgICAgIHsKICAiYnViYmxpbmdNb3VzZUV2ZW50cyI6IHRydWUsCiAgImNvbG9yIjogInJlZCIsCiAgImRhc2hBcnJheSI6IG51bGwsCiAgImRhc2hPZmZzZXQiOiBudWxsLAogICJmaWxsIjogdHJ1ZSwKICAiZmlsbENvbG9yIjogInJlZCIsCiAgImZpbGxPcGFjaXR5IjogMC43LAogICJmaWxsUnVsZSI6ICJldmVub2RkIiwKICAibGluZUNhcCI6ICJyb3VuZCIsCiAgImxpbmVKb2luIjogInJvdW5kIiwKICAib3BhY2l0eSI6IDEuMCwKICAicmFkaXVzIjogNSwKICAic3Ryb2tlIjogdHJ1ZSwKICAid2VpZ2h0IjogMwp9CiAgICAgICAgICAgICAgICApLmFkZFRvKG1hcF8wZTI5MzM5ZjIwOWQ0YTgzYjM3MTFlYWRkMTZmNjlmOSk7CiAgICAgICAgICAgIAogICAgCiAgICAgICAgICAgIHZhciBwb3B1cF81NDM4ZTEwNGNkNzM0M2ZjOTZkYzNkNTNjY2Q0ZTFhNyA9IEwucG9wdXAoe21heFdpZHRoOiAnMzAwJ30pOwoKICAgICAgICAgICAgCiAgICAgICAgICAgICAgICB2YXIgaHRtbF9iNGFlMTM2NTMyMzk0NzY4YmFjYWVjMTA1MTVlNzBmOSA9ICQoJzxkaXYgaWQ9Imh0bWxfYjRhZTEzNjUzMjM5NDc2OGJhY2FlYzEwNTE1ZTcwZjkiIHN0eWxlPSJ3aWR0aDogMTAwLjAlOyBoZWlnaHQ6IDEwMC4wJTsiPkxqdWJsamFuYSwgU2xvdmVuaWE8L2Rpdj4nKVswXTsKICAgICAgICAgICAgICAgIHBvcHVwXzU0MzhlMTA0Y2Q3MzQzZmM5NmRjM2Q1M2NjZDRlMWE3LnNldENvbnRlbnQoaHRtbF9iNGFlMTM2NTMyMzk0NzY4YmFjYWVjMTA1MTVlNzBmOSk7CiAgICAgICAgICAgIAoKICAgICAgICAgICAgY2lyY2xlX21hcmtlcl9hMTBjMzllODY3MDk0MmViOGI1YzUzZGQ1NDdjMTBmYS5iaW5kUG9wdXAocG9wdXBfNTQzOGUxMDRjZDczNDNmYzk2ZGMzZDUzY2NkNGUxYTcpOwoKICAgICAgICAgICAgCiAgICAgICAgCiAgICAKICAgICAgICAgICAgdmFyIGNpcmNsZV9tYXJrZXJfOWU5YzgzNmI2NTk5NGJlZDk2NGM1N2U2MDdhMjBmMDMgPSBMLmNpcmNsZU1hcmtlcigKICAgICAgICAgICAgICAgIFs0MC40MTY3MDQ3LC0zLjcwMzU4MjVdLAogICAgICAgICAgICAgICAgewogICJidWJibGluZ01vdXNlRXZlbnRzIjogdHJ1ZSwKICAiY29sb3IiOiAicmVkIiwKICAiZGFzaEFycmF5IjogbnVsbCwKICAiZGFzaE9mZnNldCI6IG51bGwsCiAgImZpbGwiOiB0cnVlLAogICJmaWxsQ29sb3IiOiAicmVkIiwKICAiZmlsbE9wYWNpdHkiOiAwLjcsCiAgImZpbGxSdWxlIjogImV2ZW5vZGQiLAogICJsaW5lQ2FwIjogInJvdW5kIiwKICAibGluZUpvaW4iOiAicm91bmQiLAogICJvcGFjaXR5IjogMS4wLAogICJyYWRpdXMiOiA1LAogICJzdHJva2UiOiB0cnVlLAogICJ3ZWlnaHQiOiAzCn0KICAgICAgICAgICAgICAgICkuYWRkVG8obWFwXzBlMjkzMzlmMjA5ZDRhODNiMzcxMWVhZGQxNmY2OWY5KTsKICAgICAgICAgICAgCiAgICAKICAgICAgICAgICAgdmFyIHBvcHVwXzFhYWRhMTRmYjZlNjQxYWJhNDJiMDBiNDg4ODJmOGFjID0gTC5wb3B1cCh7bWF4V2lkdGg6ICczMDAnfSk7CgogICAgICAgICAgICAKICAgICAgICAgICAgICAgIHZhciBodG1sX2Q5OWQ0NTVmNDc4MTQ3ZDQ5MjNkYjYzODI3ZjYyY2M5ID0gJCgnPGRpdiBpZD0iaHRtbF9kOTlkNDU1ZjQ3ODE0N2Q0OTIzZGI2MzgyN2Y2MmNjOSIgc3R5bGU9IndpZHRoOiAxMDAuMCU7IGhlaWdodDogMTAwLjAlOyI+TWFkcmlkLCBTcGFpbjwvZGl2PicpWzBdOwogICAgICAgICAgICAgICAgcG9wdXBfMWFhZGExNGZiNmU2NDFhYmE0MmIwMGI0ODg4MmY4YWMuc2V0Q29udGVudChodG1sX2Q5OWQ0NTVmNDc4MTQ3ZDQ5MjNkYjYzODI3ZjYyY2M5KTsKICAgICAgICAgICAgCgogICAgICAgICAgICBjaXJjbGVfbWFya2VyXzllOWM4MzZiNjU5OTRiZWQ5NjRjNTdlNjA3YTIwZjAzLmJpbmRQb3B1cChwb3B1cF8xYWFkYTE0ZmI2ZTY0MWFiYTQyYjAwYjQ4ODgyZjhhYyk7CgogICAgICAgICAgICAKICAgICAgICAKICAgIAogICAgICAgICAgICB2YXIgY2lyY2xlX21hcmtlcl8zNGI4OWQzZGVjYzc0ZjBjYTJmNTMxMjZkNTgwY2E5OCA9IEwuY2lyY2xlTWFya2VyKAogICAgICAgICAgICAgICAgWzU5LjMyNTExNzIsMTguMDcxMDkzNV0sCiAgICAgICAgICAgICAgICB7CiAgImJ1YmJsaW5nTW91c2VFdmVudHMiOiB0cnVlLAogICJjb2xvciI6ICJyZWQiLAogICJkYXNoQXJyYXkiOiBudWxsLAogICJkYXNoT2Zmc2V0IjogbnVsbCwKICAiZmlsbCI6IHRydWUsCiAgImZpbGxDb2xvciI6ICJyZWQiLAogICJmaWxsT3BhY2l0eSI6IDAuNywKICAiZmlsbFJ1bGUiOiAiZXZlbm9kZCIsCiAgImxpbmVDYXAiOiAicm91bmQiLAogICJsaW5lSm9pbiI6ICJyb3VuZCIsCiAgIm9wYWNpdHkiOiAxLjAsCiAgInJhZGl1cyI6IDUsCiAgInN0cm9rZSI6IHRydWUsCiAgIndlaWdodCI6IDMKfQogICAgICAgICAgICAgICAgKS5hZGRUbyhtYXBfMGUyOTMzOWYyMDlkNGE4M2IzNzExZWFkZDE2ZjY5ZjkpOwogICAgICAgICAgICAKICAgIAogICAgICAgICAgICB2YXIgcG9wdXBfZTk2ZWNhZTJlMTYxNDU3NTg4ZmZmMWM1ZmFjMzYxZTcgPSBMLnBvcHVwKHttYXhXaWR0aDogJzMwMCd9KTsKCiAgICAgICAgICAgIAogICAgICAgICAgICAgICAgdmFyIGh0bWxfZjhmNjdhNGZlYzEwNGY5MWE2OTJlZWNjNDQ4YjA4MmEgPSAkKCc8ZGl2IGlkPSJodG1sX2Y4ZjY3YTRmZWMxMDRmOTFhNjkyZWVjYzQ0OGIwODJhIiBzdHlsZT0id2lkdGg6IDEwMC4wJTsgaGVpZ2h0OiAxMDAuMCU7Ij5TdG9ja2hvbG0sIFN3ZWRlbjwvZGl2PicpWzBdOwogICAgICAgICAgICAgICAgcG9wdXBfZTk2ZWNhZTJlMTYxNDU3NTg4ZmZmMWM1ZmFjMzYxZTcuc2V0Q29udGVudChodG1sX2Y4ZjY3YTRmZWMxMDRmOTFhNjkyZWVjYzQ0OGIwODJhKTsKICAgICAgICAgICAgCgogICAgICAgICAgICBjaXJjbGVfbWFya2VyXzM0Yjg5ZDNkZWNjNzRmMGNhMmY1MzEyNmQ1ODBjYTk4LmJpbmRQb3B1cChwb3B1cF9lOTZlY2FlMmUxNjE0NTc1ODhmZmYxYzVmYWMzNjFlNyk7CgogICAgICAgICAgICAKICAgICAgICAKICAgIAogICAgICAgICAgICB2YXIgY2lyY2xlX21hcmtlcl8yNjJhMDY3NTQ5OWI0NGY0YTA5YTU2YzA4MWZiYWYwZSA9IEwuY2lyY2xlTWFya2VyKAogICAgICAgICAgICAgICAgWzQ2Ljk0ODI3MTMsNy40NTE0NTEyXSwKICAgICAgICAgICAgICAgIHsKICAiYnViYmxpbmdNb3VzZUV2ZW50cyI6IHRydWUsCiAgImNvbG9yIjogInJlZCIsCiAgImRhc2hBcnJheSI6IG51bGwsCiAgImRhc2hPZmZzZXQiOiBudWxsLAogICJmaWxsIjogdHJ1ZSwKICAiZmlsbENvbG9yIjogInJlZCIsCiAgImZpbGxPcGFjaXR5IjogMC43LAogICJmaWxsUnVsZSI6ICJldmVub2RkIiwKICAibGluZUNhcCI6ICJyb3VuZCIsCiAgImxpbmVKb2luIjogInJvdW5kIiwKICAib3BhY2l0eSI6IDEuMCwKICAicmFkaXVzIjogNSwKICAic3Ryb2tlIjogdHJ1ZSwKICAid2VpZ2h0IjogMwp9CiAgICAgICAgICAgICAgICApLmFkZFRvKG1hcF8wZTI5MzM5ZjIwOWQ0YTgzYjM3MTFlYWRkMTZmNjlmOSk7CiAgICAgICAgICAgIAogICAgCiAgICAgICAgICAgIHZhciBwb3B1cF85ZTIyZmM3YWMwNmM0ODA1ODdmM2VjNzI0Y2FiZTc2ZSA9IEwucG9wdXAoe21heFdpZHRoOiAnMzAwJ30pOwoKICAgICAgICAgICAgCiAgICAgICAgICAgICAgICB2YXIgaHRtbF9hMzRkNDlhMmM2YmI0YjBhOTdkNjI5NjI5ZTAxOTg5NiA9ICQoJzxkaXYgaWQ9Imh0bWxfYTM0ZDQ5YTJjNmJiNGIwYTk3ZDYyOTYyOWUwMTk4OTYiIHN0eWxlPSJ3aWR0aDogMTAwLjAlOyBoZWlnaHQ6IDEwMC4wJTsiPkJlcm4sIFN3aXR6ZXJsYW5kPC9kaXY+JylbMF07CiAgICAgICAgICAgICAgICBwb3B1cF85ZTIyZmM3YWMwNmM0ODA1ODdmM2VjNzI0Y2FiZTc2ZS5zZXRDb250ZW50KGh0bWxfYTM0ZDQ5YTJjNmJiNGIwYTk3ZDYyOTYyOWUwMTk4OTYpOwogICAgICAgICAgICAKCiAgICAgICAgICAgIGNpcmNsZV9tYXJrZXJfMjYyYTA2NzU0OTliNDRmNGEwOWE1NmMwODFmYmFmMGUuYmluZFBvcHVwKHBvcHVwXzllMjJmYzdhYzA2YzQ4MDU4N2YzZWM3MjRjYWJlNzZlKTsKCiAgICAgICAgICAgIAogICAgICAgIAogICAgCiAgICAgICAgICAgIHZhciBjaXJjbGVfbWFya2VyX2E3NzIwNzIwYjdjODQ0ZDlhZDRkMGJjNjdiMDViOTQxID0gTC5jaXJjbGVNYXJrZXIoCiAgICAgICAgICAgICAgICBbMzkuOTIwNzQ1NiwzMi44NTQwOTA1XSwKICAgICAgICAgICAgICAgIHsKICAiYnViYmxpbmdNb3VzZUV2ZW50cyI6IHRydWUsCiAgImNvbG9yIjogInJlZCIsCiAgImRhc2hBcnJheSI6IG51bGwsCiAgImRhc2hPZmZzZXQiOiBudWxsLAogICJmaWxsIjogdHJ1ZSwKICAiZmlsbENvbG9yIjogInJlZCIsCiAgImZpbGxPcGFjaXR5IjogMC43LAogICJmaWxsUnVsZSI6ICJldmVub2RkIiwKICAibGluZUNhcCI6ICJyb3VuZCIsCiAgImxpbmVKb2luIjogInJvdW5kIiwKICAib3BhY2l0eSI6IDEuMCwKICAicmFkaXVzIjogNSwKICAic3Ryb2tlIjogdHJ1ZSwKICAid2VpZ2h0IjogMwp9CiAgICAgICAgICAgICAgICApLmFkZFRvKG1hcF8wZTI5MzM5ZjIwOWQ0YTgzYjM3MTFlYWRkMTZmNjlmOSk7CiAgICAgICAgICAgIAogICAgCiAgICAgICAgICAgIHZhciBwb3B1cF8xN2IxNTkwZDYxOWU0MWEwOGUyZTU2NGIwYTgxM2M1ZCA9IEwucG9wdXAoe21heFdpZHRoOiAnMzAwJ30pOwoKICAgICAgICAgICAgCiAgICAgICAgICAgICAgICB2YXIgaHRtbF84OWRmZWI3YTNhNjg0ZmM1YTc3NGQ0OTU2N2VjMDFhNSA9ICQoJzxkaXYgaWQ9Imh0bWxfODlkZmViN2EzYTY4NGZjNWE3NzRkNDk1NjdlYzAxYTUiIHN0eWxlPSJ3aWR0aDogMTAwLjAlOyBoZWlnaHQ6IDEwMC4wJTsiPkFua2FyYSwgVHVya2V5PC9kaXY+JylbMF07CiAgICAgICAgICAgICAgICBwb3B1cF8xN2IxNTkwZDYxOWU0MWEwOGUyZTU2NGIwYTgxM2M1ZC5zZXRDb250ZW50KGh0bWxfODlkZmViN2EzYTY4NGZjNWE3NzRkNDk1NjdlYzAxYTUpOwogICAgICAgICAgICAKCiAgICAgICAgICAgIGNpcmNsZV9tYXJrZXJfYTc3MjA3MjBiN2M4NDRkOWFkNGQwYmM2N2IwNWI5NDEuYmluZFBvcHVwKHBvcHVwXzE3YjE1OTBkNjE5ZTQxYTA4ZTJlNTY0YjBhODEzYzVkKTsKCiAgICAgICAgICAgIAogICAgICAgIAogICAgCiAgICAgICAgICAgIHZhciBjaXJjbGVfbWFya2VyX2YxNjI4OTVkNzUyZTRhZmY4ZTgwY2UzMmEzYzJkYzI1ID0gTC5jaXJjbGVNYXJrZXIoCiAgICAgICAgICAgICAgICBbNTAuNDUwMDY0NCwzMC41MjQxMDM3XSwKICAgICAgICAgICAgICAgIHsKICAiYnViYmxpbmdNb3VzZUV2ZW50cyI6IHRydWUsCiAgImNvbG9yIjogInJlZCIsCiAgImRhc2hBcnJheSI6IG51bGwsCiAgImRhc2hPZmZzZXQiOiBudWxsLAogICJmaWxsIjogdHJ1ZSwKICAiZmlsbENvbG9yIjogInJlZCIsCiAgImZpbGxPcGFjaXR5IjogMC43LAogICJmaWxsUnVsZSI6ICJldmVub2RkIiwKICAibGluZUNhcCI6ICJyb3VuZCIsCiAgImxpbmVKb2luIjogInJvdW5kIiwKICAib3BhY2l0eSI6IDEuMCwKICAicmFkaXVzIjogNSwKICAic3Ryb2tlIjogdHJ1ZSwKICAid2VpZ2h0IjogMwp9CiAgICAgICAgICAgICAgICApLmFkZFRvKG1hcF8wZTI5MzM5ZjIwOWQ0YTgzYjM3MTFlYWRkMTZmNjlmOSk7CiAgICAgICAgICAgIAogICAgCiAgICAgICAgICAgIHZhciBwb3B1cF81NTliM2E2YmNjZDI0NGRmOTM2YzYwMzc1ODJjOGE4NyA9IEwucG9wdXAoe21heFdpZHRoOiAnMzAwJ30pOwoKICAgICAgICAgICAgCiAgICAgICAgICAgICAgICB2YXIgaHRtbF9iZjMzNjNlZjhkMDY0MjdlODNkNzJiYTY2MGFhMzMzYyA9ICQoJzxkaXYgaWQ9Imh0bWxfYmYzMzYzZWY4ZDA2NDI3ZTgzZDcyYmE2NjBhYTMzM2MiIHN0eWxlPSJ3aWR0aDogMTAwLjAlOyBoZWlnaHQ6IDEwMC4wJTsiPktpZXYsIFVrcmFpbmU8L2Rpdj4nKVswXTsKICAgICAgICAgICAgICAgIHBvcHVwXzU1OWIzYTZiY2NkMjQ0ZGY5MzZjNjAzNzU4MmM4YTg3LnNldENvbnRlbnQoaHRtbF9iZjMzNjNlZjhkMDY0MjdlODNkNzJiYTY2MGFhMzMzYyk7CiAgICAgICAgICAgIAoKICAgICAgICAgICAgY2lyY2xlX21hcmtlcl9mMTYyODk1ZDc1MmU0YWZmOGU4MGNlMzJhM2MyZGMyNS5iaW5kUG9wdXAocG9wdXBfNTU5YjNhNmJjY2QyNDRkZjkzNmM2MDM3NTgyYzhhODcpOwoKICAgICAgICAgICAgCiAgICAgICAgCiAgICAKICAgICAgICAgICAgdmFyIGNpcmNsZV9tYXJrZXJfYWMwYTYxYjhiNmRiNDcxYWIyNmM2ZGQ5OThjYzhlMDMgPSBMLmNpcmNsZU1hcmtlcigKICAgICAgICAgICAgICAgIFs1MS41MDczMjE5LC0wLjEyNzY0NzRdLAogICAgICAgICAgICAgICAgewogICJidWJibGluZ01vdXNlRXZlbnRzIjogdHJ1ZSwKICAiY29sb3IiOiAicmVkIiwKICAiZGFzaEFycmF5IjogbnVsbCwKICAiZGFzaE9mZnNldCI6IG51bGwsCiAgImZpbGwiOiB0cnVlLAogICJmaWxsQ29sb3IiOiAicmVkIiwKICAiZmlsbE9wYWNpdHkiOiAwLjcsCiAgImZpbGxSdWxlIjogImV2ZW5vZGQiLAogICJsaW5lQ2FwIjogInJvdW5kIiwKICAibGluZUpvaW4iOiAicm91bmQiLAogICJvcGFjaXR5IjogMS4wLAogICJyYWRpdXMiOiA1LAogICJzdHJva2UiOiB0cnVlLAogICJ3ZWlnaHQiOiAzCn0KICAgICAgICAgICAgICAgICkuYWRkVG8obWFwXzBlMjkzMzlmMjA5ZDRhODNiMzcxMWVhZGQxNmY2OWY5KTsKICAgICAgICAgICAgCiAgICAKICAgICAgICAgICAgdmFyIHBvcHVwX2FiNmE1NmJkODg5NzRjMzY5MTE1ZGQ2MjBlNjVmOWY3ID0gTC5wb3B1cCh7bWF4V2lkdGg6ICczMDAnfSk7CgogICAgICAgICAgICAKICAgICAgICAgICAgICAgIHZhciBodG1sXzE4NjVkNTcwY2FiZjQzYjJiNmE2ODM0NzIwMTQxN2FkID0gJCgnPGRpdiBpZD0iaHRtbF8xODY1ZDU3MGNhYmY0M2IyYjZhNjgzNDcyMDE0MTdhZCIgc3R5bGU9IndpZHRoOiAxMDAuMCU7IGhlaWdodDogMTAwLjAlOyI+TG9uZG9uLCBVbml0ZWQgS2luZ2RvbTwvZGl2PicpWzBdOwogICAgICAgICAgICAgICAgcG9wdXBfYWI2YTU2YmQ4ODk3NGMzNjkxMTVkZDYyMGU2NWY5Zjcuc2V0Q29udGVudChodG1sXzE4NjVkNTcwY2FiZjQzYjJiNmE2ODM0NzIwMTQxN2FkKTsKICAgICAgICAgICAgCgogICAgICAgICAgICBjaXJjbGVfbWFya2VyX2FjMGE2MWI4YjZkYjQ3MWFiMjZjNmRkOTk4Y2M4ZTAzLmJpbmRQb3B1cChwb3B1cF9hYjZhNTZiZDg4OTc0YzM2OTExNWRkNjIwZTY1ZjlmNyk7CgogICAgICAgICAgICAKICAgICAgICAKPC9zY3JpcHQ+\" style=\"position:absolute;width:100%;height:100%;left:0;top:0;border:none !important;\" allowfullscreen webkitallowfullscreen mozallowfullscreen></iframe></div></div>"
      ],
      "text/plain": [
       "<folium.folium.Map at 0x7f8c85ac6a20>"
      ]
     },
     "execution_count": 9,
     "metadata": {},
     "output_type": "execute_result"
    }
   ],
   "source": [
    "adress = \"Europe\"\n",
    "geolocator = Nominatim(user_agent = \"europe_explorer\",timeout=3)\n",
    "local = geolocator.geocode(adress)\n",
    "latitude = local.latitude\n",
    "longitude = local.longitude\n",
    "print(latitude,longitude)\n",
    "europe = folium.Map(location=[latitude,longitude], zoom_start = 3)\n",
    "for lat,long,country,city in zip(df_europe['Latitude'],df_europe['Longitude'],df_europe['Country'],df_europe['Capital']):\n",
    "    label = \"{}, {}\".format(city,country)\n",
    "    label = folium.Popup(label, parse_html=True)\n",
    "    folium.CircleMarker(\n",
    "        [lat,long],\n",
    "        radius = 5,\n",
    "        popup = label,\n",
    "        color= 'red',\n",
    "        fill = True,\n",
    "        fill_opacity=0.7,\n",
    "        parse_html= False).add_to(europe)\n",
    "europe"
   ]
  },
  {
   "cell_type": "markdown",
   "metadata": {},
   "source": [
    "## 3. Using the Fousquare API to colect the venues"
   ]
  },
  {
   "cell_type": "markdown",
   "metadata": {},
   "source": [
    "### Setting the Fousquare parameters \n",
    "Note: The Foursquare_Developer.json is a file in my local machine that contain My client_Id and the my client_secret for the Foursquare API."
   ]
  },
  {
   "cell_type": "code",
   "execution_count": 10,
   "metadata": {},
   "outputs": [],
   "source": [
    "with open('Foursquare_Developer.json') as fs:\n",
    "    credentials = json.load(fs)\n",
    "CLIENT_ID = credentials[\"Client ID\"] \n",
    "CLIENT_SECRET = credentials[\"Client SECRET\"] \n",
    "VERSION = '20180605'\n",
    "RADIUS = 20000\n",
    "LIMIT = 200"
   ]
  },
  {
   "cell_type": "markdown",
   "metadata": {},
   "source": [
    "The function below, makes requests to the API to get the nearby venues for each latitude and longitude given and return a dataframe with the data."
   ]
  },
  {
   "cell_type": "code",
   "execution_count": 11,
   "metadata": {},
   "outputs": [],
   "source": [
    "def getNearbyVenues(countries, cities, latitudes, longitudes, radius):\n",
    "    \n",
    "    venues_list=[]\n",
    "    section = ['food','drinks','coffee','shops','arts','outdoors','sights'] \n",
    "    for country, city, lat, lng in zip(countries, cities, latitudes, longitudes):\n",
    "        print(country)\n",
    "        for s in section:\n",
    "            # create the API request URL\n",
    "            url = 'https://api.foursquare.com/v2/venues/explore?&client_id={}&client_secret={}&v={}&ll={},{}&radius={}&limit={}&section={}'.format(\n",
    "                CLIENT_ID, \n",
    "                CLIENT_SECRET, \n",
    "                VERSION, \n",
    "                lat, \n",
    "                lng, \n",
    "                radius, \n",
    "                LIMIT)\n",
    "            \n",
    "            # make the GET request\n",
    "            try:\n",
    "                results = requests.get(url).json()[\"response\"]['groups'][0]['items']\n",
    "            except:\n",
    "                print(requests.get(url).json())\n",
    "            # return only relevant information for each nearby venue\n",
    "            venues_list.append([(\n",
    "                country,\n",
    "                city, \n",
    "                lat, \n",
    "                lng,\n",
    "                v['venue']['name'], \n",
    "                v['venue']['location']['lat'], \n",
    "                v['venue']['location']['lng'],  \n",
    "                v['venue']['categories'][0]['name'],\n",
    "                v['venue']['id']) for v in results])\n",
    "\n",
    "    nearby_venues = pd.DataFrame([item for venue_list in venues_list for item in venue_list])\n",
    "    nearby_venues.columns = ['Country',\n",
    "                             'Capital', \n",
    "                  'Capital Latitude', \n",
    "                  'Capital Longitude', \n",
    "                  'Venue', \n",
    "                  'Venue Latitude', \n",
    "                  'Venue Longitude', \n",
    "                  'Venue Category',\n",
    "                 'Venue Id']\n",
    "    \n",
    "    return(nearby_venues)"
   ]
  },
  {
   "cell_type": "markdown",
   "metadata": {},
   "source": [
    "Calling the function above for each neighborhood in our datframe to get the venues"
   ]
  },
  {
   "cell_type": "code",
   "execution_count": null,
   "metadata": {},
   "outputs": [],
   "source": [
    "europe_venues = getNearbyVenues(countries =df_europe['Country'],\n",
    "                                cities = df_europe['Capital'], \n",
    "                               latitudes= df_europe['Latitude'],\n",
    "                               longitudes=df_europe['Longitude'], radius = RADIUS)\n",
    "europe_venues.shape"
   ]
  },
  {
   "cell_type": "markdown",
   "metadata": {},
   "source": [
    "### Removing Possible Duplicates\n"
   ]
  },
  {
   "cell_type": "code",
   "execution_count": 43,
   "metadata": {},
   "outputs": [
    {
     "name": "stdout",
     "output_type": "stream",
     "text": [
      "(31148, 8)\n",
      "(25322, 8)\n"
     ]
    }
   ],
   "source": [
    "print(europe_venues.shape)\n",
    "europe_venues = europe_venues.drop_duplicates()\n",
    "print(europe_venues.shape)"
   ]
  },
  {
   "cell_type": "code",
   "execution_count": null,
   "metadata": {
    "scrolled": false
   },
   "outputs": [],
   "source": [
    "## Unmark the comments in case you want to explore the data.\n",
    "# pd.set_option('display.max_rows', 600)\n",
    "# europe_venues.loc[europe_venues['Capital']== 'Lisbon'].head(10)"
   ]
  },
  {
   "cell_type": "markdown",
   "metadata": {},
   "source": [
    "### Writing our Data in a File"
   ]
  },
  {
   "cell_type": "code",
   "execution_count": 44,
   "metadata": {},
   "outputs": [
    {
     "data": {
      "text/plain": [
       "(25322, 8)"
      ]
     },
     "execution_count": 44,
     "metadata": {},
     "output_type": "execute_result"
    }
   ],
   "source": [
    "europe_venues.to_csv('europe_venues_complete.csv')\n",
    "europe_venues.shape"
   ]
  }
 ],
 "metadata": {
  "kernelspec": {
   "display_name": "Python 3",
   "language": "python",
   "name": "python3"
  },
  "language_info": {
   "codemirror_mode": {
    "name": "ipython",
    "version": 3
   },
   "file_extension": ".py",
   "mimetype": "text/x-python",
   "name": "python",
   "nbconvert_exporter": "python",
   "pygments_lexer": "ipython3",
   "version": "3.7.1"
  }
 },
 "nbformat": 4,
 "nbformat_minor": 2
}
